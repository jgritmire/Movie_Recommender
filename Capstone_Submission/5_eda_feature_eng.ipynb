{
 "cells": [
  {
   "cell_type": "code",
   "execution_count": 5,
   "id": "ec05ff3c",
   "metadata": {
    "ExecuteTime": {
     "end_time": "2022-04-10T18:09:01.519263Z",
     "start_time": "2022-04-10T18:09:01.513279Z"
    }
   },
   "outputs": [],
   "source": [
    "import pandas as pd\n",
    "import numpy as np\n",
    "import matplotlib.pyplot as plt"
   ]
  },
  {
   "cell_type": "code",
   "execution_count": 6,
   "id": "a123ea8c",
   "metadata": {
    "ExecuteTime": {
     "end_time": "2022-04-10T18:09:01.901240Z",
     "start_time": "2022-04-10T18:09:01.520261Z"
    }
   },
   "outputs": [],
   "source": [
    "movies = pd.read_csv('./data/data_for_eda.csv')\n",
    "movies.drop(columns=['Unnamed: 0'], inplace = True)"
   ]
  },
  {
   "cell_type": "code",
   "execution_count": 7,
   "id": "08fc75cd",
   "metadata": {
    "ExecuteTime": {
     "end_time": "2022-04-10T18:09:01.917198Z",
     "start_time": "2022-04-10T18:09:01.902238Z"
    }
   },
   "outputs": [
    {
     "data": {
      "text/plain": [
       "Index(['tconst', 'primary_title', 'release_year', 'runtime', 'rating', 'votes',\n",
       "       'tomato_score', 'metacritic_score', 'mpaa_rating', 'plot', 'genre_1',\n",
       "       'genre_2', 'genre_3', 'director_1', 'director_2', 'director_3',\n",
       "       'writer_1', 'writer_2', 'writer_3', 'cast_1', 'cast_2', 'cast_3',\n",
       "       'cast_4', 'cast_5', 'cast_6', 'cast_7', 'cast_8', 'cast_9', 'cast_10',\n",
       "       'plot_polarity'],\n",
       "      dtype='object')"
      ]
     },
     "execution_count": 7,
     "metadata": {},
     "output_type": "execute_result"
    }
   ],
   "source": [
    "movies.columns"
   ]
  },
  {
   "cell_type": "code",
   "execution_count": 8,
   "id": "993d040a",
   "metadata": {
    "ExecuteTime": {
     "end_time": "2022-04-10T18:09:01.949112Z",
     "start_time": "2022-04-10T18:09:01.918196Z"
    }
   },
   "outputs": [
    {
     "data": {
      "text/html": [
       "<div>\n",
       "<style scoped>\n",
       "    .dataframe tbody tr th:only-of-type {\n",
       "        vertical-align: middle;\n",
       "    }\n",
       "\n",
       "    .dataframe tbody tr th {\n",
       "        vertical-align: top;\n",
       "    }\n",
       "\n",
       "    .dataframe thead th {\n",
       "        text-align: right;\n",
       "    }\n",
       "</style>\n",
       "<table border=\"1\" class=\"dataframe\">\n",
       "  <thead>\n",
       "    <tr style=\"text-align: right;\">\n",
       "      <th></th>\n",
       "      <th>tconst</th>\n",
       "      <th>primary_title</th>\n",
       "      <th>release_year</th>\n",
       "      <th>runtime</th>\n",
       "      <th>rating</th>\n",
       "      <th>votes</th>\n",
       "      <th>tomato_score</th>\n",
       "      <th>metacritic_score</th>\n",
       "      <th>mpaa_rating</th>\n",
       "      <th>plot</th>\n",
       "      <th>...</th>\n",
       "      <th>cast_2</th>\n",
       "      <th>cast_3</th>\n",
       "      <th>cast_4</th>\n",
       "      <th>cast_5</th>\n",
       "      <th>cast_6</th>\n",
       "      <th>cast_7</th>\n",
       "      <th>cast_8</th>\n",
       "      <th>cast_9</th>\n",
       "      <th>cast_10</th>\n",
       "      <th>plot_polarity</th>\n",
       "    </tr>\n",
       "  </thead>\n",
       "  <tbody>\n",
       "    <tr>\n",
       "      <th>0</th>\n",
       "      <td>tt0111161</td>\n",
       "      <td>The Shawshank Redemption</td>\n",
       "      <td>1994</td>\n",
       "      <td>142</td>\n",
       "      <td>9.3</td>\n",
       "      <td>2540263</td>\n",
       "      <td>91%</td>\n",
       "      <td>80/100</td>\n",
       "      <td>R</td>\n",
       "      <td>in 1947 portland, maine, banker andy dufresne ...</td>\n",
       "      <td>...</td>\n",
       "      <td>209.0</td>\n",
       "      <td>151.0</td>\n",
       "      <td>348409.0</td>\n",
       "      <td>6669.0</td>\n",
       "      <td>1104.0</td>\n",
       "      <td>175.0</td>\n",
       "      <td>555550.0</td>\n",
       "      <td>2353.0</td>\n",
       "      <td>5683.0</td>\n",
       "      <td>0.018280</td>\n",
       "    </tr>\n",
       "    <tr>\n",
       "      <th>1</th>\n",
       "      <td>tt0468569</td>\n",
       "      <td>The Dark Knight</td>\n",
       "      <td>2008</td>\n",
       "      <td>152</td>\n",
       "      <td>9.0</td>\n",
       "      <td>2490570</td>\n",
       "      <td>94%</td>\n",
       "      <td>84/100</td>\n",
       "      <td>PG-13</td>\n",
       "      <td>a gang of criminals rob a gotham city mob bank...</td>\n",
       "      <td>...</td>\n",
       "      <td>288.0</td>\n",
       "      <td>5132.0</td>\n",
       "      <td>1173.0</td>\n",
       "      <td>323.0</td>\n",
       "      <td>634240.0</td>\n",
       "      <td>634300.0</td>\n",
       "      <td>275286.0</td>\n",
       "      <td>4170.0</td>\n",
       "      <td>650038.0</td>\n",
       "      <td>0.042357</td>\n",
       "    </tr>\n",
       "    <tr>\n",
       "      <th>2</th>\n",
       "      <td>tt1375666</td>\n",
       "      <td>Inception</td>\n",
       "      <td>2010</td>\n",
       "      <td>148</td>\n",
       "      <td>8.8</td>\n",
       "      <td>2231336</td>\n",
       "      <td>87%</td>\n",
       "      <td>74/100</td>\n",
       "      <td>PG-13</td>\n",
       "      <td>dominick \"dom\" cobb and arthur are \"extractors...</td>\n",
       "      <td>...</td>\n",
       "      <td>138.0</td>\n",
       "      <td>330687.0</td>\n",
       "      <td>680983.0</td>\n",
       "      <td>913822.0</td>\n",
       "      <td>634240.0</td>\n",
       "      <td>858799.0</td>\n",
       "      <td>1877.0</td>\n",
       "      <td>2892.0</td>\n",
       "      <td>809059.0</td>\n",
       "      <td>0.029848</td>\n",
       "    </tr>\n",
       "    <tr>\n",
       "      <th>3</th>\n",
       "      <td>tt0137523</td>\n",
       "      <td>Fight Club</td>\n",
       "      <td>1999</td>\n",
       "      <td>139</td>\n",
       "      <td>8.8</td>\n",
       "      <td>1999188</td>\n",
       "      <td>79%</td>\n",
       "      <td>66/100</td>\n",
       "      <td>R</td>\n",
       "      <td>the narrator, an automobile recall specialist,...</td>\n",
       "      <td>...</td>\n",
       "      <td>93.0</td>\n",
       "      <td>1570.0</td>\n",
       "      <td>1533.0</td>\n",
       "      <td>340260.0</td>\n",
       "      <td>399.0</td>\n",
       "      <td>657333.0</td>\n",
       "      <td>880243.0</td>\n",
       "      <td>68501.0</td>\n",
       "      <td>149556.0</td>\n",
       "      <td>-0.008166</td>\n",
       "    </tr>\n",
       "    <tr>\n",
       "      <th>4</th>\n",
       "      <td>tt0109830</td>\n",
       "      <td>Forrest Gump</td>\n",
       "      <td>1994</td>\n",
       "      <td>142</td>\n",
       "      <td>8.8</td>\n",
       "      <td>1960064</td>\n",
       "      <td>70%</td>\n",
       "      <td>82/100</td>\n",
       "      <td>PG-13</td>\n",
       "      <td>in 1981, at a bus stop in savannah, georgia, a...</td>\n",
       "      <td>...</td>\n",
       "      <td>158.0</td>\n",
       "      <td>705.0</td>\n",
       "      <td>641.0</td>\n",
       "      <td>398.0</td>\n",
       "      <td>709.0</td>\n",
       "      <td>343165.0</td>\n",
       "      <td>744839.0</td>\n",
       "      <td>277704.0</td>\n",
       "      <td>823330.0</td>\n",
       "      <td>0.079285</td>\n",
       "    </tr>\n",
       "  </tbody>\n",
       "</table>\n",
       "<p>5 rows × 30 columns</p>\n",
       "</div>"
      ],
      "text/plain": [
       "      tconst             primary_title  release_year  runtime  rating  \\\n",
       "0  tt0111161  The Shawshank Redemption          1994      142     9.3   \n",
       "1  tt0468569           The Dark Knight          2008      152     9.0   \n",
       "2  tt1375666                 Inception          2010      148     8.8   \n",
       "3  tt0137523                Fight Club          1999      139     8.8   \n",
       "4  tt0109830              Forrest Gump          1994      142     8.8   \n",
       "\n",
       "     votes tomato_score metacritic_score mpaa_rating  \\\n",
       "0  2540263          91%           80/100           R   \n",
       "1  2490570          94%           84/100       PG-13   \n",
       "2  2231336          87%           74/100       PG-13   \n",
       "3  1999188          79%           66/100           R   \n",
       "4  1960064          70%           82/100       PG-13   \n",
       "\n",
       "                                                plot  ... cast_2    cast_3  \\\n",
       "0  in 1947 portland, maine, banker andy dufresne ...  ...  209.0     151.0   \n",
       "1  a gang of criminals rob a gotham city mob bank...  ...  288.0    5132.0   \n",
       "2  dominick \"dom\" cobb and arthur are \"extractors...  ...  138.0  330687.0   \n",
       "3  the narrator, an automobile recall specialist,...  ...   93.0    1570.0   \n",
       "4  in 1981, at a bus stop in savannah, georgia, a...  ...  158.0     705.0   \n",
       "\n",
       "     cast_4    cast_5    cast_6    cast_7    cast_8    cast_9   cast_10  \\\n",
       "0  348409.0    6669.0    1104.0     175.0  555550.0    2353.0    5683.0   \n",
       "1    1173.0     323.0  634240.0  634300.0  275286.0    4170.0  650038.0   \n",
       "2  680983.0  913822.0  634240.0  858799.0    1877.0    2892.0  809059.0   \n",
       "3    1533.0  340260.0     399.0  657333.0  880243.0   68501.0  149556.0   \n",
       "4     641.0     398.0     709.0  343165.0  744839.0  277704.0  823330.0   \n",
       "\n",
       "   plot_polarity  \n",
       "0       0.018280  \n",
       "1       0.042357  \n",
       "2       0.029848  \n",
       "3      -0.008166  \n",
       "4       0.079285  \n",
       "\n",
       "[5 rows x 30 columns]"
      ]
     },
     "execution_count": 8,
     "metadata": {},
     "output_type": "execute_result"
    }
   ],
   "source": [
    "movies.head()"
   ]
  },
  {
   "cell_type": "code",
   "execution_count": 9,
   "id": "07f8510f",
   "metadata": {
    "ExecuteTime": {
     "end_time": "2022-04-10T18:09:01.965070Z",
     "start_time": "2022-04-10T18:09:01.950111Z"
    }
   },
   "outputs": [
    {
     "data": {
      "text/plain": [
       "Index(['tconst', 'primary_title', 'release_year', 'runtime', 'rating', 'votes',\n",
       "       'tomato_score', 'metacritic_score', 'mpaa_rating', 'plot', 'genre_1',\n",
       "       'genre_2', 'genre_3', 'director_1', 'director_2', 'director_3',\n",
       "       'writer_1', 'writer_2', 'writer_3', 'cast_1', 'cast_2', 'cast_3',\n",
       "       'cast_4', 'cast_5', 'cast_6', 'cast_7', 'cast_8', 'cast_9', 'cast_10',\n",
       "       'plot_polarity'],\n",
       "      dtype='object')"
      ]
     },
     "execution_count": 9,
     "metadata": {},
     "output_type": "execute_result"
    }
   ],
   "source": [
    "movies.columns"
   ]
  },
  {
   "cell_type": "code",
   "execution_count": 10,
   "id": "9d4eb7d5",
   "metadata": {
    "ExecuteTime": {
     "end_time": "2022-04-10T18:09:01.981027Z",
     "start_time": "2022-04-10T18:09:01.966067Z"
    }
   },
   "outputs": [
    {
     "data": {
      "text/plain": [
       "tconst               object\n",
       "primary_title        object\n",
       "release_year          int64\n",
       "runtime               int64\n",
       "rating              float64\n",
       "votes                 int64\n",
       "tomato_score         object\n",
       "metacritic_score     object\n",
       "mpaa_rating          object\n",
       "plot                 object\n",
       "genre_1              object\n",
       "genre_2              object\n",
       "genre_3              object\n",
       "director_1           object\n",
       "director_2           object\n",
       "director_3           object\n",
       "writer_1             object\n",
       "writer_2             object\n",
       "writer_3             object\n",
       "cast_1                int64\n",
       "cast_2              float64\n",
       "cast_3              float64\n",
       "cast_4              float64\n",
       "cast_5              float64\n",
       "cast_6              float64\n",
       "cast_7              float64\n",
       "cast_8              float64\n",
       "cast_9              float64\n",
       "cast_10             float64\n",
       "plot_polarity       float64\n",
       "dtype: object"
      ]
     },
     "execution_count": 10,
     "metadata": {},
     "output_type": "execute_result"
    }
   ],
   "source": [
    "movies.dtypes"
   ]
  },
  {
   "cell_type": "code",
   "execution_count": 11,
   "id": "5ef996f8",
   "metadata": {
    "ExecuteTime": {
     "end_time": "2022-04-10T18:09:02.043858Z",
     "start_time": "2022-04-10T18:09:01.982025Z"
    }
   },
   "outputs": [],
   "source": [
    "#the unique identifiers for cast are all reading in as ints, but should be strings\n",
    "\n",
    "for i in range(1,11):\n",
    "    movies['cast_'+str(i)] = movies['cast_'+str(i)].apply(lambda x: str(x))\n",
    "    \n",
    "#the review scores are reading as objects but should be floats\n",
    "\n",
    "movies['tomato_score'] = movies['tomato_score'].apply(\n",
    "    lambda x: str(x).replace('%','')).astype('float')\n",
    "\n",
    "movies['metacritic_score'] = movies['metacritic_score']"
   ]
  },
  {
   "cell_type": "code",
   "execution_count": 12,
   "id": "da8fd4ec",
   "metadata": {
    "ExecuteTime": {
     "end_time": "2022-04-10T18:09:02.075773Z",
     "start_time": "2022-04-10T18:09:02.044856Z"
    },
    "scrolled": true
   },
   "outputs": [
    {
     "data": {
      "text/html": [
       "<div>\n",
       "<style scoped>\n",
       "    .dataframe tbody tr th:only-of-type {\n",
       "        vertical-align: middle;\n",
       "    }\n",
       "\n",
       "    .dataframe tbody tr th {\n",
       "        vertical-align: top;\n",
       "    }\n",
       "\n",
       "    .dataframe thead th {\n",
       "        text-align: right;\n",
       "    }\n",
       "</style>\n",
       "<table border=\"1\" class=\"dataframe\">\n",
       "  <thead>\n",
       "    <tr style=\"text-align: right;\">\n",
       "      <th></th>\n",
       "      <th>release_year</th>\n",
       "      <th>runtime</th>\n",
       "      <th>rating</th>\n",
       "      <th>votes</th>\n",
       "      <th>tomato_score</th>\n",
       "      <th>plot_polarity</th>\n",
       "    </tr>\n",
       "  </thead>\n",
       "  <tbody>\n",
       "    <tr>\n",
       "      <th>count</th>\n",
       "      <td>10000.000000</td>\n",
       "      <td>10000.000000</td>\n",
       "      <td>10000.000000</td>\n",
       "      <td>1.000000e+04</td>\n",
       "      <td>9129.000000</td>\n",
       "      <td>10000.000000</td>\n",
       "    </tr>\n",
       "    <tr>\n",
       "      <th>mean</th>\n",
       "      <td>2001.752100</td>\n",
       "      <td>109.671600</td>\n",
       "      <td>6.635040</td>\n",
       "      <td>8.338813e+04</td>\n",
       "      <td>61.821558</td>\n",
       "      <td>0.029124</td>\n",
       "    </tr>\n",
       "    <tr>\n",
       "      <th>std</th>\n",
       "      <td>16.558975</td>\n",
       "      <td>21.005134</td>\n",
       "      <td>1.021927</td>\n",
       "      <td>1.551992e+05</td>\n",
       "      <td>27.650014</td>\n",
       "      <td>0.087941</td>\n",
       "    </tr>\n",
       "    <tr>\n",
       "      <th>min</th>\n",
       "      <td>1941.000000</td>\n",
       "      <td>62.000000</td>\n",
       "      <td>1.000000</td>\n",
       "      <td>8.749000e+03</td>\n",
       "      <td>0.000000</td>\n",
       "      <td>-0.900000</td>\n",
       "    </tr>\n",
       "    <tr>\n",
       "      <th>25%</th>\n",
       "      <td>1994.000000</td>\n",
       "      <td>95.000000</td>\n",
       "      <td>6.100000</td>\n",
       "      <td>1.509175e+04</td>\n",
       "      <td>40.000000</td>\n",
       "      <td>-0.022116</td>\n",
       "    </tr>\n",
       "    <tr>\n",
       "      <th>50%</th>\n",
       "      <td>2006.000000</td>\n",
       "      <td>106.000000</td>\n",
       "      <td>6.700000</td>\n",
       "      <td>3.056650e+04</td>\n",
       "      <td>68.000000</td>\n",
       "      <td>0.025318</td>\n",
       "    </tr>\n",
       "    <tr>\n",
       "      <th>75%</th>\n",
       "      <td>2014.000000</td>\n",
       "      <td>119.000000</td>\n",
       "      <td>7.400000</td>\n",
       "      <td>8.122450e+04</td>\n",
       "      <td>86.000000</td>\n",
       "      <td>0.076692</td>\n",
       "    </tr>\n",
       "    <tr>\n",
       "      <th>max</th>\n",
       "      <td>2022.000000</td>\n",
       "      <td>237.000000</td>\n",
       "      <td>9.300000</td>\n",
       "      <td>2.540263e+06</td>\n",
       "      <td>100.000000</td>\n",
       "      <td>0.950000</td>\n",
       "    </tr>\n",
       "  </tbody>\n",
       "</table>\n",
       "</div>"
      ],
      "text/plain": [
       "       release_year       runtime        rating         votes  tomato_score  \\\n",
       "count  10000.000000  10000.000000  10000.000000  1.000000e+04   9129.000000   \n",
       "mean    2001.752100    109.671600      6.635040  8.338813e+04     61.821558   \n",
       "std       16.558975     21.005134      1.021927  1.551992e+05     27.650014   \n",
       "min     1941.000000     62.000000      1.000000  8.749000e+03      0.000000   \n",
       "25%     1994.000000     95.000000      6.100000  1.509175e+04     40.000000   \n",
       "50%     2006.000000    106.000000      6.700000  3.056650e+04     68.000000   \n",
       "75%     2014.000000    119.000000      7.400000  8.122450e+04     86.000000   \n",
       "max     2022.000000    237.000000      9.300000  2.540263e+06    100.000000   \n",
       "\n",
       "       plot_polarity  \n",
       "count   10000.000000  \n",
       "mean        0.029124  \n",
       "std         0.087941  \n",
       "min        -0.900000  \n",
       "25%        -0.022116  \n",
       "50%         0.025318  \n",
       "75%         0.076692  \n",
       "max         0.950000  "
      ]
     },
     "execution_count": 12,
     "metadata": {},
     "output_type": "execute_result"
    }
   ],
   "source": [
    "movies.describe()"
   ]
  },
  {
   "cell_type": "markdown",
   "id": "f36da3d1",
   "metadata": {},
   "source": [
    "before jumping into the EDA portion of my project, I should note that I selected my data set of 10,000 films based on which films had the most reviews, because I wanted to limit my dataset to primarily well known films, which I believed would simplify the recommendation process, and also would make it easier to collect further information on the films. "
   ]
  },
  {
   "cell_type": "code",
   "execution_count": 13,
   "id": "37119e9a",
   "metadata": {
    "ExecuteTime": {
     "end_time": "2022-04-10T18:09:02.091731Z",
     "start_time": "2022-04-10T18:09:02.076771Z"
    }
   },
   "outputs": [],
   "source": [
    "#creating a decade column to look at how films have changed over the decades\n",
    "movies['decade'] = movies['release_year'].apply(lambda x: round((x-4), -1))"
   ]
  },
  {
   "cell_type": "code",
   "execution_count": 14,
   "id": "094ec3e6",
   "metadata": {
    "ExecuteTime": {
     "end_time": "2022-04-10T18:09:02.107688Z",
     "start_time": "2022-04-10T18:09:02.092729Z"
    },
    "scrolled": true
   },
   "outputs": [
    {
     "data": {
      "text/plain": [
       "genre_1\n",
       "Action         0.008188\n",
       "Adventure      0.037044\n",
       "Animation      0.044545\n",
       "Biography      0.056394\n",
       "Comedy         0.058623\n",
       "Crime          0.001333\n",
       "Documentary    0.078461\n",
       "Drama          0.028776\n",
       "Family         0.075744\n",
       "Fantasy       -0.005702\n",
       "Film-Noir      0.048597\n",
       "Game-Show      0.122222\n",
       "History        0.087010\n",
       "Horror        -0.019372\n",
       "Music         -0.096481\n",
       "Musical        0.170121\n",
       "Mystery        0.006349\n",
       "Romance        0.001502\n",
       "Sci-Fi         0.024523\n",
       "Thriller       0.039066\n",
       "War            0.015009\n",
       "Western       -0.001375\n",
       "Name: plot_polarity, dtype: float64"
      ]
     },
     "execution_count": 14,
     "metadata": {},
     "output_type": "execute_result"
    }
   ],
   "source": [
    "movies.groupby('genre_1')['plot_polarity'].mean()"
   ]
  },
  {
   "cell_type": "markdown",
   "id": "f5ab0bda",
   "metadata": {},
   "source": [
    "I was hoping to see more disparity between the plot polarity scores for various genres, but even the difference between horror and family films is quite small. I think I will still be including plot polarity in my recommendation algorithm because I do think it provides a small amount of measurable difference between films. "
   ]
  },
  {
   "cell_type": "code",
   "execution_count": 15,
   "id": "3bcb03cc",
   "metadata": {
    "ExecuteTime": {
     "end_time": "2022-04-10T18:09:02.299177Z",
     "start_time": "2022-04-10T18:09:02.108686Z"
    }
   },
   "outputs": [
    {
     "data": {
      "text/plain": [
       "Text(0.5, 1.0, 'Distribution of Release Year')"
      ]
     },
     "execution_count": 15,
     "metadata": {},
     "output_type": "execute_result"
    },
    {
     "data": {
      "image/png": "[encoded data removed]",
      "text/plain": [
       "<Figure size 432x288 with 1 Axes>"
      ]
     },
     "metadata": {
      "needs_background": "light"
     },
     "output_type": "display_data"
    }
   ],
   "source": [
    "plt.hist(movies['release_year'], bins = 20)\n",
    "plt.xlabel('Release Year')\n",
    "plt.ylabel('Frequency')\n",
    "plt.title('Distribution of Release Year')"
   ]
  },
  {
   "cell_type": "markdown",
   "id": "26a025be",
   "metadata": {},
   "source": [
    "Not surprisingly, the bulk of the \"well known\" films in our dataset are from 1980 or later, and an even larger majority with a release date of 2000 or later. As films get older they become less relevant/remembered."
   ]
  },
  {
   "cell_type": "code",
   "execution_count": 16,
   "id": "2e6c8c5d",
   "metadata": {
    "ExecuteTime": {
     "end_time": "2022-04-10T18:09:02.440797Z",
     "start_time": "2022-04-10T18:09:02.300173Z"
    }
   },
   "outputs": [
    {
     "data": {
      "text/plain": [
       "Text(0.5, 1.0, 'Distribution of IMDB ratings')"
      ]
     },
     "execution_count": 16,
     "metadata": {},
     "output_type": "execute_result"
    },
    {
     "data": {
      "image/png": "[encoded data removed]",
      "text/plain": [
       "<Figure size 432x288 with 1 Axes>"
      ]
     },
     "metadata": {
      "needs_background": "light"
     },
     "output_type": "display_data"
    }
   ],
   "source": [
    "plt.hist(movies['rating'], bins = 20)\n",
    "plt.xlabel('IMDB Rating')\n",
    "plt.ylabel('Frequency')\n",
    "plt.title('Distribution of IMDB ratings')"
   ]
  },
  {
   "cell_type": "markdown",
   "id": "31845b41",
   "metadata": {},
   "source": [
    "Looking at the distribution of IMDB score ratings in our dataset, it is interesting to note that the mean score is 6.6, with a median score of 6.7. normally I would expect the average score to be lower, but I believe this can be explained by the fact that I have limited my dataset to the 10,000 films with the most reviews. It is also possible that people dont think of 5/10 as being a score of a decent/average movie, and are inclined to rate higher overall."
   ]
  },
  {
   "cell_type": "code",
   "execution_count": 17,
   "id": "560b2968",
   "metadata": {
    "ExecuteTime": {
     "end_time": "2022-04-10T18:09:02.568456Z",
     "start_time": "2022-04-10T18:09:02.441795Z"
    }
   },
   "outputs": [
    {
     "data": {
      "text/plain": [
       "Text(0.5, 1.0, 'Average IMDB Rating by Decade')"
      ]
     },
     "execution_count": 17,
     "metadata": {},
     "output_type": "execute_result"
    },
    {
     "data": {
      "image/png": "[encoded data removed]",
      "text/plain": [
       "<Figure size 432x288 with 1 Axes>"
      ]
     },
     "metadata": {
      "needs_background": "light"
     },
     "output_type": "display_data"
    }
   ],
   "source": [
    "temp = pd.DataFrame(movies.groupby('decade')['rating'].mean()).reset_index()\n",
    "plt.bar(temp['decade'], temp['rating'], width=5)\n",
    "plt.xlabel('Year')\n",
    "plt.ylabel('Average Rating')\n",
    "plt.title('Average IMDB Rating by Decade')"
   ]
  },
  {
   "cell_type": "markdown",
   "id": "57d346f5",
   "metadata": {},
   "source": [
    "Above, we examine the relationship between average rating and the decade that the filmwas released in. This bar chart tells us that the select few movies from 60-80 years ago that are still being watched today are very highly praised."
   ]
  },
  {
   "cell_type": "code",
   "execution_count": 18,
   "id": "1632c29c",
   "metadata": {
    "ExecuteTime": {
     "end_time": "2022-04-10T18:09:02.726034Z",
     "start_time": "2022-04-10T18:09:02.569453Z"
    }
   },
   "outputs": [
    {
     "data": {
      "text/plain": [
       "Text(0.5, 1.0, 'Distribution of Movie Runtimes')"
      ]
     },
     "execution_count": 18,
     "metadata": {},
     "output_type": "execute_result"
    },
    {
     "data": {
      "image/png": "[encoded data removed]",
      "text/plain": [
       "<Figure size 432x288 with 1 Axes>"
      ]
     },
     "metadata": {
      "needs_background": "light"
     },
     "output_type": "display_data"
    }
   ],
   "source": [
    "plt.hist(movies['runtime'], bins = 50)\n",
    "plt.xlabel('Movie Runtime (Minutes)')\n",
    "plt.ylabel('Frequency')\n",
    "plt.title('Distribution of Movie Runtimes')"
   ]
  },
  {
   "cell_type": "markdown",
   "id": "d339bca2",
   "metadata": {},
   "source": [
    "The vast majority of our films run for between 1.5 and two hours, which was expected."
   ]
  },
  {
   "cell_type": "code",
   "execution_count": 19,
   "id": "957facb5",
   "metadata": {
    "ExecuteTime": {
     "end_time": "2022-04-10T18:09:02.853693Z",
     "start_time": "2022-04-10T18:09:02.727032Z"
    }
   },
   "outputs": [
    {
     "data": {
      "text/plain": [
       "Text(0.5, 1.0, 'Average Run Time by Decade')"
      ]
     },
     "execution_count": 19,
     "metadata": {},
     "output_type": "execute_result"
    },
    {
     "data": {
      "image/png": "[encoded data removed]",
      "text/plain": [
       "<Figure size 432x288 with 1 Axes>"
      ]
     },
     "metadata": {
      "needs_background": "light"
     },
     "output_type": "display_data"
    }
   ],
   "source": [
    "#examining the mean runtimes for movies by decade\n",
    "temp = pd.DataFrame(movies.groupby('decade')['runtime'].mean()).reset_index()\n",
    "\n",
    "plt.bar(temp['decade'], temp['runtime'], width=5)\n",
    "\n",
    "plt.xlabel('Release Decade')\n",
    "plt.ylabel('Average Run Time')\n",
    "plt.title('Average Run Time by Decade')"
   ]
  },
  {
   "cell_type": "markdown",
   "id": "929674ca",
   "metadata": {},
   "source": [
    "Despite my perception that movies are rapidly becoming longer and more self indulgent, the dataset indicates that the mean runtime of films has only increased slightly over the last 80 years, with the 60's actually having the longest average run time. When we examine the median run time below, we see a similar trend."
   ]
  },
  {
   "cell_type": "code",
   "execution_count": 20,
   "id": "33b021b1",
   "metadata": {
    "ExecuteTime": {
     "end_time": "2022-04-10T18:09:02.980353Z",
     "start_time": "2022-04-10T18:09:02.854690Z"
    }
   },
   "outputs": [
    {
     "data": {
      "text/plain": [
       "Text(0.5, 1.0, 'Median Run Time by Decade')"
      ]
     },
     "execution_count": 20,
     "metadata": {},
     "output_type": "execute_result"
    },
    {
     "data": {
      "image/png": "[encoded data removed]",
      "text/plain": [
       "<Figure size 432x288 with 1 Axes>"
      ]
     },
     "metadata": {
      "needs_background": "light"
     },
     "output_type": "display_data"
    }
   ],
   "source": [
    "#examining the median runtimes for movies by decade\n",
    "temp = pd.DataFrame(movies.groupby('decade')['runtime'].median()).reset_index()\n",
    "\n",
    "plt.bar(temp['decade'], temp['runtime'], width=5)\n",
    "plt.xlabel('Release Decade')\n",
    "plt.ylabel('Median Run Time')\n",
    "plt.title('Median Run Time by Decade')"
   ]
  },
  {
   "cell_type": "code",
   "execution_count": 21,
   "id": "f6a4ae92",
   "metadata": {
    "ExecuteTime": {
     "end_time": "2022-04-10T18:09:03.107015Z",
     "start_time": "2022-04-10T18:09:02.981351Z"
    }
   },
   "outputs": [
    {
     "data": {
      "text/plain": [
       "Text(0.5, 1.0, 'Runtime vs IMDB Score')"
      ]
     },
     "execution_count": 21,
     "metadata": {},
     "output_type": "execute_result"
    },
    {
     "data": {
      "image/png": "[encoded data removed]",
      "text/plain": [
       "<Figure size 432x288 with 1 Axes>"
      ]
     },
     "metadata": {
      "needs_background": "light"
     },
     "output_type": "display_data"
    }
   ],
   "source": [
    "#examining the relationship between runtime and rating\n",
    "plt.scatter(movies['runtime'], movies['rating'], s=3, alpha = 0.2)\n",
    "plt.xlabel('Runtime (Minutes)')\n",
    "plt.ylabel('IMDB Score')\n",
    "plt.title('Runtime vs IMDB Score')"
   ]
  },
  {
   "cell_type": "markdown",
   "id": "fb908a34",
   "metadata": {},
   "source": [
    "There is no obvious relationship here, seems to just be a mostly random scattering of points. People may tend of offer longer movies higher ratings, but this could also be because longer movies tend to have higher budgets/production value."
   ]
  },
  {
   "cell_type": "code",
   "execution_count": 22,
   "id": "f3417739",
   "metadata": {
    "ExecuteTime": {
     "end_time": "2022-04-10T18:09:03.122972Z",
     "start_time": "2022-04-10T18:09:03.108013Z"
    }
   },
   "outputs": [
    {
     "data": {
      "text/plain": [
       "decade\n",
       "1940    0.038798\n",
       "1950    0.026675\n",
       "1960    0.025925\n",
       "1970    0.024291\n",
       "1980    0.026344\n",
       "1990    0.028981\n",
       "2000    0.033969\n",
       "2010    0.027458\n",
       "2020    0.025360\n",
       "Name: plot_polarity, dtype: float64"
      ]
     },
     "execution_count": 22,
     "metadata": {},
     "output_type": "execute_result"
    }
   ],
   "source": [
    "movies.groupby('decade')['plot_polarity'].mean()"
   ]
  },
  {
   "cell_type": "markdown",
   "id": "eb5d3dd6",
   "metadata": {},
   "source": [
    "The plot polarity score seems to remain very consistent accross the decades, with 1940 and 2000 displaying slightly higher scores"
   ]
  },
  {
   "cell_type": "code",
   "execution_count": 23,
   "id": "c1e12454",
   "metadata": {
    "ExecuteTime": {
     "end_time": "2022-04-10T18:09:03.298503Z",
     "start_time": "2022-04-10T18:09:03.123971Z"
    }
   },
   "outputs": [
    {
     "data": {
      "text/plain": [
       "Text(0.5, 1.0, 'Distribution of Plot Polarity Scores')"
      ]
     },
     "execution_count": 23,
     "metadata": {},
     "output_type": "execute_result"
    },
    {
     "data": {
      "image/png": "[encoded data removed]",
      "text/plain": [
       "<Figure size 432x288 with 1 Axes>"
      ]
     },
     "metadata": {
      "needs_background": "light"
     },
     "output_type": "display_data"
    }
   ],
   "source": [
    "plt.hist(movies['plot_polarity'], bins = 50)\n",
    "plt.xlabel('Plot Polarity Score')\n",
    "plt.ylabel('Frequency')\n",
    "plt.title('Distribution of Plot Polarity Scores')"
   ]
  },
  {
   "cell_type": "markdown",
   "id": "1c89bf40",
   "metadata": {},
   "source": [
    "the majority of films in our dataset have plot polarity scores that are within +/- 0.1 of 0, with the median score slightly above zero."
   ]
  },
  {
   "cell_type": "code",
   "execution_count": 24,
   "id": "573ae77c",
   "metadata": {
    "ExecuteTime": {
     "end_time": "2022-04-10T18:09:03.441121Z",
     "start_time": "2022-04-10T18:09:03.299501Z"
    }
   },
   "outputs": [
    {
     "data": {
      "text/plain": [
       "Text(0.5, 1.0, 'Runtime vs Plot Polarity')"
      ]
     },
     "execution_count": 24,
     "metadata": {},
     "output_type": "execute_result"
    },
    {
     "data": {
      "image/png": "[encoded data removed]",
      "text/plain": [
       "<Figure size 432x288 with 1 Axes>"
      ]
     },
     "metadata": {
      "needs_background": "light"
     },
     "output_type": "display_data"
    }
   ],
   "source": [
    "plt.scatter(movies['runtime'], movies['plot_polarity'], s = 3, alpha = 0.3)\n",
    "plt.axhline(0, c = 'red')\n",
    "plt.xlabel('Runtime (Minutes)')\n",
    "plt.ylabel('Plot Polarity Score')\n",
    "plt.title('Runtime vs Plot Polarity')"
   ]
  },
  {
   "cell_type": "markdown",
   "id": "dcc6974e",
   "metadata": {},
   "source": [
    "Here we examine the relationship between plot polarity and run time. Plot polarity is a score assigned to the complete synopsis of a film which factors in all of the words, and return a score that indicates how positive or negative the language used in the synopsis is. There does not seem to be a noticeable relationship between the two, with a similar distribution of plot polarity above and below 0 at all run times. in the cell below, we see a similar relationship between plot polarity and the run time of the film. "
   ]
  },
  {
   "cell_type": "code",
   "execution_count": 25,
   "id": "aeac81d7",
   "metadata": {
    "ExecuteTime": {
     "end_time": "2022-04-10T18:09:03.598699Z",
     "start_time": "2022-04-10T18:09:03.442119Z"
    }
   },
   "outputs": [
    {
     "data": {
      "text/plain": [
       "Text(0.5, 1.0, 'Plot Polarity vs Release Decade')"
      ]
     },
     "execution_count": 25,
     "metadata": {},
     "output_type": "execute_result"
    },
    {
     "data": {
      "image/png": "[encoded data removed]",
      "text/plain": [
       "<Figure size 432x288 with 1 Axes>"
      ]
     },
     "metadata": {
      "needs_background": "light"
     },
     "output_type": "display_data"
    }
   ],
   "source": [
    "plt.scatter(movies['release_year'], movies['plot_polarity'], s = 3, alpha = 0.3)\n",
    "plt.axhline(0, c = 'red')\n",
    "plt.xlabel('Release Decade')\n",
    "plt.ylabel('Plot Polarity Score')\n",
    "plt.title('Plot Polarity vs Release Decade')"
   ]
  },
  {
   "cell_type": "markdown",
   "id": "bb5f2d50",
   "metadata": {},
   "source": [
    "In the cells below, I examine the distribution and outliers for several of the numeric variables. I do not have any intention of dropping outliers, because even if these films will ultimately be recommended less frequently than other films, I would still like to have them in my database so that they may be recommended to users whose interests fit appropriately. "
   ]
  },
  {
   "cell_type": "code",
   "execution_count": 26,
   "id": "cf5cc238",
   "metadata": {
    "ExecuteTime": {
     "end_time": "2022-04-10T18:09:03.726358Z",
     "start_time": "2022-04-10T18:09:03.599697Z"
    },
    "scrolled": true
   },
   "outputs": [
    {
     "data": {
      "text/plain": [
       "Text(0.5, 1.0, 'Spread of the Runtime Variable')"
      ]
     },
     "execution_count": 26,
     "metadata": {},
     "output_type": "execute_result"
    },
    {
     "data": {
      "image/png": "[encoded data removed]",
      "text/plain": [
       "<Figure size 432x288 with 1 Axes>"
      ]
     },
     "metadata": {
      "needs_background": "light"
     },
     "output_type": "display_data"
    }
   ],
   "source": [
    "#outliers\n",
    "\n",
    "plt.boxplot(movies['runtime'])\n",
    "plt.title('Spread of the Runtime Variable')"
   ]
  },
  {
   "cell_type": "code",
   "execution_count": 27,
   "id": "5b3704d2",
   "metadata": {
    "ExecuteTime": {
     "end_time": "2022-04-10T18:09:03.806145Z",
     "start_time": "2022-04-10T18:09:03.728353Z"
    }
   },
   "outputs": [
    {
     "data": {
      "text/plain": [
       "Text(0.5, 1.0, 'Spread of the IMDB Rating Variable')"
      ]
     },
     "execution_count": 27,
     "metadata": {},
     "output_type": "execute_result"
    },
    {
     "data": {
      "image/png": "[encoded data removed]",
      "text/plain": [
       "<Figure size 432x288 with 1 Axes>"
      ]
     },
     "metadata": {
      "needs_background": "light"
     },
     "output_type": "display_data"
    }
   ],
   "source": [
    "plt.boxplot(movies['rating'])\n",
    "plt.title('Spread of the IMDB Rating Variable')"
   ]
  },
  {
   "cell_type": "code",
   "execution_count": 28,
   "id": "79ed6635",
   "metadata": {
    "ExecuteTime": {
     "end_time": "2022-04-10T18:09:03.900891Z",
     "start_time": "2022-04-10T18:09:03.807143Z"
    }
   },
   "outputs": [
    {
     "data": {
      "text/plain": [
       "Text(0.5, 1.0, 'Spread of the Number of Reviews for a Film')"
      ]
     },
     "execution_count": 28,
     "metadata": {},
     "output_type": "execute_result"
    },
    {
     "data": {
      "image/png": "[encoded data removed]",
      "text/plain": [
       "<Figure size 432x288 with 1 Axes>"
      ]
     },
     "metadata": {
      "needs_background": "light"
     },
     "output_type": "display_data"
    }
   ],
   "source": [
    "plt.boxplot(movies['votes'])\n",
    "plt.title('Spread of the Number of Reviews for a Film')"
   ]
  },
  {
   "cell_type": "code",
   "execution_count": 29,
   "id": "d7eeb0fd",
   "metadata": {
    "ExecuteTime": {
     "end_time": "2022-04-10T18:09:04.010597Z",
     "start_time": "2022-04-10T18:09:03.901889Z"
    },
    "scrolled": true
   },
   "outputs": [
    {
     "data": {
      "text/plain": [
       "Text(0.5, 1.0, 'Spread of the Plot Polarity Variable')"
      ]
     },
     "execution_count": 29,
     "metadata": {},
     "output_type": "execute_result"
    },
    {
     "data": {
      "image/png": "[encoded data removed]",
      "text/plain": [
       "<Figure size 432x288 with 1 Axes>"
      ]
     },
     "metadata": {
      "needs_background": "light"
     },
     "output_type": "display_data"
    }
   ],
   "source": [
    "plt.boxplot(movies['plot_polarity'])\n",
    "plt.title('Spread of the Plot Polarity Variable')"
   ]
  },
  {
   "cell_type": "code",
   "execution_count": 30,
   "id": "c23398c8",
   "metadata": {
    "ExecuteTime": {
     "end_time": "2022-04-10T18:09:04.042512Z",
     "start_time": "2022-04-10T18:09:04.011595Z"
    }
   },
   "outputs": [
    {
     "data": {
      "text/html": [
       "<div>\n",
       "<style scoped>\n",
       "    .dataframe tbody tr th:only-of-type {\n",
       "        vertical-align: middle;\n",
       "    }\n",
       "\n",
       "    .dataframe tbody tr th {\n",
       "        vertical-align: top;\n",
       "    }\n",
       "\n",
       "    .dataframe thead th {\n",
       "        text-align: right;\n",
       "    }\n",
       "</style>\n",
       "<table border=\"1\" class=\"dataframe\">\n",
       "  <thead>\n",
       "    <tr style=\"text-align: right;\">\n",
       "      <th></th>\n",
       "      <th>release_year</th>\n",
       "      <th>runtime</th>\n",
       "      <th>rating</th>\n",
       "      <th>votes</th>\n",
       "      <th>tomato_score</th>\n",
       "      <th>plot_polarity</th>\n",
       "      <th>decade</th>\n",
       "    </tr>\n",
       "  </thead>\n",
       "  <tbody>\n",
       "    <tr>\n",
       "      <th>count</th>\n",
       "      <td>10000.000000</td>\n",
       "      <td>10000.000000</td>\n",
       "      <td>10000.000000</td>\n",
       "      <td>1.000000e+04</td>\n",
       "      <td>9129.000000</td>\n",
       "      <td>10000.000000</td>\n",
       "      <td>10000.00000</td>\n",
       "    </tr>\n",
       "    <tr>\n",
       "      <th>mean</th>\n",
       "      <td>2001.752100</td>\n",
       "      <td>109.671600</td>\n",
       "      <td>6.635040</td>\n",
       "      <td>8.338813e+04</td>\n",
       "      <td>61.821558</td>\n",
       "      <td>0.029124</td>\n",
       "      <td>1997.72500</td>\n",
       "    </tr>\n",
       "    <tr>\n",
       "      <th>std</th>\n",
       "      <td>16.558975</td>\n",
       "      <td>21.005134</td>\n",
       "      <td>1.021927</td>\n",
       "      <td>1.551992e+05</td>\n",
       "      <td>27.650014</td>\n",
       "      <td>0.087941</td>\n",
       "      <td>16.90275</td>\n",
       "    </tr>\n",
       "    <tr>\n",
       "      <th>min</th>\n",
       "      <td>1941.000000</td>\n",
       "      <td>62.000000</td>\n",
       "      <td>1.000000</td>\n",
       "      <td>8.749000e+03</td>\n",
       "      <td>0.000000</td>\n",
       "      <td>-0.900000</td>\n",
       "      <td>1940.00000</td>\n",
       "    </tr>\n",
       "    <tr>\n",
       "      <th>25%</th>\n",
       "      <td>1994.000000</td>\n",
       "      <td>95.000000</td>\n",
       "      <td>6.100000</td>\n",
       "      <td>1.509175e+04</td>\n",
       "      <td>40.000000</td>\n",
       "      <td>-0.022116</td>\n",
       "      <td>1990.00000</td>\n",
       "    </tr>\n",
       "    <tr>\n",
       "      <th>50%</th>\n",
       "      <td>2006.000000</td>\n",
       "      <td>106.000000</td>\n",
       "      <td>6.700000</td>\n",
       "      <td>3.056650e+04</td>\n",
       "      <td>68.000000</td>\n",
       "      <td>0.025318</td>\n",
       "      <td>2000.00000</td>\n",
       "    </tr>\n",
       "    <tr>\n",
       "      <th>75%</th>\n",
       "      <td>2014.000000</td>\n",
       "      <td>119.000000</td>\n",
       "      <td>7.400000</td>\n",
       "      <td>8.122450e+04</td>\n",
       "      <td>86.000000</td>\n",
       "      <td>0.076692</td>\n",
       "      <td>2010.00000</td>\n",
       "    </tr>\n",
       "    <tr>\n",
       "      <th>max</th>\n",
       "      <td>2022.000000</td>\n",
       "      <td>237.000000</td>\n",
       "      <td>9.300000</td>\n",
       "      <td>2.540263e+06</td>\n",
       "      <td>100.000000</td>\n",
       "      <td>0.950000</td>\n",
       "      <td>2020.00000</td>\n",
       "    </tr>\n",
       "  </tbody>\n",
       "</table>\n",
       "</div>"
      ],
      "text/plain": [
       "       release_year       runtime        rating         votes  tomato_score  \\\n",
       "count  10000.000000  10000.000000  10000.000000  1.000000e+04   9129.000000   \n",
       "mean    2001.752100    109.671600      6.635040  8.338813e+04     61.821558   \n",
       "std       16.558975     21.005134      1.021927  1.551992e+05     27.650014   \n",
       "min     1941.000000     62.000000      1.000000  8.749000e+03      0.000000   \n",
       "25%     1994.000000     95.000000      6.100000  1.509175e+04     40.000000   \n",
       "50%     2006.000000    106.000000      6.700000  3.056650e+04     68.000000   \n",
       "75%     2014.000000    119.000000      7.400000  8.122450e+04     86.000000   \n",
       "max     2022.000000    237.000000      9.300000  2.540263e+06    100.000000   \n",
       "\n",
       "       plot_polarity       decade  \n",
       "count   10000.000000  10000.00000  \n",
       "mean        0.029124   1997.72500  \n",
       "std         0.087941     16.90275  \n",
       "min        -0.900000   1940.00000  \n",
       "25%        -0.022116   1990.00000  \n",
       "50%         0.025318   2000.00000  \n",
       "75%         0.076692   2010.00000  \n",
       "max         0.950000   2020.00000  "
      ]
     },
     "execution_count": 30,
     "metadata": {},
     "output_type": "execute_result"
    }
   ],
   "source": [
    "movies.describe()"
   ]
  },
  {
   "cell_type": "markdown",
   "id": "06c41739",
   "metadata": {},
   "source": [
    "When looking at the summary table for my numeric variables, a few things stand out to me. \n",
    "\n",
    "The oldest movie on my list of popular movies was released in 1940. For reference, the first movie theater opened in 1905. More than half of the movies on my list of 10,000 most well known movies were released after 2006, so this dataset favors more recent movies. \n",
    "\n",
    "Run times are on average 109 minutes long, and have remained pretty consistent over the years. \n",
    "\n",
    "The ratings received by the most well known movies have a mean of 6.6 and a median of 6.7 out of 10. Since my dataset is limited to the most well known movies, it is not surprising that the average score is nearly 7/10, but I would be curious to look more into how people review movies, and how these scores become inflated. \n",
    "\n",
    "Plot polarity was a metric that I had higher hopes for, but the distribution of scores is pretty tightly grouped and there isn't a clear trend/disparity between genres. \n"
   ]
  },
  {
   "cell_type": "code",
   "execution_count": null,
   "id": "60cd42c6",
   "metadata": {},
   "outputs": [],
   "source": []
  }
 ],
 "metadata": {
  "kernelspec": {
   "display_name": "Python 3",
   "language": "python",
   "name": "python3"
  },
  "language_info": {
   "codemirror_mode": {
    "name": "ipython",
    "version": 3
   },
   "file_extension": ".py",
   "mimetype": "text/x-python",
   "name": "python",
   "nbconvert_exporter": "python",
   "pygments_lexer": "ipython3",
   "version": "3.8.8"
  }
 },
 "nbformat": 4,
 "nbformat_minor": 5
}
