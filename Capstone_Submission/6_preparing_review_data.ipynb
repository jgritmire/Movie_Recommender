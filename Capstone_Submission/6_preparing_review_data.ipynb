{
 "cells": [
  {
   "cell_type": "code",
   "execution_count": 2,
   "id": "63ef8970",
   "metadata": {
    "ExecuteTime": {
     "end_time": "2022-04-04T17:11:30.367328Z",
     "start_time": "2022-04-04T17:11:29.948449Z"
    }
   },
   "outputs": [],
   "source": [
    "import pandas as pd\n",
    "import numpy as np\n",
    "from thefuzz import process\n",
    "import imdb\n",
    "import fuzzyset"
   ]
  },
  {
   "cell_type": "code",
   "execution_count": 3,
   "id": "3481b049",
   "metadata": {
    "ExecuteTime": {
     "end_time": "2022-04-04T17:11:31.126828Z",
     "start_time": "2022-04-04T17:11:31.041550Z"
    }
   },
   "outputs": [],
   "source": [
    "films = pd.read_csv('./data/ml-25m/ml-25m/movies.csv')\n",
    "films.drop(columns=['genres'], inplace=True)"
   ]
  },
  {
   "cell_type": "code",
   "execution_count": 18,
   "id": "11f4a80e",
   "metadata": {
    "ExecuteTime": {
     "end_time": "2022-03-08T16:45:36.495047Z",
     "start_time": "2022-03-08T16:45:30.442231Z"
    }
   },
   "outputs": [],
   "source": [
    "ratings = pd.read_csv('./data/ml-25m/ml-25m/ratings.csv')\n",
    "ratings.drop(columns=['timestamp'], inplace=True)"
   ]
  },
  {
   "cell_type": "code",
   "execution_count": 19,
   "id": "df7b1bee",
   "metadata": {
    "ExecuteTime": {
     "end_time": "2022-03-08T16:45:36.511005Z",
     "start_time": "2022-03-08T16:45:36.496044Z"
    }
   },
   "outputs": [
    {
     "data": {
      "text/html": [
       "<div>\n",
       "<style scoped>\n",
       "    .dataframe tbody tr th:only-of-type {\n",
       "        vertical-align: middle;\n",
       "    }\n",
       "\n",
       "    .dataframe tbody tr th {\n",
       "        vertical-align: top;\n",
       "    }\n",
       "\n",
       "    .dataframe thead th {\n",
       "        text-align: right;\n",
       "    }\n",
       "</style>\n",
       "<table border=\"1\" class=\"dataframe\">\n",
       "  <thead>\n",
       "    <tr style=\"text-align: right;\">\n",
       "      <th></th>\n",
       "      <th>movieId</th>\n",
       "      <th>title</th>\n",
       "    </tr>\n",
       "  </thead>\n",
       "  <tbody>\n",
       "    <tr>\n",
       "      <th>0</th>\n",
       "      <td>1</td>\n",
       "      <td>Toy Story (1995)</td>\n",
       "    </tr>\n",
       "    <tr>\n",
       "      <th>1</th>\n",
       "      <td>2</td>\n",
       "      <td>Jumanji (1995)</td>\n",
       "    </tr>\n",
       "    <tr>\n",
       "      <th>2</th>\n",
       "      <td>3</td>\n",
       "      <td>Grumpier Old Men (1995)</td>\n",
       "    </tr>\n",
       "    <tr>\n",
       "      <th>3</th>\n",
       "      <td>4</td>\n",
       "      <td>Waiting to Exhale (1995)</td>\n",
       "    </tr>\n",
       "    <tr>\n",
       "      <th>4</th>\n",
       "      <td>5</td>\n",
       "      <td>Father of the Bride Part II (1995)</td>\n",
       "    </tr>\n",
       "  </tbody>\n",
       "</table>\n",
       "</div>"
      ],
      "text/plain": [
       "   movieId                               title\n",
       "0        1                    Toy Story (1995)\n",
       "1        2                      Jumanji (1995)\n",
       "2        3             Grumpier Old Men (1995)\n",
       "3        4            Waiting to Exhale (1995)\n",
       "4        5  Father of the Bride Part II (1995)"
      ]
     },
     "execution_count": 19,
     "metadata": {},
     "output_type": "execute_result"
    }
   ],
   "source": [
    "films.head()"
   ]
  },
  {
   "cell_type": "code",
   "execution_count": 20,
   "id": "22442c0a",
   "metadata": {
    "ExecuteTime": {
     "end_time": "2022-03-08T16:45:36.590791Z",
     "start_time": "2022-03-08T16:45:36.512002Z"
    }
   },
   "outputs": [],
   "source": [
    "#removing the release year and making it its own column\n",
    "films['release_year'] =  films['title'].apply(lambda x: x[-5:-1])\n",
    "\n",
    "# removing parentheticals from titles for searching purposes:\n",
    "films['primary_title'] = films['title'].apply(lambda x: x.split('(')[0][:-1])\n",
    "\n",
    "#fixing titles that have \"the\" moved to the end for matching purposes\n",
    "test_list = []\n",
    "for title in films['primary_title']:\n",
    "    if str(title[-3:]) == 'The':\n",
    "        test_list.append('The ' + str(title[:-5]))\n",
    "    else:\n",
    "        test_list.append(title)\n",
    "films['primary_title'] = test_list"
   ]
  },
  {
   "cell_type": "code",
   "execution_count": 21,
   "id": "855e311a",
   "metadata": {
    "ExecuteTime": {
     "end_time": "2022-03-08T16:45:36.606749Z",
     "start_time": "2022-03-08T16:45:36.591788Z"
    }
   },
   "outputs": [
    {
     "data": {
      "text/html": [
       "<div>\n",
       "<style scoped>\n",
       "    .dataframe tbody tr th:only-of-type {\n",
       "        vertical-align: middle;\n",
       "    }\n",
       "\n",
       "    .dataframe tbody tr th {\n",
       "        vertical-align: top;\n",
       "    }\n",
       "\n",
       "    .dataframe thead th {\n",
       "        text-align: right;\n",
       "    }\n",
       "</style>\n",
       "<table border=\"1\" class=\"dataframe\">\n",
       "  <thead>\n",
       "    <tr style=\"text-align: right;\">\n",
       "      <th></th>\n",
       "      <th>movieId</th>\n",
       "      <th>title</th>\n",
       "      <th>release_year</th>\n",
       "      <th>primary_title</th>\n",
       "    </tr>\n",
       "  </thead>\n",
       "  <tbody>\n",
       "    <tr>\n",
       "      <th>0</th>\n",
       "      <td>1</td>\n",
       "      <td>Toy Story (1995)</td>\n",
       "      <td>1995</td>\n",
       "      <td>Toy Story</td>\n",
       "    </tr>\n",
       "    <tr>\n",
       "      <th>1</th>\n",
       "      <td>2</td>\n",
       "      <td>Jumanji (1995)</td>\n",
       "      <td>1995</td>\n",
       "      <td>Jumanji</td>\n",
       "    </tr>\n",
       "    <tr>\n",
       "      <th>2</th>\n",
       "      <td>3</td>\n",
       "      <td>Grumpier Old Men (1995)</td>\n",
       "      <td>1995</td>\n",
       "      <td>Grumpier Old Men</td>\n",
       "    </tr>\n",
       "    <tr>\n",
       "      <th>3</th>\n",
       "      <td>4</td>\n",
       "      <td>Waiting to Exhale (1995)</td>\n",
       "      <td>1995</td>\n",
       "      <td>Waiting to Exhale</td>\n",
       "    </tr>\n",
       "    <tr>\n",
       "      <th>4</th>\n",
       "      <td>5</td>\n",
       "      <td>Father of the Bride Part II (1995)</td>\n",
       "      <td>1995</td>\n",
       "      <td>Father of the Bride Part II</td>\n",
       "    </tr>\n",
       "  </tbody>\n",
       "</table>\n",
       "</div>"
      ],
      "text/plain": [
       "   movieId                               title release_year  \\\n",
       "0        1                    Toy Story (1995)         1995   \n",
       "1        2                      Jumanji (1995)         1995   \n",
       "2        3             Grumpier Old Men (1995)         1995   \n",
       "3        4            Waiting to Exhale (1995)         1995   \n",
       "4        5  Father of the Bride Part II (1995)         1995   \n",
       "\n",
       "                 primary_title  \n",
       "0                    Toy Story  \n",
       "1                      Jumanji  \n",
       "2             Grumpier Old Men  \n",
       "3            Waiting to Exhale  \n",
       "4  Father of the Bride Part II  "
      ]
     },
     "execution_count": 21,
     "metadata": {},
     "output_type": "execute_result"
    }
   ],
   "source": [
    "films.head()"
   ]
  },
  {
   "cell_type": "code",
   "execution_count": 22,
   "id": "f0530163",
   "metadata": {
    "ExecuteTime": {
     "end_time": "2022-03-08T16:45:36.968780Z",
     "start_time": "2022-03-08T16:45:36.607746Z"
    }
   },
   "outputs": [],
   "source": [
    "movies = pd.read_csv('./data/data_for_eda.csv')"
   ]
  },
  {
   "cell_type": "code",
   "execution_count": 23,
   "id": "dbd6ce74",
   "metadata": {
    "ExecuteTime": {
     "end_time": "2022-03-08T16:45:36.999698Z",
     "start_time": "2022-03-08T16:45:36.970776Z"
    }
   },
   "outputs": [
    {
     "data": {
      "text/html": [
       "<div>\n",
       "<style scoped>\n",
       "    .dataframe tbody tr th:only-of-type {\n",
       "        vertical-align: middle;\n",
       "    }\n",
       "\n",
       "    .dataframe tbody tr th {\n",
       "        vertical-align: top;\n",
       "    }\n",
       "\n",
       "    .dataframe thead th {\n",
       "        text-align: right;\n",
       "    }\n",
       "</style>\n",
       "<table border=\"1\" class=\"dataframe\">\n",
       "  <thead>\n",
       "    <tr style=\"text-align: right;\">\n",
       "      <th></th>\n",
       "      <th>Unnamed: 0</th>\n",
       "      <th>tconst</th>\n",
       "      <th>primary_title</th>\n",
       "      <th>release_year</th>\n",
       "      <th>runtime</th>\n",
       "      <th>rating</th>\n",
       "      <th>votes</th>\n",
       "      <th>tomato_score</th>\n",
       "      <th>metacritic_score</th>\n",
       "      <th>mpaa_rating</th>\n",
       "      <th>...</th>\n",
       "      <th>cast_2</th>\n",
       "      <th>cast_3</th>\n",
       "      <th>cast_4</th>\n",
       "      <th>cast_5</th>\n",
       "      <th>cast_6</th>\n",
       "      <th>cast_7</th>\n",
       "      <th>cast_8</th>\n",
       "      <th>cast_9</th>\n",
       "      <th>cast_10</th>\n",
       "      <th>plot_polarity</th>\n",
       "    </tr>\n",
       "  </thead>\n",
       "  <tbody>\n",
       "    <tr>\n",
       "      <th>0</th>\n",
       "      <td>0</td>\n",
       "      <td>tt0111161</td>\n",
       "      <td>The Shawshank Redemption</td>\n",
       "      <td>1994</td>\n",
       "      <td>142</td>\n",
       "      <td>9.3</td>\n",
       "      <td>2540263</td>\n",
       "      <td>91%</td>\n",
       "      <td>80/100</td>\n",
       "      <td>R</td>\n",
       "      <td>...</td>\n",
       "      <td>209.0</td>\n",
       "      <td>151.0</td>\n",
       "      <td>348409.0</td>\n",
       "      <td>6669.0</td>\n",
       "      <td>1104.0</td>\n",
       "      <td>175.0</td>\n",
       "      <td>555550.0</td>\n",
       "      <td>2353.0</td>\n",
       "      <td>5683.0</td>\n",
       "      <td>0.018280</td>\n",
       "    </tr>\n",
       "    <tr>\n",
       "      <th>1</th>\n",
       "      <td>1</td>\n",
       "      <td>tt0468569</td>\n",
       "      <td>The Dark Knight</td>\n",
       "      <td>2008</td>\n",
       "      <td>152</td>\n",
       "      <td>9.0</td>\n",
       "      <td>2490570</td>\n",
       "      <td>94%</td>\n",
       "      <td>84/100</td>\n",
       "      <td>PG-13</td>\n",
       "      <td>...</td>\n",
       "      <td>288.0</td>\n",
       "      <td>5132.0</td>\n",
       "      <td>1173.0</td>\n",
       "      <td>323.0</td>\n",
       "      <td>634240.0</td>\n",
       "      <td>634300.0</td>\n",
       "      <td>275286.0</td>\n",
       "      <td>4170.0</td>\n",
       "      <td>650038.0</td>\n",
       "      <td>0.042357</td>\n",
       "    </tr>\n",
       "    <tr>\n",
       "      <th>2</th>\n",
       "      <td>2</td>\n",
       "      <td>tt1375666</td>\n",
       "      <td>Inception</td>\n",
       "      <td>2010</td>\n",
       "      <td>148</td>\n",
       "      <td>8.8</td>\n",
       "      <td>2231336</td>\n",
       "      <td>87%</td>\n",
       "      <td>74/100</td>\n",
       "      <td>PG-13</td>\n",
       "      <td>...</td>\n",
       "      <td>138.0</td>\n",
       "      <td>330687.0</td>\n",
       "      <td>680983.0</td>\n",
       "      <td>913822.0</td>\n",
       "      <td>634240.0</td>\n",
       "      <td>858799.0</td>\n",
       "      <td>1877.0</td>\n",
       "      <td>2892.0</td>\n",
       "      <td>809059.0</td>\n",
       "      <td>0.029848</td>\n",
       "    </tr>\n",
       "    <tr>\n",
       "      <th>3</th>\n",
       "      <td>3</td>\n",
       "      <td>tt0137523</td>\n",
       "      <td>Fight Club</td>\n",
       "      <td>1999</td>\n",
       "      <td>139</td>\n",
       "      <td>8.8</td>\n",
       "      <td>1999188</td>\n",
       "      <td>79%</td>\n",
       "      <td>66/100</td>\n",
       "      <td>R</td>\n",
       "      <td>...</td>\n",
       "      <td>93.0</td>\n",
       "      <td>1570.0</td>\n",
       "      <td>1533.0</td>\n",
       "      <td>340260.0</td>\n",
       "      <td>399.0</td>\n",
       "      <td>657333.0</td>\n",
       "      <td>880243.0</td>\n",
       "      <td>68501.0</td>\n",
       "      <td>149556.0</td>\n",
       "      <td>-0.008166</td>\n",
       "    </tr>\n",
       "    <tr>\n",
       "      <th>4</th>\n",
       "      <td>4</td>\n",
       "      <td>tt0109830</td>\n",
       "      <td>Forrest Gump</td>\n",
       "      <td>1994</td>\n",
       "      <td>142</td>\n",
       "      <td>8.8</td>\n",
       "      <td>1960064</td>\n",
       "      <td>70%</td>\n",
       "      <td>82/100</td>\n",
       "      <td>PG-13</td>\n",
       "      <td>...</td>\n",
       "      <td>158.0</td>\n",
       "      <td>705.0</td>\n",
       "      <td>641.0</td>\n",
       "      <td>398.0</td>\n",
       "      <td>709.0</td>\n",
       "      <td>343165.0</td>\n",
       "      <td>744839.0</td>\n",
       "      <td>277704.0</td>\n",
       "      <td>823330.0</td>\n",
       "      <td>0.079285</td>\n",
       "    </tr>\n",
       "  </tbody>\n",
       "</table>\n",
       "<p>5 rows × 31 columns</p>\n",
       "</div>"
      ],
      "text/plain": [
       "   Unnamed: 0     tconst             primary_title  release_year  runtime  \\\n",
       "0           0  tt0111161  The Shawshank Redemption          1994      142   \n",
       "1           1  tt0468569           The Dark Knight          2008      152   \n",
       "2           2  tt1375666                 Inception          2010      148   \n",
       "3           3  tt0137523                Fight Club          1999      139   \n",
       "4           4  tt0109830              Forrest Gump          1994      142   \n",
       "\n",
       "   rating    votes tomato_score metacritic_score mpaa_rating  ... cast_2  \\\n",
       "0     9.3  2540263          91%           80/100           R  ...  209.0   \n",
       "1     9.0  2490570          94%           84/100       PG-13  ...  288.0   \n",
       "2     8.8  2231336          87%           74/100       PG-13  ...  138.0   \n",
       "3     8.8  1999188          79%           66/100           R  ...   93.0   \n",
       "4     8.8  1960064          70%           82/100       PG-13  ...  158.0   \n",
       "\n",
       "     cast_3    cast_4    cast_5    cast_6    cast_7    cast_8    cast_9  \\\n",
       "0     151.0  348409.0    6669.0    1104.0     175.0  555550.0    2353.0   \n",
       "1    5132.0    1173.0     323.0  634240.0  634300.0  275286.0    4170.0   \n",
       "2  330687.0  680983.0  913822.0  634240.0  858799.0    1877.0    2892.0   \n",
       "3    1570.0    1533.0  340260.0     399.0  657333.0  880243.0   68501.0   \n",
       "4     705.0     641.0     398.0     709.0  343165.0  744839.0  277704.0   \n",
       "\n",
       "    cast_10 plot_polarity  \n",
       "0    5683.0      0.018280  \n",
       "1  650038.0      0.042357  \n",
       "2  809059.0      0.029848  \n",
       "3  149556.0     -0.008166  \n",
       "4  823330.0      0.079285  \n",
       "\n",
       "[5 rows x 31 columns]"
      ]
     },
     "execution_count": 23,
     "metadata": {},
     "output_type": "execute_result"
    }
   ],
   "source": [
    "movies.head()"
   ]
  },
  {
   "cell_type": "code",
   "execution_count": 24,
   "id": "7990f4a5",
   "metadata": {
    "ExecuteTime": {
     "end_time": "2022-03-08T16:45:37.380680Z",
     "start_time": "2022-03-08T16:45:37.000695Z"
    }
   },
   "outputs": [],
   "source": [
    "#for films, adding the year back into the title to help with matching efficiency\n",
    "match_title = []\n",
    "title_list = films['primary_title']\n",
    "year_list = films['release_year']\n",
    "for i in range(0,len(title_list)):\n",
    "    match_title.append(title_list[i] + ' (' + year_list[i] + ')')\n",
    "    \n",
    "films['match_title'] = match_title\n",
    "\n",
    "#for movies, adding the year back into the title to help with matching efficiency\n",
    "match_title = []\n",
    "title_list = movies['primary_title']\n",
    "year_list = movies['release_year']\n",
    "for i in range(0,len(title_list)):\n",
    "    match_title.append(title_list[i] + ' (' + str(year_list[i]) + ')')\n",
    "    \n",
    "movies['match_title'] = match_title"
   ]
  },
  {
   "cell_type": "code",
   "execution_count": 25,
   "id": "930b46cc",
   "metadata": {
    "ExecuteTime": {
     "end_time": "2022-03-08T16:45:37.412594Z",
     "start_time": "2022-03-08T16:45:37.381677Z"
    }
   },
   "outputs": [
    {
     "data": {
      "text/html": [
       "<div>\n",
       "<style scoped>\n",
       "    .dataframe tbody tr th:only-of-type {\n",
       "        vertical-align: middle;\n",
       "    }\n",
       "\n",
       "    .dataframe tbody tr th {\n",
       "        vertical-align: top;\n",
       "    }\n",
       "\n",
       "    .dataframe thead th {\n",
       "        text-align: right;\n",
       "    }\n",
       "</style>\n",
       "<table border=\"1\" class=\"dataframe\">\n",
       "  <thead>\n",
       "    <tr style=\"text-align: right;\">\n",
       "      <th></th>\n",
       "      <th>Unnamed: 0</th>\n",
       "      <th>tconst</th>\n",
       "      <th>primary_title</th>\n",
       "      <th>release_year</th>\n",
       "      <th>runtime</th>\n",
       "      <th>rating</th>\n",
       "      <th>votes</th>\n",
       "      <th>tomato_score</th>\n",
       "      <th>metacritic_score</th>\n",
       "      <th>mpaa_rating</th>\n",
       "      <th>...</th>\n",
       "      <th>cast_3</th>\n",
       "      <th>cast_4</th>\n",
       "      <th>cast_5</th>\n",
       "      <th>cast_6</th>\n",
       "      <th>cast_7</th>\n",
       "      <th>cast_8</th>\n",
       "      <th>cast_9</th>\n",
       "      <th>cast_10</th>\n",
       "      <th>plot_polarity</th>\n",
       "      <th>match_title</th>\n",
       "    </tr>\n",
       "  </thead>\n",
       "  <tbody>\n",
       "    <tr>\n",
       "      <th>0</th>\n",
       "      <td>0</td>\n",
       "      <td>tt0111161</td>\n",
       "      <td>The Shawshank Redemption</td>\n",
       "      <td>1994</td>\n",
       "      <td>142</td>\n",
       "      <td>9.3</td>\n",
       "      <td>2540263</td>\n",
       "      <td>91%</td>\n",
       "      <td>80/100</td>\n",
       "      <td>R</td>\n",
       "      <td>...</td>\n",
       "      <td>151.0</td>\n",
       "      <td>348409.0</td>\n",
       "      <td>6669.0</td>\n",
       "      <td>1104.0</td>\n",
       "      <td>175.0</td>\n",
       "      <td>555550.0</td>\n",
       "      <td>2353.0</td>\n",
       "      <td>5683.0</td>\n",
       "      <td>0.018280</td>\n",
       "      <td>The Shawshank Redemption (1994)</td>\n",
       "    </tr>\n",
       "    <tr>\n",
       "      <th>1</th>\n",
       "      <td>1</td>\n",
       "      <td>tt0468569</td>\n",
       "      <td>The Dark Knight</td>\n",
       "      <td>2008</td>\n",
       "      <td>152</td>\n",
       "      <td>9.0</td>\n",
       "      <td>2490570</td>\n",
       "      <td>94%</td>\n",
       "      <td>84/100</td>\n",
       "      <td>PG-13</td>\n",
       "      <td>...</td>\n",
       "      <td>5132.0</td>\n",
       "      <td>1173.0</td>\n",
       "      <td>323.0</td>\n",
       "      <td>634240.0</td>\n",
       "      <td>634300.0</td>\n",
       "      <td>275286.0</td>\n",
       "      <td>4170.0</td>\n",
       "      <td>650038.0</td>\n",
       "      <td>0.042357</td>\n",
       "      <td>The Dark Knight (2008)</td>\n",
       "    </tr>\n",
       "    <tr>\n",
       "      <th>2</th>\n",
       "      <td>2</td>\n",
       "      <td>tt1375666</td>\n",
       "      <td>Inception</td>\n",
       "      <td>2010</td>\n",
       "      <td>148</td>\n",
       "      <td>8.8</td>\n",
       "      <td>2231336</td>\n",
       "      <td>87%</td>\n",
       "      <td>74/100</td>\n",
       "      <td>PG-13</td>\n",
       "      <td>...</td>\n",
       "      <td>330687.0</td>\n",
       "      <td>680983.0</td>\n",
       "      <td>913822.0</td>\n",
       "      <td>634240.0</td>\n",
       "      <td>858799.0</td>\n",
       "      <td>1877.0</td>\n",
       "      <td>2892.0</td>\n",
       "      <td>809059.0</td>\n",
       "      <td>0.029848</td>\n",
       "      <td>Inception (2010)</td>\n",
       "    </tr>\n",
       "    <tr>\n",
       "      <th>3</th>\n",
       "      <td>3</td>\n",
       "      <td>tt0137523</td>\n",
       "      <td>Fight Club</td>\n",
       "      <td>1999</td>\n",
       "      <td>139</td>\n",
       "      <td>8.8</td>\n",
       "      <td>1999188</td>\n",
       "      <td>79%</td>\n",
       "      <td>66/100</td>\n",
       "      <td>R</td>\n",
       "      <td>...</td>\n",
       "      <td>1570.0</td>\n",
       "      <td>1533.0</td>\n",
       "      <td>340260.0</td>\n",
       "      <td>399.0</td>\n",
       "      <td>657333.0</td>\n",
       "      <td>880243.0</td>\n",
       "      <td>68501.0</td>\n",
       "      <td>149556.0</td>\n",
       "      <td>-0.008166</td>\n",
       "      <td>Fight Club (1999)</td>\n",
       "    </tr>\n",
       "    <tr>\n",
       "      <th>4</th>\n",
       "      <td>4</td>\n",
       "      <td>tt0109830</td>\n",
       "      <td>Forrest Gump</td>\n",
       "      <td>1994</td>\n",
       "      <td>142</td>\n",
       "      <td>8.8</td>\n",
       "      <td>1960064</td>\n",
       "      <td>70%</td>\n",
       "      <td>82/100</td>\n",
       "      <td>PG-13</td>\n",
       "      <td>...</td>\n",
       "      <td>705.0</td>\n",
       "      <td>641.0</td>\n",
       "      <td>398.0</td>\n",
       "      <td>709.0</td>\n",
       "      <td>343165.0</td>\n",
       "      <td>744839.0</td>\n",
       "      <td>277704.0</td>\n",
       "      <td>823330.0</td>\n",
       "      <td>0.079285</td>\n",
       "      <td>Forrest Gump (1994)</td>\n",
       "    </tr>\n",
       "  </tbody>\n",
       "</table>\n",
       "<p>5 rows × 32 columns</p>\n",
       "</div>"
      ],
      "text/plain": [
       "   Unnamed: 0     tconst             primary_title  release_year  runtime  \\\n",
       "0           0  tt0111161  The Shawshank Redemption          1994      142   \n",
       "1           1  tt0468569           The Dark Knight          2008      152   \n",
       "2           2  tt1375666                 Inception          2010      148   \n",
       "3           3  tt0137523                Fight Club          1999      139   \n",
       "4           4  tt0109830              Forrest Gump          1994      142   \n",
       "\n",
       "   rating    votes tomato_score metacritic_score mpaa_rating  ...    cast_3  \\\n",
       "0     9.3  2540263          91%           80/100           R  ...     151.0   \n",
       "1     9.0  2490570          94%           84/100       PG-13  ...    5132.0   \n",
       "2     8.8  2231336          87%           74/100       PG-13  ...  330687.0   \n",
       "3     8.8  1999188          79%           66/100           R  ...    1570.0   \n",
       "4     8.8  1960064          70%           82/100       PG-13  ...     705.0   \n",
       "\n",
       "     cast_4    cast_5    cast_6    cast_7    cast_8    cast_9   cast_10  \\\n",
       "0  348409.0    6669.0    1104.0     175.0  555550.0    2353.0    5683.0   \n",
       "1    1173.0     323.0  634240.0  634300.0  275286.0    4170.0  650038.0   \n",
       "2  680983.0  913822.0  634240.0  858799.0    1877.0    2892.0  809059.0   \n",
       "3    1533.0  340260.0     399.0  657333.0  880243.0   68501.0  149556.0   \n",
       "4     641.0     398.0     709.0  343165.0  744839.0  277704.0  823330.0   \n",
       "\n",
       "  plot_polarity                      match_title  \n",
       "0      0.018280  The Shawshank Redemption (1994)  \n",
       "1      0.042357           The Dark Knight (2008)  \n",
       "2      0.029848                 Inception (2010)  \n",
       "3     -0.008166                Fight Club (1999)  \n",
       "4      0.079285              Forrest Gump (1994)  \n",
       "\n",
       "[5 rows x 32 columns]"
      ]
     },
     "execution_count": 25,
     "metadata": {},
     "output_type": "execute_result"
    }
   ],
   "source": [
    "movies.head()"
   ]
  },
  {
   "cell_type": "code",
   "execution_count": 26,
   "id": "c8c3260e",
   "metadata": {
    "ExecuteTime": {
     "end_time": "2022-03-08T16:45:37.428551Z",
     "start_time": "2022-03-08T16:45:37.413592Z"
    },
    "scrolled": true
   },
   "outputs": [
    {
     "data": {
      "text/html": [
       "<div>\n",
       "<style scoped>\n",
       "    .dataframe tbody tr th:only-of-type {\n",
       "        vertical-align: middle;\n",
       "    }\n",
       "\n",
       "    .dataframe tbody tr th {\n",
       "        vertical-align: top;\n",
       "    }\n",
       "\n",
       "    .dataframe thead th {\n",
       "        text-align: right;\n",
       "    }\n",
       "</style>\n",
       "<table border=\"1\" class=\"dataframe\">\n",
       "  <thead>\n",
       "    <tr style=\"text-align: right;\">\n",
       "      <th></th>\n",
       "      <th>movieId</th>\n",
       "      <th>title</th>\n",
       "      <th>release_year</th>\n",
       "      <th>primary_title</th>\n",
       "      <th>match_title</th>\n",
       "    </tr>\n",
       "  </thead>\n",
       "  <tbody>\n",
       "    <tr>\n",
       "      <th>0</th>\n",
       "      <td>1</td>\n",
       "      <td>Toy Story (1995)</td>\n",
       "      <td>1995</td>\n",
       "      <td>Toy Story</td>\n",
       "      <td>Toy Story (1995)</td>\n",
       "    </tr>\n",
       "    <tr>\n",
       "      <th>1</th>\n",
       "      <td>2</td>\n",
       "      <td>Jumanji (1995)</td>\n",
       "      <td>1995</td>\n",
       "      <td>Jumanji</td>\n",
       "      <td>Jumanji (1995)</td>\n",
       "    </tr>\n",
       "    <tr>\n",
       "      <th>2</th>\n",
       "      <td>3</td>\n",
       "      <td>Grumpier Old Men (1995)</td>\n",
       "      <td>1995</td>\n",
       "      <td>Grumpier Old Men</td>\n",
       "      <td>Grumpier Old Men (1995)</td>\n",
       "    </tr>\n",
       "    <tr>\n",
       "      <th>3</th>\n",
       "      <td>4</td>\n",
       "      <td>Waiting to Exhale (1995)</td>\n",
       "      <td>1995</td>\n",
       "      <td>Waiting to Exhale</td>\n",
       "      <td>Waiting to Exhale (1995)</td>\n",
       "    </tr>\n",
       "    <tr>\n",
       "      <th>4</th>\n",
       "      <td>5</td>\n",
       "      <td>Father of the Bride Part II (1995)</td>\n",
       "      <td>1995</td>\n",
       "      <td>Father of the Bride Part II</td>\n",
       "      <td>Father of the Bride Part II (1995)</td>\n",
       "    </tr>\n",
       "  </tbody>\n",
       "</table>\n",
       "</div>"
      ],
      "text/plain": [
       "   movieId                               title release_year  \\\n",
       "0        1                    Toy Story (1995)         1995   \n",
       "1        2                      Jumanji (1995)         1995   \n",
       "2        3             Grumpier Old Men (1995)         1995   \n",
       "3        4            Waiting to Exhale (1995)         1995   \n",
       "4        5  Father of the Bride Part II (1995)         1995   \n",
       "\n",
       "                 primary_title                         match_title  \n",
       "0                    Toy Story                    Toy Story (1995)  \n",
       "1                      Jumanji                      Jumanji (1995)  \n",
       "2             Grumpier Old Men             Grumpier Old Men (1995)  \n",
       "3            Waiting to Exhale            Waiting to Exhale (1995)  \n",
       "4  Father of the Bride Part II  Father of the Bride Part II (1995)  "
      ]
     },
     "execution_count": 26,
     "metadata": {},
     "output_type": "execute_result"
    }
   ],
   "source": [
    "films.head()"
   ]
  },
  {
   "cell_type": "code",
   "execution_count": 27,
   "id": "72f056d8",
   "metadata": {
    "ExecuteTime": {
     "end_time": "2022-03-08T16:45:37.492380Z",
     "start_time": "2022-03-08T16:45:37.429549Z"
    }
   },
   "outputs": [
    {
     "data": {
      "text/plain": [
       "Unnamed: 0             0\n",
       "tconst                 0\n",
       "primary_title          0\n",
       "release_year_x         0\n",
       "runtime                0\n",
       "rating                 0\n",
       "votes                  0\n",
       "tomato_score        1067\n",
       "metacritic_score    2688\n",
       "mpaa_rating          381\n",
       "plot                   0\n",
       "genre_1                0\n",
       "genre_2             1086\n",
       "genre_3             4289\n",
       "director_1             0\n",
       "director_2          1086\n",
       "director_3          4289\n",
       "writer_1               0\n",
       "writer_2            3722\n",
       "writer_3            7963\n",
       "cast_1                 0\n",
       "cast_2                 2\n",
       "cast_3                11\n",
       "cast_4                11\n",
       "cast_5                14\n",
       "cast_6                17\n",
       "cast_7                35\n",
       "cast_8                77\n",
       "cast_9               196\n",
       "cast_10              590\n",
       "plot_polarity          0\n",
       "match_title_x          0\n",
       "movieId             1490\n",
       "title               1490\n",
       "release_year_y      1490\n",
       "match_title_y       1490\n",
       "dtype: int64"
      ]
     },
     "execution_count": 27,
     "metadata": {},
     "output_type": "execute_result"
    }
   ],
   "source": [
    "#finding out which films need to be fuzzy joined, since there are some direct matches\n",
    "movies = pd.merge(movies, films, on='primary_title', how='left')\n",
    "movies.isnull().sum()\n",
    "#there are 2,125 that do not have a direct title match. we will subset accordingly"
   ]
  },
  {
   "cell_type": "code",
   "execution_count": 28,
   "id": "b5069a7f",
   "metadata": {
    "ExecuteTime": {
     "end_time": "2022-03-08T16:45:37.508337Z",
     "start_time": "2022-03-08T16:45:37.493378Z"
    }
   },
   "outputs": [],
   "source": [
    "# movies.drop(columns=['release_year_y', 'match_title_y'], inplace=True)"
   ]
  },
  {
   "cell_type": "code",
   "execution_count": 29,
   "id": "ad8bd904",
   "metadata": {
    "ExecuteTime": {
     "end_time": "2022-03-08T16:45:37.524295Z",
     "start_time": "2022-03-08T16:45:37.509335Z"
    }
   },
   "outputs": [
    {
     "data": {
      "text/plain": [
       "Unnamed: 0            int64\n",
       "tconst               object\n",
       "primary_title        object\n",
       "release_year_x        int64\n",
       "runtime               int64\n",
       "rating              float64\n",
       "votes                 int64\n",
       "tomato_score         object\n",
       "metacritic_score     object\n",
       "mpaa_rating          object\n",
       "plot                 object\n",
       "genre_1              object\n",
       "genre_2              object\n",
       "genre_3              object\n",
       "director_1           object\n",
       "director_2           object\n",
       "director_3           object\n",
       "writer_1             object\n",
       "writer_2             object\n",
       "writer_3             object\n",
       "cast_1                int64\n",
       "cast_2              float64\n",
       "cast_3              float64\n",
       "cast_4              float64\n",
       "cast_5              float64\n",
       "cast_6              float64\n",
       "cast_7              float64\n",
       "cast_8              float64\n",
       "cast_9              float64\n",
       "cast_10             float64\n",
       "plot_polarity       float64\n",
       "match_title_x        object\n",
       "movieId             float64\n",
       "title                object\n",
       "release_year_y       object\n",
       "match_title_y        object\n",
       "dtype: object"
      ]
     },
     "execution_count": 29,
     "metadata": {},
     "output_type": "execute_result"
    }
   ],
   "source": [
    "movies.dtypes"
   ]
  },
  {
   "cell_type": "code",
   "execution_count": 30,
   "id": "3a7c7d50",
   "metadata": {
    "ExecuteTime": {
     "end_time": "2022-03-08T16:45:37.540253Z",
     "start_time": "2022-03-08T16:45:37.525294Z"
    }
   },
   "outputs": [],
   "source": [
    "movies['release_year_x'] = movies['release_year_x'].apply(lambda x: str(x))"
   ]
  },
  {
   "cell_type": "code",
   "execution_count": 31,
   "id": "b23a9d8f",
   "metadata": {
    "ExecuteTime": {
     "end_time": "2022-03-08T16:45:37.572167Z",
     "start_time": "2022-03-08T16:45:37.541250Z"
    }
   },
   "outputs": [
    {
     "data": {
      "text/html": [
       "<div>\n",
       "<style scoped>\n",
       "    .dataframe tbody tr th:only-of-type {\n",
       "        vertical-align: middle;\n",
       "    }\n",
       "\n",
       "    .dataframe tbody tr th {\n",
       "        vertical-align: top;\n",
       "    }\n",
       "\n",
       "    .dataframe thead th {\n",
       "        text-align: right;\n",
       "    }\n",
       "</style>\n",
       "<table border=\"1\" class=\"dataframe\">\n",
       "  <thead>\n",
       "    <tr style=\"text-align: right;\">\n",
       "      <th></th>\n",
       "      <th>Unnamed: 0</th>\n",
       "      <th>tconst</th>\n",
       "      <th>primary_title</th>\n",
       "      <th>release_year_x</th>\n",
       "      <th>runtime</th>\n",
       "      <th>rating</th>\n",
       "      <th>votes</th>\n",
       "      <th>tomato_score</th>\n",
       "      <th>metacritic_score</th>\n",
       "      <th>mpaa_rating</th>\n",
       "      <th>...</th>\n",
       "      <th>cast_7</th>\n",
       "      <th>cast_8</th>\n",
       "      <th>cast_9</th>\n",
       "      <th>cast_10</th>\n",
       "      <th>plot_polarity</th>\n",
       "      <th>match_title_x</th>\n",
       "      <th>movieId</th>\n",
       "      <th>title</th>\n",
       "      <th>release_year_y</th>\n",
       "      <th>match_title_y</th>\n",
       "    </tr>\n",
       "  </thead>\n",
       "  <tbody>\n",
       "    <tr>\n",
       "      <th>0</th>\n",
       "      <td>0</td>\n",
       "      <td>tt0111161</td>\n",
       "      <td>The Shawshank Redemption</td>\n",
       "      <td>1994</td>\n",
       "      <td>142</td>\n",
       "      <td>9.3</td>\n",
       "      <td>2540263</td>\n",
       "      <td>91%</td>\n",
       "      <td>80/100</td>\n",
       "      <td>R</td>\n",
       "      <td>...</td>\n",
       "      <td>175.0</td>\n",
       "      <td>555550.0</td>\n",
       "      <td>2353.0</td>\n",
       "      <td>5683.0</td>\n",
       "      <td>0.018280</td>\n",
       "      <td>The Shawshank Redemption (1994)</td>\n",
       "      <td>318.0</td>\n",
       "      <td>Shawshank Redemption, The (1994)</td>\n",
       "      <td>1994</td>\n",
       "      <td>The Shawshank Redemption (1994)</td>\n",
       "    </tr>\n",
       "    <tr>\n",
       "      <th>1</th>\n",
       "      <td>1</td>\n",
       "      <td>tt0468569</td>\n",
       "      <td>The Dark Knight</td>\n",
       "      <td>2008</td>\n",
       "      <td>152</td>\n",
       "      <td>9.0</td>\n",
       "      <td>2490570</td>\n",
       "      <td>94%</td>\n",
       "      <td>84/100</td>\n",
       "      <td>PG-13</td>\n",
       "      <td>...</td>\n",
       "      <td>634300.0</td>\n",
       "      <td>275286.0</td>\n",
       "      <td>4170.0</td>\n",
       "      <td>650038.0</td>\n",
       "      <td>0.042357</td>\n",
       "      <td>The Dark Knight (2008)</td>\n",
       "      <td>58559.0</td>\n",
       "      <td>Dark Knight, The (2008)</td>\n",
       "      <td>2008</td>\n",
       "      <td>The Dark Knight (2008)</td>\n",
       "    </tr>\n",
       "    <tr>\n",
       "      <th>2</th>\n",
       "      <td>1</td>\n",
       "      <td>tt0468569</td>\n",
       "      <td>The Dark Knight</td>\n",
       "      <td>2008</td>\n",
       "      <td>152</td>\n",
       "      <td>9.0</td>\n",
       "      <td>2490570</td>\n",
       "      <td>94%</td>\n",
       "      <td>84/100</td>\n",
       "      <td>PG-13</td>\n",
       "      <td>...</td>\n",
       "      <td>634300.0</td>\n",
       "      <td>275286.0</td>\n",
       "      <td>4170.0</td>\n",
       "      <td>650038.0</td>\n",
       "      <td>0.042357</td>\n",
       "      <td>The Dark Knight (2008)</td>\n",
       "      <td>130219.0</td>\n",
       "      <td>The Dark Knight (2011)</td>\n",
       "      <td>2011</td>\n",
       "      <td>The Dark Knight (2011)</td>\n",
       "    </tr>\n",
       "    <tr>\n",
       "      <th>3</th>\n",
       "      <td>2</td>\n",
       "      <td>tt1375666</td>\n",
       "      <td>Inception</td>\n",
       "      <td>2010</td>\n",
       "      <td>148</td>\n",
       "      <td>8.8</td>\n",
       "      <td>2231336</td>\n",
       "      <td>87%</td>\n",
       "      <td>74/100</td>\n",
       "      <td>PG-13</td>\n",
       "      <td>...</td>\n",
       "      <td>858799.0</td>\n",
       "      <td>1877.0</td>\n",
       "      <td>2892.0</td>\n",
       "      <td>809059.0</td>\n",
       "      <td>0.029848</td>\n",
       "      <td>Inception (2010)</td>\n",
       "      <td>79132.0</td>\n",
       "      <td>Inception (2010)</td>\n",
       "      <td>2010</td>\n",
       "      <td>Inception (2010)</td>\n",
       "    </tr>\n",
       "    <tr>\n",
       "      <th>4</th>\n",
       "      <td>3</td>\n",
       "      <td>tt0137523</td>\n",
       "      <td>Fight Club</td>\n",
       "      <td>1999</td>\n",
       "      <td>139</td>\n",
       "      <td>8.8</td>\n",
       "      <td>1999188</td>\n",
       "      <td>79%</td>\n",
       "      <td>66/100</td>\n",
       "      <td>R</td>\n",
       "      <td>...</td>\n",
       "      <td>657333.0</td>\n",
       "      <td>880243.0</td>\n",
       "      <td>68501.0</td>\n",
       "      <td>149556.0</td>\n",
       "      <td>-0.008166</td>\n",
       "      <td>Fight Club (1999)</td>\n",
       "      <td>2959.0</td>\n",
       "      <td>Fight Club (1999)</td>\n",
       "      <td>1999</td>\n",
       "      <td>Fight Club (1999)</td>\n",
       "    </tr>\n",
       "  </tbody>\n",
       "</table>\n",
       "<p>5 rows × 36 columns</p>\n",
       "</div>"
      ],
      "text/plain": [
       "   Unnamed: 0     tconst             primary_title release_year_x  runtime  \\\n",
       "0           0  tt0111161  The Shawshank Redemption           1994      142   \n",
       "1           1  tt0468569           The Dark Knight           2008      152   \n",
       "2           1  tt0468569           The Dark Knight           2008      152   \n",
       "3           2  tt1375666                 Inception           2010      148   \n",
       "4           3  tt0137523                Fight Club           1999      139   \n",
       "\n",
       "   rating    votes tomato_score metacritic_score mpaa_rating  ...    cast_7  \\\n",
       "0     9.3  2540263          91%           80/100           R  ...     175.0   \n",
       "1     9.0  2490570          94%           84/100       PG-13  ...  634300.0   \n",
       "2     9.0  2490570          94%           84/100       PG-13  ...  634300.0   \n",
       "3     8.8  2231336          87%           74/100       PG-13  ...  858799.0   \n",
       "4     8.8  1999188          79%           66/100           R  ...  657333.0   \n",
       "\n",
       "     cast_8   cast_9   cast_10 plot_polarity                    match_title_x  \\\n",
       "0  555550.0   2353.0    5683.0      0.018280  The Shawshank Redemption (1994)   \n",
       "1  275286.0   4170.0  650038.0      0.042357           The Dark Knight (2008)   \n",
       "2  275286.0   4170.0  650038.0      0.042357           The Dark Knight (2008)   \n",
       "3    1877.0   2892.0  809059.0      0.029848                 Inception (2010)   \n",
       "4  880243.0  68501.0  149556.0     -0.008166                Fight Club (1999)   \n",
       "\n",
       "    movieId                             title release_year_y  \\\n",
       "0     318.0  Shawshank Redemption, The (1994)           1994   \n",
       "1   58559.0           Dark Knight, The (2008)           2008   \n",
       "2  130219.0            The Dark Knight (2011)           2011   \n",
       "3   79132.0                  Inception (2010)           2010   \n",
       "4    2959.0                 Fight Club (1999)           1999   \n",
       "\n",
       "                     match_title_y  \n",
       "0  The Shawshank Redemption (1994)  \n",
       "1           The Dark Knight (2008)  \n",
       "2           The Dark Knight (2011)  \n",
       "3                 Inception (2010)  \n",
       "4                Fight Club (1999)  \n",
       "\n",
       "[5 rows x 36 columns]"
      ]
     },
     "execution_count": 31,
     "metadata": {},
     "output_type": "execute_result"
    }
   ],
   "source": [
    "movies.head()"
   ]
  },
  {
   "cell_type": "code",
   "execution_count": 32,
   "id": "c6ec3747",
   "metadata": {
    "ExecuteTime": {
     "end_time": "2022-03-08T16:45:37.604081Z",
     "start_time": "2022-03-08T16:45:37.573185Z"
    }
   },
   "outputs": [],
   "source": [
    "movies_fuzzy = movies[movies['movieId'].isnull() == True]"
   ]
  },
  {
   "cell_type": "code",
   "execution_count": 33,
   "id": "87785791",
   "metadata": {
    "ExecuteTime": {
     "end_time": "2022-03-08T16:45:37.620040Z",
     "start_time": "2022-03-08T16:45:37.605080Z"
    }
   },
   "outputs": [
    {
     "data": {
      "text/html": [
       "<div>\n",
       "<style scoped>\n",
       "    .dataframe tbody tr th:only-of-type {\n",
       "        vertical-align: middle;\n",
       "    }\n",
       "\n",
       "    .dataframe tbody tr th {\n",
       "        vertical-align: top;\n",
       "    }\n",
       "\n",
       "    .dataframe thead th {\n",
       "        text-align: right;\n",
       "    }\n",
       "</style>\n",
       "<table border=\"1\" class=\"dataframe\">\n",
       "  <thead>\n",
       "    <tr style=\"text-align: right;\">\n",
       "      <th></th>\n",
       "      <th>movieId</th>\n",
       "      <th>title</th>\n",
       "      <th>release_year</th>\n",
       "      <th>primary_title</th>\n",
       "      <th>match_title</th>\n",
       "    </tr>\n",
       "  </thead>\n",
       "  <tbody>\n",
       "    <tr>\n",
       "      <th>0</th>\n",
       "      <td>1</td>\n",
       "      <td>Toy Story (1995)</td>\n",
       "      <td>1995</td>\n",
       "      <td>Toy Story</td>\n",
       "      <td>Toy Story (1995)</td>\n",
       "    </tr>\n",
       "    <tr>\n",
       "      <th>1</th>\n",
       "      <td>2</td>\n",
       "      <td>Jumanji (1995)</td>\n",
       "      <td>1995</td>\n",
       "      <td>Jumanji</td>\n",
       "      <td>Jumanji (1995)</td>\n",
       "    </tr>\n",
       "    <tr>\n",
       "      <th>2</th>\n",
       "      <td>3</td>\n",
       "      <td>Grumpier Old Men (1995)</td>\n",
       "      <td>1995</td>\n",
       "      <td>Grumpier Old Men</td>\n",
       "      <td>Grumpier Old Men (1995)</td>\n",
       "    </tr>\n",
       "    <tr>\n",
       "      <th>3</th>\n",
       "      <td>4</td>\n",
       "      <td>Waiting to Exhale (1995)</td>\n",
       "      <td>1995</td>\n",
       "      <td>Waiting to Exhale</td>\n",
       "      <td>Waiting to Exhale (1995)</td>\n",
       "    </tr>\n",
       "    <tr>\n",
       "      <th>4</th>\n",
       "      <td>5</td>\n",
       "      <td>Father of the Bride Part II (1995)</td>\n",
       "      <td>1995</td>\n",
       "      <td>Father of the Bride Part II</td>\n",
       "      <td>Father of the Bride Part II (1995)</td>\n",
       "    </tr>\n",
       "  </tbody>\n",
       "</table>\n",
       "</div>"
      ],
      "text/plain": [
       "   movieId                               title release_year  \\\n",
       "0        1                    Toy Story (1995)         1995   \n",
       "1        2                      Jumanji (1995)         1995   \n",
       "2        3             Grumpier Old Men (1995)         1995   \n",
       "3        4            Waiting to Exhale (1995)         1995   \n",
       "4        5  Father of the Bride Part II (1995)         1995   \n",
       "\n",
       "                 primary_title                         match_title  \n",
       "0                    Toy Story                    Toy Story (1995)  \n",
       "1                      Jumanji                      Jumanji (1995)  \n",
       "2             Grumpier Old Men             Grumpier Old Men (1995)  \n",
       "3            Waiting to Exhale            Waiting to Exhale (1995)  \n",
       "4  Father of the Bride Part II  Father of the Bride Part II (1995)  "
      ]
     },
     "execution_count": 33,
     "metadata": {},
     "output_type": "execute_result"
    }
   ],
   "source": [
    "films.head()"
   ]
  },
  {
   "cell_type": "code",
   "execution_count": 34,
   "id": "79350e92",
   "metadata": {
    "ExecuteTime": {
     "end_time": "2022-03-08T16:49:00.142559Z",
     "start_time": "2022-03-08T16:45:37.621037Z"
    }
   },
   "outputs": [],
   "source": [
    "title_list = fuzzyset.FuzzySet()\n",
    "for title in films['match_title']:\n",
    "    title_list.add(title)\n",
    "    \n",
    "match_list = []\n",
    "for film_title in movies['primary_title']:\n",
    "    match_list.append(title_list.get(film_title)[0][1])\n",
    "    \n",
    "movies['match_list'] = match_list"
   ]
  },
  {
   "cell_type": "code",
   "execution_count": 35,
   "id": "fd2cbb79",
   "metadata": {
    "ExecuteTime": {
     "end_time": "2022-03-08T16:49:00.174474Z",
     "start_time": "2022-03-08T16:49:00.143557Z"
    }
   },
   "outputs": [
    {
     "data": {
      "text/html": [
       "<div>\n",
       "<style scoped>\n",
       "    .dataframe tbody tr th:only-of-type {\n",
       "        vertical-align: middle;\n",
       "    }\n",
       "\n",
       "    .dataframe tbody tr th {\n",
       "        vertical-align: top;\n",
       "    }\n",
       "\n",
       "    .dataframe thead th {\n",
       "        text-align: right;\n",
       "    }\n",
       "</style>\n",
       "<table border=\"1\" class=\"dataframe\">\n",
       "  <thead>\n",
       "    <tr style=\"text-align: right;\">\n",
       "      <th></th>\n",
       "      <th>Unnamed: 0</th>\n",
       "      <th>tconst</th>\n",
       "      <th>primary_title</th>\n",
       "      <th>release_year_x</th>\n",
       "      <th>runtime</th>\n",
       "      <th>rating</th>\n",
       "      <th>votes</th>\n",
       "      <th>tomato_score</th>\n",
       "      <th>metacritic_score</th>\n",
       "      <th>mpaa_rating</th>\n",
       "      <th>...</th>\n",
       "      <th>cast_8</th>\n",
       "      <th>cast_9</th>\n",
       "      <th>cast_10</th>\n",
       "      <th>plot_polarity</th>\n",
       "      <th>match_title_x</th>\n",
       "      <th>movieId</th>\n",
       "      <th>title</th>\n",
       "      <th>release_year_y</th>\n",
       "      <th>match_title_y</th>\n",
       "      <th>match_list</th>\n",
       "    </tr>\n",
       "  </thead>\n",
       "  <tbody>\n",
       "    <tr>\n",
       "      <th>0</th>\n",
       "      <td>0</td>\n",
       "      <td>tt0111161</td>\n",
       "      <td>The Shawshank Redemption</td>\n",
       "      <td>1994</td>\n",
       "      <td>142</td>\n",
       "      <td>9.3</td>\n",
       "      <td>2540263</td>\n",
       "      <td>91%</td>\n",
       "      <td>80/100</td>\n",
       "      <td>R</td>\n",
       "      <td>...</td>\n",
       "      <td>555550.0</td>\n",
       "      <td>2353.0</td>\n",
       "      <td>5683.0</td>\n",
       "      <td>0.018280</td>\n",
       "      <td>The Shawshank Redemption (1994)</td>\n",
       "      <td>318.0</td>\n",
       "      <td>Shawshank Redemption, The (1994)</td>\n",
       "      <td>1994</td>\n",
       "      <td>The Shawshank Redemption (1994)</td>\n",
       "      <td>The Shawshank Redemption (1994)</td>\n",
       "    </tr>\n",
       "    <tr>\n",
       "      <th>1</th>\n",
       "      <td>1</td>\n",
       "      <td>tt0468569</td>\n",
       "      <td>The Dark Knight</td>\n",
       "      <td>2008</td>\n",
       "      <td>152</td>\n",
       "      <td>9.0</td>\n",
       "      <td>2490570</td>\n",
       "      <td>94%</td>\n",
       "      <td>84/100</td>\n",
       "      <td>PG-13</td>\n",
       "      <td>...</td>\n",
       "      <td>275286.0</td>\n",
       "      <td>4170.0</td>\n",
       "      <td>650038.0</td>\n",
       "      <td>0.042357</td>\n",
       "      <td>The Dark Knight (2008)</td>\n",
       "      <td>58559.0</td>\n",
       "      <td>Dark Knight, The (2008)</td>\n",
       "      <td>2008</td>\n",
       "      <td>The Dark Knight (2008)</td>\n",
       "      <td>The Dark Knight (2008)</td>\n",
       "    </tr>\n",
       "    <tr>\n",
       "      <th>2</th>\n",
       "      <td>1</td>\n",
       "      <td>tt0468569</td>\n",
       "      <td>The Dark Knight</td>\n",
       "      <td>2008</td>\n",
       "      <td>152</td>\n",
       "      <td>9.0</td>\n",
       "      <td>2490570</td>\n",
       "      <td>94%</td>\n",
       "      <td>84/100</td>\n",
       "      <td>PG-13</td>\n",
       "      <td>...</td>\n",
       "      <td>275286.0</td>\n",
       "      <td>4170.0</td>\n",
       "      <td>650038.0</td>\n",
       "      <td>0.042357</td>\n",
       "      <td>The Dark Knight (2008)</td>\n",
       "      <td>130219.0</td>\n",
       "      <td>The Dark Knight (2011)</td>\n",
       "      <td>2011</td>\n",
       "      <td>The Dark Knight (2011)</td>\n",
       "      <td>The Dark Knight (2008)</td>\n",
       "    </tr>\n",
       "    <tr>\n",
       "      <th>3</th>\n",
       "      <td>2</td>\n",
       "      <td>tt1375666</td>\n",
       "      <td>Inception</td>\n",
       "      <td>2010</td>\n",
       "      <td>148</td>\n",
       "      <td>8.8</td>\n",
       "      <td>2231336</td>\n",
       "      <td>87%</td>\n",
       "      <td>74/100</td>\n",
       "      <td>PG-13</td>\n",
       "      <td>...</td>\n",
       "      <td>1877.0</td>\n",
       "      <td>2892.0</td>\n",
       "      <td>809059.0</td>\n",
       "      <td>0.029848</td>\n",
       "      <td>Inception (2010)</td>\n",
       "      <td>79132.0</td>\n",
       "      <td>Inception (2010)</td>\n",
       "      <td>2010</td>\n",
       "      <td>Inception (2010)</td>\n",
       "      <td>Inception (2010)</td>\n",
       "    </tr>\n",
       "    <tr>\n",
       "      <th>4</th>\n",
       "      <td>3</td>\n",
       "      <td>tt0137523</td>\n",
       "      <td>Fight Club</td>\n",
       "      <td>1999</td>\n",
       "      <td>139</td>\n",
       "      <td>8.8</td>\n",
       "      <td>1999188</td>\n",
       "      <td>79%</td>\n",
       "      <td>66/100</td>\n",
       "      <td>R</td>\n",
       "      <td>...</td>\n",
       "      <td>880243.0</td>\n",
       "      <td>68501.0</td>\n",
       "      <td>149556.0</td>\n",
       "      <td>-0.008166</td>\n",
       "      <td>Fight Club (1999)</td>\n",
       "      <td>2959.0</td>\n",
       "      <td>Fight Club (1999)</td>\n",
       "      <td>1999</td>\n",
       "      <td>Fight Club (1999)</td>\n",
       "      <td>Fight Club (1999)</td>\n",
       "    </tr>\n",
       "  </tbody>\n",
       "</table>\n",
       "<p>5 rows × 37 columns</p>\n",
       "</div>"
      ],
      "text/plain": [
       "   Unnamed: 0     tconst             primary_title release_year_x  runtime  \\\n",
       "0           0  tt0111161  The Shawshank Redemption           1994      142   \n",
       "1           1  tt0468569           The Dark Knight           2008      152   \n",
       "2           1  tt0468569           The Dark Knight           2008      152   \n",
       "3           2  tt1375666                 Inception           2010      148   \n",
       "4           3  tt0137523                Fight Club           1999      139   \n",
       "\n",
       "   rating    votes tomato_score metacritic_score mpaa_rating  ...    cast_8  \\\n",
       "0     9.3  2540263          91%           80/100           R  ...  555550.0   \n",
       "1     9.0  2490570          94%           84/100       PG-13  ...  275286.0   \n",
       "2     9.0  2490570          94%           84/100       PG-13  ...  275286.0   \n",
       "3     8.8  2231336          87%           74/100       PG-13  ...    1877.0   \n",
       "4     8.8  1999188          79%           66/100           R  ...  880243.0   \n",
       "\n",
       "    cast_9   cast_10 plot_polarity                    match_title_x   movieId  \\\n",
       "0   2353.0    5683.0      0.018280  The Shawshank Redemption (1994)     318.0   \n",
       "1   4170.0  650038.0      0.042357           The Dark Knight (2008)   58559.0   \n",
       "2   4170.0  650038.0      0.042357           The Dark Knight (2008)  130219.0   \n",
       "3   2892.0  809059.0      0.029848                 Inception (2010)   79132.0   \n",
       "4  68501.0  149556.0     -0.008166                Fight Club (1999)    2959.0   \n",
       "\n",
       "                              title release_year_y  \\\n",
       "0  Shawshank Redemption, The (1994)           1994   \n",
       "1           Dark Knight, The (2008)           2008   \n",
       "2            The Dark Knight (2011)           2011   \n",
       "3                  Inception (2010)           2010   \n",
       "4                 Fight Club (1999)           1999   \n",
       "\n",
       "                     match_title_y                       match_list  \n",
       "0  The Shawshank Redemption (1994)  The Shawshank Redemption (1994)  \n",
       "1           The Dark Knight (2008)           The Dark Knight (2008)  \n",
       "2           The Dark Knight (2011)           The Dark Knight (2008)  \n",
       "3                 Inception (2010)                 Inception (2010)  \n",
       "4                Fight Club (1999)                Fight Club (1999)  \n",
       "\n",
       "[5 rows x 37 columns]"
      ]
     },
     "execution_count": 35,
     "metadata": {},
     "output_type": "execute_result"
    }
   ],
   "source": [
    "movies.head()"
   ]
  },
  {
   "cell_type": "code",
   "execution_count": 36,
   "id": "3f088dbc",
   "metadata": {
    "ExecuteTime": {
     "end_time": "2022-03-08T16:49:00.190432Z",
     "start_time": "2022-03-08T16:49:00.175472Z"
    }
   },
   "outputs": [],
   "source": [
    "#getting a list of the films that have been properly matched\n",
    "\n",
    "year_list_1 = list(movies['match_title_x'])\n",
    "year_list_2 = list(movies['match_list'])\n",
    "titles = list(movies['primary_title'])\n",
    "matched = []\n",
    "\n",
    "for i in range(0, len(year_list_1)):\n",
    "    if year_list_1[i][-6:] == year_list_2[i][-6:]:\n",
    "        matched.append(titles[i])"
   ]
  },
  {
   "cell_type": "code",
   "execution_count": 37,
   "id": "5b386b20",
   "metadata": {
    "ExecuteTime": {
     "end_time": "2022-03-08T16:49:00.222346Z",
     "start_time": "2022-03-08T16:49:00.191430Z"
    }
   },
   "outputs": [],
   "source": [
    "#reducing the dataset to just movies that have been paired properly\n",
    "movies = movies[movies['primary_title'].isin(matched)==True]\n",
    "\n",
    "#we may have some duplicates but can deal with those later. "
   ]
  },
  {
   "cell_type": "code",
   "execution_count": 38,
   "id": "34b065b4",
   "metadata": {
    "ExecuteTime": {
     "end_time": "2022-03-08T16:49:00.237306Z",
     "start_time": "2022-03-08T16:49:00.224341Z"
    }
   },
   "outputs": [],
   "source": [
    "#subsetting to keep only movies where the match_list title year matches the release year\n",
    "\n",
    "prim_title_year = list(movies['release_year_x'])\n",
    "match_list_year = []\n",
    "for title in movies['match_list']:\n",
    "    match_list_year.append(title[-5:-1])"
   ]
  },
  {
   "cell_type": "code",
   "execution_count": 39,
   "id": "6e6b9760",
   "metadata": {
    "ExecuteTime": {
     "end_time": "2022-03-08T16:49:00.253264Z",
     "start_time": "2022-03-08T16:49:00.238304Z"
    }
   },
   "outputs": [
    {
     "data": {
      "text/plain": [
       "9091"
      ]
     },
     "execution_count": 39,
     "metadata": {},
     "output_type": "execute_result"
    }
   ],
   "source": [
    "#we have 9091 titles that have reviews that we can match them to. \n",
    "len(matched)"
   ]
  },
  {
   "cell_type": "code",
   "execution_count": 40,
   "id": "ad343709",
   "metadata": {
    "ExecuteTime": {
     "end_time": "2022-03-08T16:49:00.268223Z",
     "start_time": "2022-03-08T16:49:00.254261Z"
    }
   },
   "outputs": [],
   "source": [
    "matched_movies = []\n",
    "primary_title = list(movies['primary_title'])\n",
    "for i in range(0, len(primary_title)):\n",
    "    if prim_title_year[i] == match_list_year[i]:\n",
    "        matched_movies.append(primary_title[i])"
   ]
  },
  {
   "cell_type": "code",
   "execution_count": 41,
   "id": "a114be1c",
   "metadata": {
    "ExecuteTime": {
     "end_time": "2022-03-08T16:49:00.284180Z",
     "start_time": "2022-03-08T16:49:00.269222Z"
    }
   },
   "outputs": [],
   "source": [
    "movies = movies[movies['primary_title'].isin(matched_movies) == True]"
   ]
  },
  {
   "cell_type": "code",
   "execution_count": 42,
   "id": "dbdb6b02",
   "metadata": {
    "ExecuteTime": {
     "end_time": "2022-03-08T16:49:00.300138Z",
     "start_time": "2022-03-08T16:49:00.285178Z"
    }
   },
   "outputs": [],
   "source": [
    "#subsetting to keep only movies where the match_list title actually matches the primary_title\n",
    "prim_title_year = list(movies['release_year_x'])\n",
    "match_list_year = []\n",
    "for title in movies['match_list']:\n",
    "    match_list_year.append(title[-5:-1])\n",
    "matched_movies = []\n",
    "\n",
    "primary_title = list(movies['primary_title'])\n",
    "for i in range(0, len(primary_title)):\n",
    "    if prim_title_year[i] == match_list_year[i]:\n",
    "        matched_movies.append(primary_title[i])"
   ]
  },
  {
   "cell_type": "code",
   "execution_count": 43,
   "id": "63d021bb",
   "metadata": {
    "ExecuteTime": {
     "end_time": "2022-03-08T16:49:00.316095Z",
     "start_time": "2022-03-08T16:49:00.301135Z"
    }
   },
   "outputs": [],
   "source": [
    "movies = movies[movies['primary_title'].isin(matched_movies)==True]"
   ]
  },
  {
   "cell_type": "code",
   "execution_count": 44,
   "id": "909a2b9a",
   "metadata": {
    "ExecuteTime": {
     "end_time": "2022-03-08T16:49:00.332053Z",
     "start_time": "2022-03-08T16:49:00.317094Z"
    }
   },
   "outputs": [],
   "source": [
    "movies.drop_duplicates(subset='match_title_x', inplace=True)"
   ]
  },
  {
   "cell_type": "code",
   "execution_count": 51,
   "id": "65b6c8a6",
   "metadata": {
    "ExecuteTime": {
     "end_time": "2022-03-08T16:51:52.066889Z",
     "start_time": "2022-03-08T16:51:51.630058Z"
    }
   },
   "outputs": [],
   "source": [
    "#getting just the matching title and movie ID so we can add the ID to our movies dataset. \n",
    "films2 = pd.read_csv('./data/ml-25m/ml-25m/movies.csv')\n",
    "\n",
    "#removing the release year and making it its own column\n",
    "films2['release_year'] =  films2['title'].apply(lambda x: x[-5:-1])\n",
    "\n",
    "# removing parentheticals from titles for searching purposes:\n",
    "films2['primary_title'] = films2['title'].apply(lambda x: x.split('(')[0][:-1])\n",
    "\n",
    "#fixing titles that have \"the\" moved to the end for matching purposes\n",
    "test_list = []\n",
    "for title in films2['primary_title']:\n",
    "    if str(title[-3:]) == 'The':\n",
    "        test_list.append('The ' + str(title[:-5]))\n",
    "    else:\n",
    "        test_list.append(title)\n",
    "films2['primary_title'] = test_list\n",
    "\n",
    "#for films, adding the year back into the title to help with matching efficiency\n",
    "match_title = []\n",
    "title_list = films2['primary_title']\n",
    "year_list = films2['release_year']\n",
    "for i in range(0,len(title_list)):\n",
    "    match_title.append(title_list[i] + ' (' + year_list[i] + ')')\n",
    "    \n",
    "films2['match_title'] = match_title\n",
    "\n",
    "films2.drop(columns=['title', 'genres', 'release_year'], inplace=True) \n",
    "\n",
    "films2.rename(columns={'match_title':'match_list'}, inplace=True)"
   ]
  },
  {
   "cell_type": "code",
   "execution_count": 53,
   "id": "d226e813",
   "metadata": {
    "ExecuteTime": {
     "end_time": "2022-03-08T16:53:06.614574Z",
     "start_time": "2022-03-08T16:53:06.605597Z"
    }
   },
   "outputs": [],
   "source": [
    "movies.drop(columns=['movieId', 'title', 'release_year_y', 'match_title_y', 'match_title_x'], inplace=True)"
   ]
  },
  {
   "cell_type": "code",
   "execution_count": 55,
   "id": "8385cf3c",
   "metadata": {
    "ExecuteTime": {
     "end_time": "2022-03-08T16:54:04.237508Z",
     "start_time": "2022-03-08T16:54:04.190634Z"
    }
   },
   "outputs": [],
   "source": [
    "movies = pd.merge(movies, films2, how='left', on='match_list')"
   ]
  },
  {
   "cell_type": "code",
   "execution_count": 58,
   "id": "0e8a49b7",
   "metadata": {
    "ExecuteTime": {
     "end_time": "2022-03-08T16:54:56.212544Z",
     "start_time": "2022-03-08T16:54:56.197584Z"
    }
   },
   "outputs": [],
   "source": [
    "movies.drop(columns=['match_list', 'primary_title_y', 'match_list'], inplace=True)"
   ]
  },
  {
   "cell_type": "code",
   "execution_count": 60,
   "id": "792f06a0",
   "metadata": {
    "ExecuteTime": {
     "end_time": "2022-03-08T16:55:13.366679Z",
     "start_time": "2022-03-08T16:55:12.834103Z"
    }
   },
   "outputs": [],
   "source": [
    "movies.to_csv('./data/movies_with_review_id.csv', index=False)"
   ]
  }
 ],
 "metadata": {
  "kernelspec": {
   "display_name": "Python 3",
   "language": "python",
   "name": "python3"
  },
  "language_info": {
   "codemirror_mode": {
    "name": "ipython",
    "version": 3
   },
   "file_extension": ".py",
   "mimetype": "text/x-python",
   "name": "python",
   "nbconvert_exporter": "python",
   "pygments_lexer": "ipython3",
   "version": "3.8.8"
  }
 },
 "nbformat": 4,
 "nbformat_minor": 5
}
