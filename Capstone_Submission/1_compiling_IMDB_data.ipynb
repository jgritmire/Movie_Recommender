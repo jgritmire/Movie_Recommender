{
 "cells": [
  {
   "cell_type": "code",
   "execution_count": 13,
   "id": "8c99ca4e",
   "metadata": {
    "ExecuteTime": {
     "end_time": "2022-04-12T01:29:35.966677Z",
     "start_time": "2022-04-12T01:29:35.962688Z"
    }
   },
   "outputs": [],
   "source": [
    "import requests\n",
    "import pandas as pd\n",
    "import time\n",
    "import json"
   ]
  },
  {
   "cell_type": "code",
   "execution_count": 14,
   "id": "40aa1a47",
   "metadata": {
    "ExecuteTime": {
     "end_time": "2022-04-12T01:29:35.982635Z",
     "start_time": "2022-04-12T01:29:35.968673Z"
    }
   },
   "outputs": [],
   "source": [
    "#https://www.imdb.com/interfaces/"
   ]
  },
  {
   "cell_type": "markdown",
   "id": "8cb25740",
   "metadata": {},
   "source": [
    "There is a significant amount of data provided by IMDB. In this notebook, I parse through all of it and merge the relevant information into a single csv."
   ]
  },
  {
   "cell_type": "code",
   "execution_count": 15,
   "id": "96778a56",
   "metadata": {
    "ExecuteTime": {
     "end_time": "2022-04-12T01:31:48.189972Z",
     "start_time": "2022-04-12T01:29:35.983633Z"
    }
   },
   "outputs": [
    {
     "name": "stderr",
     "output_type": "stream",
     "text": [
      "C:\\Users\\jg_ri\\Anaconda3\\lib\\site-packages\\IPython\\core\\interactiveshell.py:3165: DtypeWarning: Columns (7) have mixed types.Specify dtype option on import or set low_memory=False.\n",
      "  has_raised = await self.run_ast_nodes(code_ast.body, cell_name,\n",
      "C:\\Users\\jg_ri\\Anaconda3\\lib\\site-packages\\IPython\\core\\interactiveshell.py:3165: DtypeWarning: Columns (4,5) have mixed types.Specify dtype option on import or set low_memory=False.\n",
      "  has_raised = await self.run_ast_nodes(code_ast.body, cell_name,\n"
     ]
    }
   ],
   "source": [
    "a = pd.read_csv('./data/title.akas.tsv.gz', sep='\\t', compression='gzip')\n",
    "b = pd.read_csv('./data/title.basics.tsv.gz', sep='\\t', compression='gzip')\n",
    "c = pd.read_csv('./data/title.crew.tsv.gz', sep='\\t', compression='gzip')\n",
    "d = pd.read_csv('./data/title.episode.tsv.gz', sep='\\t', compression='gzip')\n",
    "e = pd.read_csv('./data/title.principals.tsv.gz', sep='\\t', compression='gzip')\n",
    "f = pd.read_csv('./data/title.ratings.tsv.gz', sep='\\t', compression='gzip')\n",
    "g = pd.read_csv('./data/name.basics.tsv.gz', sep='\\t', compression='gzip')"
   ]
  },
  {
   "cell_type": "code",
   "execution_count": 16,
   "id": "f047d029",
   "metadata": {
    "ExecuteTime": {
     "end_time": "2022-04-12T01:31:48.235851Z",
     "start_time": "2022-04-12T01:31:48.196953Z"
    }
   },
   "outputs": [],
   "source": [
    "#renaming the unique id for consistency\n",
    "a.rename(columns = {'titleId':'tconst'}, inplace=True)"
   ]
  },
  {
   "cell_type": "code",
   "execution_count": 17,
   "id": "85109b06",
   "metadata": {
    "ExecuteTime": {
     "end_time": "2022-04-12T01:31:48.297685Z",
     "start_time": "2022-04-12T01:31:48.238843Z"
    }
   },
   "outputs": [
    {
     "data": {
      "text/plain": [
       "(30871184, 8)"
      ]
     },
     "execution_count": 17,
     "metadata": {},
     "output_type": "execute_result"
    }
   ],
   "source": [
    "a.shape"
   ]
  },
  {
   "cell_type": "code",
   "execution_count": 18,
   "id": "6eec1650",
   "metadata": {
    "ExecuteTime": {
     "end_time": "2022-04-12T01:31:48.312644Z",
     "start_time": "2022-04-12T01:31:48.299679Z"
    }
   },
   "outputs": [
    {
     "data": {
      "text/plain": [
       "(6486450, 4)"
      ]
     },
     "execution_count": 18,
     "metadata": {},
     "output_type": "execute_result"
    }
   ],
   "source": [
    "d.shape"
   ]
  },
  {
   "cell_type": "code",
   "execution_count": 19,
   "id": "f88a9025",
   "metadata": {
    "ExecuteTime": {
     "end_time": "2022-04-12T01:32:22.793406Z",
     "start_time": "2022-04-12T01:31:48.313642Z"
    }
   },
   "outputs": [],
   "source": [
    "#merging dataframes a and d\n",
    "a = a.merge(d, on='tconst', how='left')"
   ]
  },
  {
   "cell_type": "code",
   "execution_count": 20,
   "id": "890058e7",
   "metadata": {
    "ExecuteTime": {
     "end_time": "2022-04-12T01:32:22.903113Z",
     "start_time": "2022-04-12T01:32:22.830307Z"
    }
   },
   "outputs": [
    {
     "data": {
      "text/plain": [
       "(30871184, 11)"
      ]
     },
     "execution_count": 20,
     "metadata": {},
     "output_type": "execute_result"
    }
   ],
   "source": [
    "a.shape"
   ]
  },
  {
   "cell_type": "code",
   "execution_count": 21,
   "id": "0861c52f",
   "metadata": {
    "ExecuteTime": {
     "end_time": "2022-04-12T01:32:23.075651Z",
     "start_time": "2022-04-12T01:32:22.905108Z"
    }
   },
   "outputs": [
    {
     "data": {
      "text/html": [
       "<div>\n",
       "<style scoped>\n",
       "    .dataframe tbody tr th:only-of-type {\n",
       "        vertical-align: middle;\n",
       "    }\n",
       "\n",
       "    .dataframe tbody tr th {\n",
       "        vertical-align: top;\n",
       "    }\n",
       "\n",
       "    .dataframe thead th {\n",
       "        text-align: right;\n",
       "    }\n",
       "</style>\n",
       "<table border=\"1\" class=\"dataframe\">\n",
       "  <thead>\n",
       "    <tr style=\"text-align: right;\">\n",
       "      <th></th>\n",
       "      <th>tconst</th>\n",
       "      <th>ordering</th>\n",
       "      <th>title</th>\n",
       "      <th>region</th>\n",
       "      <th>language</th>\n",
       "      <th>types</th>\n",
       "      <th>attributes</th>\n",
       "      <th>isOriginalTitle</th>\n",
       "      <th>parentTconst</th>\n",
       "      <th>seasonNumber</th>\n",
       "      <th>episodeNumber</th>\n",
       "    </tr>\n",
       "  </thead>\n",
       "  <tbody>\n",
       "    <tr>\n",
       "      <th>0</th>\n",
       "      <td>tt0000001</td>\n",
       "      <td>1</td>\n",
       "      <td>Карменсіта</td>\n",
       "      <td>UA</td>\n",
       "      <td>\\N</td>\n",
       "      <td>imdbDisplay</td>\n",
       "      <td>\\N</td>\n",
       "      <td>0</td>\n",
       "      <td>NaN</td>\n",
       "      <td>NaN</td>\n",
       "      <td>NaN</td>\n",
       "    </tr>\n",
       "    <tr>\n",
       "      <th>1</th>\n",
       "      <td>tt0000001</td>\n",
       "      <td>2</td>\n",
       "      <td>Carmencita</td>\n",
       "      <td>DE</td>\n",
       "      <td>\\N</td>\n",
       "      <td>\\N</td>\n",
       "      <td>literal title</td>\n",
       "      <td>0</td>\n",
       "      <td>NaN</td>\n",
       "      <td>NaN</td>\n",
       "      <td>NaN</td>\n",
       "    </tr>\n",
       "    <tr>\n",
       "      <th>2</th>\n",
       "      <td>tt0000001</td>\n",
       "      <td>3</td>\n",
       "      <td>Carmencita - spanyol tánc</td>\n",
       "      <td>HU</td>\n",
       "      <td>\\N</td>\n",
       "      <td>imdbDisplay</td>\n",
       "      <td>\\N</td>\n",
       "      <td>0</td>\n",
       "      <td>NaN</td>\n",
       "      <td>NaN</td>\n",
       "      <td>NaN</td>\n",
       "    </tr>\n",
       "    <tr>\n",
       "      <th>3</th>\n",
       "      <td>tt0000001</td>\n",
       "      <td>4</td>\n",
       "      <td>Καρμενσίτα</td>\n",
       "      <td>GR</td>\n",
       "      <td>\\N</td>\n",
       "      <td>imdbDisplay</td>\n",
       "      <td>\\N</td>\n",
       "      <td>0</td>\n",
       "      <td>NaN</td>\n",
       "      <td>NaN</td>\n",
       "      <td>NaN</td>\n",
       "    </tr>\n",
       "    <tr>\n",
       "      <th>4</th>\n",
       "      <td>tt0000001</td>\n",
       "      <td>5</td>\n",
       "      <td>Карменсита</td>\n",
       "      <td>RU</td>\n",
       "      <td>\\N</td>\n",
       "      <td>imdbDisplay</td>\n",
       "      <td>\\N</td>\n",
       "      <td>0</td>\n",
       "      <td>NaN</td>\n",
       "      <td>NaN</td>\n",
       "      <td>NaN</td>\n",
       "    </tr>\n",
       "  </tbody>\n",
       "</table>\n",
       "</div>"
      ],
      "text/plain": [
       "      tconst  ordering                      title region language  \\\n",
       "0  tt0000001         1                 Карменсіта     UA       \\N   \n",
       "1  tt0000001         2                 Carmencita     DE       \\N   \n",
       "2  tt0000001         3  Carmencita - spanyol tánc     HU       \\N   \n",
       "3  tt0000001         4                 Καρμενσίτα     GR       \\N   \n",
       "4  tt0000001         5                 Карменсита     RU       \\N   \n",
       "\n",
       "         types     attributes isOriginalTitle parentTconst seasonNumber  \\\n",
       "0  imdbDisplay             \\N               0          NaN          NaN   \n",
       "1           \\N  literal title               0          NaN          NaN   \n",
       "2  imdbDisplay             \\N               0          NaN          NaN   \n",
       "3  imdbDisplay             \\N               0          NaN          NaN   \n",
       "4  imdbDisplay             \\N               0          NaN          NaN   \n",
       "\n",
       "  episodeNumber  \n",
       "0           NaN  \n",
       "1           NaN  \n",
       "2           NaN  \n",
       "3           NaN  \n",
       "4           NaN  "
      ]
     },
     "execution_count": 21,
     "metadata": {},
     "output_type": "execute_result"
    }
   ],
   "source": [
    "a.head()"
   ]
  },
  {
   "cell_type": "code",
   "execution_count": 22,
   "id": "b0044989",
   "metadata": {
    "ExecuteTime": {
     "end_time": "2022-04-12T01:32:23.091608Z",
     "start_time": "2022-04-12T01:32:23.076649Z"
    }
   },
   "outputs": [],
   "source": [
    "#nulls are coded as '\\N' so we need a function to replace these nulls\n",
    "def slash_n(x):\n",
    "    if x == '\\\\N':\n",
    "        return None\n",
    "    else:\n",
    "        return x"
   ]
  },
  {
   "cell_type": "code",
   "execution_count": 23,
   "id": "446a26ae",
   "metadata": {
    "ExecuteTime": {
     "end_time": "2022-04-12T01:32:27.306334Z",
     "start_time": "2022-04-12T01:32:23.092606Z"
    }
   },
   "outputs": [],
   "source": [
    "#filling the nulls\n",
    "a['episodeNumber'] = a['episodeNumber'].apply(slash_n)"
   ]
  },
  {
   "cell_type": "code",
   "execution_count": 24,
   "id": "2d1cced2",
   "metadata": {
    "ExecuteTime": {
     "end_time": "2022-04-12T01:32:32.983148Z",
     "start_time": "2022-04-12T01:32:27.307331Z"
    }
   },
   "outputs": [],
   "source": [
    "#if an entry doesn't contain an episode number, then it must be a movie. \n",
    "a = a[a['episodeNumber'].isnull() == True]"
   ]
  },
  {
   "cell_type": "code",
   "execution_count": 25,
   "id": "b10e4449",
   "metadata": {
    "ExecuteTime": {
     "end_time": "2022-04-12T01:32:34.317579Z",
     "start_time": "2022-04-12T01:32:32.986140Z"
    }
   },
   "outputs": [],
   "source": [
    "#overwriting dataframe d to save memory\n",
    "d = 'x'"
   ]
  },
  {
   "cell_type": "code",
   "execution_count": 26,
   "id": "82ebbd1e",
   "metadata": {
    "ExecuteTime": {
     "end_time": "2022-04-12T01:32:35.392702Z",
     "start_time": "2022-04-12T01:32:34.319573Z"
    }
   },
   "outputs": [],
   "source": [
    "temp = a[a['language'] == '\\\\N']"
   ]
  },
  {
   "cell_type": "code",
   "execution_count": 27,
   "id": "8828a699",
   "metadata": {
    "ExecuteTime": {
     "end_time": "2022-04-12T01:32:36.308253Z",
     "start_time": "2022-04-12T01:32:35.402676Z"
    }
   },
   "outputs": [],
   "source": [
    "#restricting the dataset to english movies\n",
    "a = a[a['language'] == 'en']"
   ]
  },
  {
   "cell_type": "code",
   "execution_count": 28,
   "id": "200c1d09",
   "metadata": {
    "ExecuteTime": {
     "end_time": "2022-04-12T01:32:36.323213Z",
     "start_time": "2022-04-12T01:32:36.309251Z"
    }
   },
   "outputs": [],
   "source": [
    "backup = a"
   ]
  },
  {
   "cell_type": "code",
   "execution_count": 29,
   "id": "095075e1",
   "metadata": {
    "ExecuteTime": {
     "end_time": "2022-04-12T01:32:36.339171Z",
     "start_time": "2022-04-12T01:32:36.325208Z"
    }
   },
   "outputs": [],
   "source": [
    "# #loading in more data\n",
    "# b = pd.read_csv('./data/title.basics.tsv.gz', sep='\\t', compression='gzip')"
   ]
  },
  {
   "cell_type": "code",
   "execution_count": 30,
   "id": "476a6a96",
   "metadata": {
    "ExecuteTime": {
     "end_time": "2022-04-12T01:32:36.355129Z",
     "start_time": "2022-04-12T01:32:36.343160Z"
    }
   },
   "outputs": [
    {
     "data": {
      "text/plain": [
       "(8673945, 9)"
      ]
     },
     "execution_count": 30,
     "metadata": {},
     "output_type": "execute_result"
    }
   ],
   "source": [
    "b.shape"
   ]
  },
  {
   "cell_type": "code",
   "execution_count": 31,
   "id": "2431a791",
   "metadata": {
    "ExecuteTime": {
     "end_time": "2022-04-12T01:32:48.613336Z",
     "start_time": "2022-04-12T01:32:36.360115Z"
    }
   },
   "outputs": [],
   "source": [
    "#merging the new data onto our other dataset\n",
    "a = a.merge(b, on='tconst', how='left')"
   ]
  },
  {
   "cell_type": "code",
   "execution_count": 32,
   "id": "abdef8a4",
   "metadata": {
    "ExecuteTime": {
     "end_time": "2022-04-12T01:32:48.628297Z",
     "start_time": "2022-04-12T01:32:48.614334Z"
    }
   },
   "outputs": [
    {
     "data": {
      "text/plain": [
       "(318392, 19)"
      ]
     },
     "execution_count": 32,
     "metadata": {},
     "output_type": "execute_result"
    }
   ],
   "source": [
    "a.shape"
   ]
  },
  {
   "cell_type": "code",
   "execution_count": 33,
   "id": "f3bb3359",
   "metadata": {
    "ExecuteTime": {
     "end_time": "2022-04-12T01:32:49.056152Z",
     "start_time": "2022-04-12T01:32:48.631289Z"
    }
   },
   "outputs": [],
   "source": [
    "#overwriting b to save memory\n",
    "b='x'"
   ]
  },
  {
   "cell_type": "code",
   "execution_count": 34,
   "id": "648effcd",
   "metadata": {
    "ExecuteTime": {
     "end_time": "2022-04-12T01:32:49.087069Z",
     "start_time": "2022-04-12T01:32:49.057150Z"
    }
   },
   "outputs": [],
   "source": [
    "backup = a"
   ]
  },
  {
   "cell_type": "code",
   "execution_count": 35,
   "id": "6d86c3d3",
   "metadata": {
    "ExecuteTime": {
     "end_time": "2022-04-12T01:32:49.103027Z",
     "start_time": "2022-04-12T01:32:49.094051Z"
    }
   },
   "outputs": [],
   "source": [
    "# #reading in more data\n",
    "# c = pd.read_csv('./data/title.crew.tsv.gz', sep='\\t', compression='gzip')"
   ]
  },
  {
   "cell_type": "code",
   "execution_count": 36,
   "id": "5c1eb78d",
   "metadata": {
    "ExecuteTime": {
     "end_time": "2022-04-12T01:32:56.941059Z",
     "start_time": "2022-04-12T01:32:49.105022Z"
    }
   },
   "outputs": [],
   "source": [
    "#merging onto existing data\n",
    "a = a.merge(c, on='tconst', how='left')"
   ]
  },
  {
   "cell_type": "code",
   "execution_count": 37,
   "id": "01b0efdb",
   "metadata": {
    "ExecuteTime": {
     "end_time": "2022-04-12T01:32:57.163464Z",
     "start_time": "2022-04-12T01:32:56.942056Z"
    }
   },
   "outputs": [],
   "source": [
    "#overwriting c to save memory\n",
    "c = 'x'"
   ]
  },
  {
   "cell_type": "code",
   "execution_count": 38,
   "id": "38818fa0",
   "metadata": {
    "ExecuteTime": {
     "end_time": "2022-04-12T01:32:57.179422Z",
     "start_time": "2022-04-12T01:32:57.164462Z"
    }
   },
   "outputs": [
    {
     "data": {
      "text/plain": [
       "(318392, 21)"
      ]
     },
     "execution_count": 38,
     "metadata": {},
     "output_type": "execute_result"
    }
   ],
   "source": [
    "a.shape"
   ]
  },
  {
   "cell_type": "code",
   "execution_count": 39,
   "id": "18850fcf",
   "metadata": {
    "ExecuteTime": {
     "end_time": "2022-04-12T01:32:57.211337Z",
     "start_time": "2022-04-12T01:32:57.180420Z"
    }
   },
   "outputs": [],
   "source": [
    "backup = a"
   ]
  },
  {
   "cell_type": "code",
   "execution_count": 40,
   "id": "c4439ae3",
   "metadata": {
    "ExecuteTime": {
     "end_time": "2022-04-12T01:32:57.227293Z",
     "start_time": "2022-04-12T01:32:57.212334Z"
    }
   },
   "outputs": [],
   "source": [
    "#reading in more data\n",
    "# f = pd.read_csv('./data/title.ratings.tsv.gz', sep='\\t', compression='gzip')\n",
    "# g = pd.read_csv('./data/name.basics.tsv.gz', sep='\\t', compression='gzip')"
   ]
  },
  {
   "cell_type": "code",
   "execution_count": 41,
   "id": "add4a52f",
   "metadata": {
    "ExecuteTime": {
     "end_time": "2022-04-12T01:32:58.366247Z",
     "start_time": "2022-04-12T01:32:57.228292Z"
    }
   },
   "outputs": [],
   "source": [
    "#merging onto existing data\n",
    "a = backup.merge(f, on='tconst', how='left')"
   ]
  },
  {
   "cell_type": "code",
   "execution_count": 42,
   "id": "10ad1cdf",
   "metadata": {
    "ExecuteTime": {
     "end_time": "2022-04-12T01:32:58.414119Z",
     "start_time": "2022-04-12T01:32:58.367245Z"
    }
   },
   "outputs": [
    {
     "data": {
      "text/html": [
       "<div>\n",
       "<style scoped>\n",
       "    .dataframe tbody tr th:only-of-type {\n",
       "        vertical-align: middle;\n",
       "    }\n",
       "\n",
       "    .dataframe tbody tr th {\n",
       "        vertical-align: top;\n",
       "    }\n",
       "\n",
       "    .dataframe thead th {\n",
       "        text-align: right;\n",
       "    }\n",
       "</style>\n",
       "<table border=\"1\" class=\"dataframe\">\n",
       "  <thead>\n",
       "    <tr style=\"text-align: right;\">\n",
       "      <th></th>\n",
       "      <th>tconst</th>\n",
       "      <th>ordering</th>\n",
       "      <th>title</th>\n",
       "      <th>region</th>\n",
       "      <th>language</th>\n",
       "      <th>types</th>\n",
       "      <th>attributes</th>\n",
       "      <th>isOriginalTitle</th>\n",
       "      <th>parentTconst</th>\n",
       "      <th>seasonNumber</th>\n",
       "      <th>...</th>\n",
       "      <th>originalTitle</th>\n",
       "      <th>isAdult</th>\n",
       "      <th>startYear</th>\n",
       "      <th>endYear</th>\n",
       "      <th>runtimeMinutes</th>\n",
       "      <th>genres</th>\n",
       "      <th>directors</th>\n",
       "      <th>writers</th>\n",
       "      <th>averageRating</th>\n",
       "      <th>numVotes</th>\n",
       "    </tr>\n",
       "  </thead>\n",
       "  <tbody>\n",
       "    <tr>\n",
       "      <th>0</th>\n",
       "      <td>tt0000005</td>\n",
       "      <td>4</td>\n",
       "      <td>Blacksmith Scene</td>\n",
       "      <td>CA</td>\n",
       "      <td>en</td>\n",
       "      <td>imdbDisplay</td>\n",
       "      <td>\\N</td>\n",
       "      <td>0</td>\n",
       "      <td>NaN</td>\n",
       "      <td>NaN</td>\n",
       "      <td>...</td>\n",
       "      <td>Blacksmith Scene</td>\n",
       "      <td>0</td>\n",
       "      <td>1893</td>\n",
       "      <td>\\N</td>\n",
       "      <td>1</td>\n",
       "      <td>Comedy,Short</td>\n",
       "      <td>nm0005690</td>\n",
       "      <td>\\N</td>\n",
       "      <td>6.2</td>\n",
       "      <td>2451.0</td>\n",
       "    </tr>\n",
       "    <tr>\n",
       "      <th>1</th>\n",
       "      <td>tt0000010</td>\n",
       "      <td>6</td>\n",
       "      <td>La sortie de l'usine Lumière à Lyon</td>\n",
       "      <td>CA</td>\n",
       "      <td>en</td>\n",
       "      <td>imdbDisplay</td>\n",
       "      <td>\\N</td>\n",
       "      <td>0</td>\n",
       "      <td>NaN</td>\n",
       "      <td>NaN</td>\n",
       "      <td>...</td>\n",
       "      <td>La sortie de l'usine Lumière à Lyon</td>\n",
       "      <td>0</td>\n",
       "      <td>1895</td>\n",
       "      <td>\\N</td>\n",
       "      <td>1</td>\n",
       "      <td>Documentary,Short</td>\n",
       "      <td>nm0525910</td>\n",
       "      <td>\\N</td>\n",
       "      <td>6.9</td>\n",
       "      <td>6699.0</td>\n",
       "    </tr>\n",
       "    <tr>\n",
       "      <th>2</th>\n",
       "      <td>tt0000012</td>\n",
       "      <td>22</td>\n",
       "      <td>The Arrival of a Train</td>\n",
       "      <td>XWW</td>\n",
       "      <td>en</td>\n",
       "      <td>imdbDisplay</td>\n",
       "      <td>\\N</td>\n",
       "      <td>0</td>\n",
       "      <td>NaN</td>\n",
       "      <td>NaN</td>\n",
       "      <td>...</td>\n",
       "      <td>L'arrivée d'un train à La Ciotat</td>\n",
       "      <td>0</td>\n",
       "      <td>1896</td>\n",
       "      <td>\\N</td>\n",
       "      <td>1</td>\n",
       "      <td>Documentary,Short</td>\n",
       "      <td>nm0525910,nm0525908</td>\n",
       "      <td>\\N</td>\n",
       "      <td>7.5</td>\n",
       "      <td>11498.0</td>\n",
       "    </tr>\n",
       "    <tr>\n",
       "      <th>3</th>\n",
       "      <td>tt0000012</td>\n",
       "      <td>24</td>\n",
       "      <td>L'arrivée d'un train à La Ciotat</td>\n",
       "      <td>CA</td>\n",
       "      <td>en</td>\n",
       "      <td>imdbDisplay</td>\n",
       "      <td>\\N</td>\n",
       "      <td>0</td>\n",
       "      <td>NaN</td>\n",
       "      <td>NaN</td>\n",
       "      <td>...</td>\n",
       "      <td>L'arrivée d'un train à La Ciotat</td>\n",
       "      <td>0</td>\n",
       "      <td>1896</td>\n",
       "      <td>\\N</td>\n",
       "      <td>1</td>\n",
       "      <td>Documentary,Short</td>\n",
       "      <td>nm0525910,nm0525908</td>\n",
       "      <td>\\N</td>\n",
       "      <td>7.5</td>\n",
       "      <td>11498.0</td>\n",
       "    </tr>\n",
       "    <tr>\n",
       "      <th>4</th>\n",
       "      <td>tt0000012</td>\n",
       "      <td>27</td>\n",
       "      <td>The Arrival of a Train</td>\n",
       "      <td>XEU</td>\n",
       "      <td>en</td>\n",
       "      <td>imdbDisplay</td>\n",
       "      <td>\\N</td>\n",
       "      <td>0</td>\n",
       "      <td>NaN</td>\n",
       "      <td>NaN</td>\n",
       "      <td>...</td>\n",
       "      <td>L'arrivée d'un train à La Ciotat</td>\n",
       "      <td>0</td>\n",
       "      <td>1896</td>\n",
       "      <td>\\N</td>\n",
       "      <td>1</td>\n",
       "      <td>Documentary,Short</td>\n",
       "      <td>nm0525910,nm0525908</td>\n",
       "      <td>\\N</td>\n",
       "      <td>7.5</td>\n",
       "      <td>11498.0</td>\n",
       "    </tr>\n",
       "  </tbody>\n",
       "</table>\n",
       "<p>5 rows × 23 columns</p>\n",
       "</div>"
      ],
      "text/plain": [
       "      tconst  ordering                                title region language  \\\n",
       "0  tt0000005         4                     Blacksmith Scene     CA       en   \n",
       "1  tt0000010         6  La sortie de l'usine Lumière à Lyon     CA       en   \n",
       "2  tt0000012        22               The Arrival of a Train    XWW       en   \n",
       "3  tt0000012        24     L'arrivée d'un train à La Ciotat     CA       en   \n",
       "4  tt0000012        27               The Arrival of a Train    XEU       en   \n",
       "\n",
       "         types attributes isOriginalTitle parentTconst seasonNumber  ...  \\\n",
       "0  imdbDisplay         \\N               0          NaN          NaN  ...   \n",
       "1  imdbDisplay         \\N               0          NaN          NaN  ...   \n",
       "2  imdbDisplay         \\N               0          NaN          NaN  ...   \n",
       "3  imdbDisplay         \\N               0          NaN          NaN  ...   \n",
       "4  imdbDisplay         \\N               0          NaN          NaN  ...   \n",
       "\n",
       "                         originalTitle isAdult startYear endYear  \\\n",
       "0                     Blacksmith Scene       0      1893      \\N   \n",
       "1  La sortie de l'usine Lumière à Lyon       0      1895      \\N   \n",
       "2     L'arrivée d'un train à La Ciotat       0      1896      \\N   \n",
       "3     L'arrivée d'un train à La Ciotat       0      1896      \\N   \n",
       "4     L'arrivée d'un train à La Ciotat       0      1896      \\N   \n",
       "\n",
       "  runtimeMinutes             genres            directors writers  \\\n",
       "0              1       Comedy,Short            nm0005690      \\N   \n",
       "1              1  Documentary,Short            nm0525910      \\N   \n",
       "2              1  Documentary,Short  nm0525910,nm0525908      \\N   \n",
       "3              1  Documentary,Short  nm0525910,nm0525908      \\N   \n",
       "4              1  Documentary,Short  nm0525910,nm0525908      \\N   \n",
       "\n",
       "  averageRating numVotes  \n",
       "0           6.2   2451.0  \n",
       "1           6.9   6699.0  \n",
       "2           7.5  11498.0  \n",
       "3           7.5  11498.0  \n",
       "4           7.5  11498.0  \n",
       "\n",
       "[5 rows x 23 columns]"
      ]
     },
     "execution_count": 42,
     "metadata": {},
     "output_type": "execute_result"
    }
   ],
   "source": [
    "a.head()"
   ]
  },
  {
   "cell_type": "code",
   "execution_count": 43,
   "id": "7d7043c4",
   "metadata": {
    "ExecuteTime": {
     "end_time": "2022-04-12T01:32:58.603612Z",
     "start_time": "2022-04-12T01:32:58.415117Z"
    }
   },
   "outputs": [],
   "source": [
    "#dropping unnecessary columns\n",
    "a.drop(columns=['seasonNumber',\n",
    "                'episodeNumber', \n",
    "                'parentTconst', \n",
    "                'isAdult',  \n",
    "                'language', \n",
    "                'titleType',\n",
    "                'types',\n",
    "                'attributes'], inplace=True)"
   ]
  },
  {
   "cell_type": "code",
   "execution_count": 44,
   "id": "3884774b",
   "metadata": {
    "ExecuteTime": {
     "end_time": "2022-04-12T01:32:58.618572Z",
     "start_time": "2022-04-12T01:32:58.604610Z"
    }
   },
   "outputs": [
    {
     "data": {
      "text/plain": [
       "Index(['tconst', 'ordering', 'title', 'region', 'isOriginalTitle',\n",
       "       'primaryTitle', 'originalTitle', 'startYear', 'endYear',\n",
       "       'runtimeMinutes', 'genres', 'directors', 'writers', 'averageRating',\n",
       "       'numVotes'],\n",
       "      dtype='object')"
      ]
     },
     "execution_count": 44,
     "metadata": {},
     "output_type": "execute_result"
    }
   ],
   "source": [
    "a.columns"
   ]
  },
  {
   "cell_type": "code",
   "execution_count": 45,
   "id": "c52368b8",
   "metadata": {
    "ExecuteTime": {
     "end_time": "2022-04-12T01:32:58.824022Z",
     "start_time": "2022-04-12T01:32:58.619570Z"
    }
   },
   "outputs": [],
   "source": [
    "#getting rid of duplicate entries for films\n",
    "a = a.drop_duplicates(subset=['tconst'], keep = 'first')"
   ]
  },
  {
   "cell_type": "code",
   "execution_count": 46,
   "id": "0338ad1f",
   "metadata": {
    "ExecuteTime": {
     "end_time": "2022-04-12T01:32:58.871894Z",
     "start_time": "2022-04-12T01:32:58.825020Z"
    }
   },
   "outputs": [],
   "source": [
    "#filling nulls\n",
    "a['endYear'] = a['endYear'].apply(slash_n)"
   ]
  },
  {
   "cell_type": "code",
   "execution_count": 47,
   "id": "bdc76cff",
   "metadata": {
    "ExecuteTime": {
     "end_time": "2022-04-12T01:32:58.947692Z",
     "start_time": "2022-04-12T01:32:58.872892Z"
    }
   },
   "outputs": [],
   "source": [
    "#if a title has an end year, it is a tv series\n",
    "a = a[a['endYear'].isnull() == True]"
   ]
  },
  {
   "cell_type": "code",
   "execution_count": 48,
   "id": "14f703c9",
   "metadata": {
    "ExecuteTime": {
     "end_time": "2022-04-12T01:33:25.599396Z",
     "start_time": "2022-04-12T01:32:58.948689Z"
    }
   },
   "outputs": [],
   "source": [
    "#reading in and merging more data\n",
    "# e = pd.read_csv('./data/title.principals.tsv.gz', sep='\\t', compression='gzip')\n",
    "a = a.merge(e, on='tconst', how='left')"
   ]
  },
  {
   "cell_type": "code",
   "execution_count": 49,
   "id": "f31e8cc6",
   "metadata": {
    "ExecuteTime": {
     "end_time": "2022-04-12T01:33:26.025257Z",
     "start_time": "2022-04-12T01:33:25.605381Z"
    }
   },
   "outputs": [],
   "source": [
    "temp_list = []\n",
    "for unique_id in a['tconst']:\n",
    "    temp_list.append(unique_id)"
   ]
  },
  {
   "cell_type": "code",
   "execution_count": 50,
   "id": "dcfa410c",
   "metadata": {
    "ExecuteTime": {
     "end_time": "2022-04-12T01:33:27.577106Z",
     "start_time": "2022-04-12T01:33:26.026255Z"
    }
   },
   "outputs": [],
   "source": [
    "e_temp = e[e['tconst'].isin(temp_list) == True]"
   ]
  },
  {
   "cell_type": "code",
   "execution_count": 51,
   "id": "f841e3b1",
   "metadata": {
    "ExecuteTime": {
     "end_time": "2022-04-12T01:33:27.593064Z",
     "start_time": "2022-04-12T01:33:27.578104Z"
    }
   },
   "outputs": [
    {
     "data": {
      "text/plain": [
       "(1630462, 6)"
      ]
     },
     "execution_count": 51,
     "metadata": {},
     "output_type": "execute_result"
    }
   ],
   "source": [
    "e_temp.shape"
   ]
  },
  {
   "cell_type": "markdown",
   "id": "715fc40d",
   "metadata": {},
   "source": [
    "e is a massive dataframe providing details on the cast and crew of a movie, so in the following cells I break it down so that it ran better on my computer. "
   ]
  },
  {
   "cell_type": "code",
   "execution_count": 52,
   "id": "c5449e30",
   "metadata": {
    "ExecuteTime": {
     "end_time": "2022-04-12T01:34:24.138801Z",
     "start_time": "2022-04-12T01:33:27.594061Z"
    }
   },
   "outputs": [],
   "source": [
    "#compiling all the people that worked on each movie into a single cell\n",
    "e_temp_1 = e_temp[:500000]\n",
    "e_temp_1 = e_temp_1.groupby('tconst').apply(lambda x: x.sum())\n",
    "e_temp_1.drop(columns=['ordering', 'category', 'job', 'characters'], inplace=True)\n",
    "e_temp_1['nconst'] = e_temp_1['nconst'].apply(lambda x: x.split('nm')).apply(lambda x: x[1:])"
   ]
  },
  {
   "cell_type": "code",
   "execution_count": 53,
   "id": "d55b67c2",
   "metadata": {
    "ExecuteTime": {
     "end_time": "2022-04-12T01:35:26.031235Z",
     "start_time": "2022-04-12T01:34:24.140796Z"
    }
   },
   "outputs": [],
   "source": [
    "#compiling all the people that worked on each movie into a single cell\n",
    "e_temp_2 = e_temp[500000:1000000]\n",
    "e_temp_2 = e_temp_2.groupby('tconst').apply(lambda x: x.sum())\n",
    "e_temp_2.drop(columns=['ordering', 'category', 'job', 'characters'], inplace=True)\n",
    "e_temp_2['nconst'] = e_temp_2['nconst'].apply(lambda x: x.split('nm')).apply(lambda x: x[1:])"
   ]
  },
  {
   "cell_type": "code",
   "execution_count": 54,
   "id": "4c9979b3",
   "metadata": {
    "ExecuteTime": {
     "end_time": "2022-04-12T01:36:44.831440Z",
     "start_time": "2022-04-12T01:35:26.032232Z"
    }
   },
   "outputs": [],
   "source": [
    "#compiling all the people that worked on each movie into a single cell\n",
    "e_temp_3 = e_temp[1000000:]\n",
    "e_temp_3 = e_temp_3.groupby('tconst').apply(lambda x: x.sum())\n",
    "e_temp_3.drop(columns=['ordering', 'category', 'job', 'characters'], inplace=True)\n",
    "e_temp_3['nconst'] = e_temp_3['nconst'].apply(lambda x: x.split('nm')).apply(lambda x: x[1:])"
   ]
  },
  {
   "cell_type": "code",
   "execution_count": 55,
   "id": "cd29b722",
   "metadata": {
    "ExecuteTime": {
     "end_time": "2022-04-12T01:36:45.019936Z",
     "start_time": "2022-04-12T01:36:44.832439Z"
    }
   },
   "outputs": [],
   "source": [
    "cast_crew = pd.concat([e_temp_1, e_temp_2, e_temp_3])\n",
    "cast_crew.drop(columns=['tconst'], inplace=True)\n",
    "cast_crew.reset_index(inplace=True)"
   ]
  },
  {
   "cell_type": "code",
   "execution_count": 56,
   "id": "80e32bb7",
   "metadata": {
    "ExecuteTime": {
     "end_time": "2022-04-12T01:39:59.441846Z",
     "start_time": "2022-04-12T01:36:45.020934Z"
    }
   },
   "outputs": [],
   "source": [
    "e_temp = e_temp.groupby('tconst').apply(lambda x: x.sum())\n",
    "e_temp.drop(columns=['ordering', 'job', 'characters'], inplace=True)\n",
    "e_temp['nconst'] = e_temp['nconst'].apply(lambda x: x.split('nm')).apply(lambda x: x[1:])"
   ]
  },
  {
   "cell_type": "code",
   "execution_count": 57,
   "id": "e6be672d",
   "metadata": {
    "ExecuteTime": {
     "end_time": "2022-04-12T01:39:59.457804Z",
     "start_time": "2022-04-12T01:39:59.442844Z"
    }
   },
   "outputs": [],
   "source": [
    "# part_1 = e_temp[:500000]\n",
    "\n",
    "# temp_df = pd.DataFrame(columns = e_temp.category.unique())\n",
    "# temp_df['tconst'] = []\n",
    "# temp_df.set_index('tconst', inplace=True)\n",
    "\n",
    "# for index, row in part_1.iterrows():\n",
    "#     temp_df.loc[row['tconst'], row['category']] = row['nconst']"
   ]
  },
  {
   "cell_type": "code",
   "execution_count": 58,
   "id": "7f60b4bf",
   "metadata": {
    "ExecuteTime": {
     "end_time": "2022-04-12T01:39:59.473761Z",
     "start_time": "2022-04-12T01:39:59.458801Z"
    }
   },
   "outputs": [],
   "source": [
    "# for index, row in part_1.iterrows():\n",
    "#     temp_df.loc[row['tconst'], row['category']] = row['nconst']"
   ]
  },
  {
   "cell_type": "code",
   "execution_count": 59,
   "id": "000324ef",
   "metadata": {
    "ExecuteTime": {
     "end_time": "2022-04-12T01:39:59.489718Z",
     "start_time": "2022-04-12T01:39:59.474759Z"
    }
   },
   "outputs": [],
   "source": [
    "# part_2 = e_temp[500000:750000]\n",
    "\n",
    "# temp_df2 = pd.DataFrame(columns = e_temp.category.unique())\n",
    "# temp_df2['tconst'] = []\n",
    "# temp_df2.set_index('tconst', inplace=True)\n",
    "\n",
    "# for index, row in part_2.iterrows():\n",
    "#     temp_df2.loc[row['tconst'], row['category']] = row['nconst']"
   ]
  },
  {
   "cell_type": "code",
   "execution_count": 60,
   "id": "b514f8dc",
   "metadata": {
    "ExecuteTime": {
     "end_time": "2022-04-12T01:39:59.504679Z",
     "start_time": "2022-04-12T01:39:59.490717Z"
    }
   },
   "outputs": [],
   "source": [
    "# part_3 = e_temp[750000:1000000]\n",
    "\n",
    "# temp_df3 = pd.DataFrame(columns = e_temp.category.unique())\n",
    "# temp_df3['tconst'] = []\n",
    "# temp_df3.set_index('tconst', inplace=True)\n",
    "\n",
    "# for index, row in part_3.iterrows():\n",
    "#     temp_df3.loc[row['tconst'], row['category']] = row['nconst']"
   ]
  },
  {
   "cell_type": "code",
   "execution_count": 61,
   "id": "cbd97eed",
   "metadata": {
    "ExecuteTime": {
     "end_time": "2022-04-12T01:39:59.520635Z",
     "start_time": "2022-04-12T01:39:59.505676Z"
    }
   },
   "outputs": [],
   "source": [
    "# part_4 = e_temp[1000000:1250000]\n",
    "\n",
    "# temp_df4 = pd.DataFrame(columns = e_temp.category.unique())\n",
    "# temp_df4['tconst'] = []\n",
    "# temp_df4.set_index('tconst', inplace=True)\n",
    "\n",
    "# for index, row in part_4.iterrows():\n",
    "#     temp_df4.loc[row['tconst'], row['category']] = row['nconst']"
   ]
  },
  {
   "cell_type": "code",
   "execution_count": 62,
   "id": "5139ae16",
   "metadata": {
    "ExecuteTime": {
     "end_time": "2022-04-12T01:39:59.536593Z",
     "start_time": "2022-04-12T01:39:59.521633Z"
    }
   },
   "outputs": [],
   "source": [
    "# part_5 = e_temp[1250000:]\n",
    "\n",
    "# temp_df5 = pd.DataFrame(columns = e_temp.category.unique())\n",
    "# temp_df5['tconst'] = []\n",
    "# temp_df5.set_index('tconst', inplace=True)\n",
    "\n",
    "# for index, row in part_5.iterrows():\n",
    "#     temp_df5.loc[row['tconst'], row['category']] = row['nconst']"
   ]
  },
  {
   "cell_type": "code",
   "execution_count": 63,
   "id": "68c61f6e",
   "metadata": {
    "ExecuteTime": {
     "end_time": "2022-04-12T01:39:59.552550Z",
     "start_time": "2022-04-12T01:39:59.537591Z"
    }
   },
   "outputs": [],
   "source": [
    "# people_info = pd.concat([temp_df, temp_df2, temp_df3, temp_df4, temp_df5])\n",
    "# people_info.reset_index(inplace=True)\n",
    "# people_info = people_info.drop_duplicates(subset=['tconst'], keep='first')"
   ]
  },
  {
   "cell_type": "code",
   "execution_count": 64,
   "id": "0a2219c5",
   "metadata": {
    "ExecuteTime": {
     "end_time": "2022-04-12T01:40:00.233728Z",
     "start_time": "2022-04-12T01:39:59.553548Z"
    }
   },
   "outputs": [],
   "source": [
    "final_df = a.merge(cast_crew, on='tconst', how='left')"
   ]
  },
  {
   "cell_type": "code",
   "execution_count": 65,
   "id": "27f68dba",
   "metadata": {
    "ExecuteTime": {
     "end_time": "2022-04-12T01:40:00.249685Z",
     "start_time": "2022-04-12T01:40:00.234726Z"
    }
   },
   "outputs": [
    {
     "data": {
      "text/plain": [
       "(1634416, 21)"
      ]
     },
     "execution_count": 65,
     "metadata": {},
     "output_type": "execute_result"
    }
   ],
   "source": [
    "final_df.shape"
   ]
  },
  {
   "cell_type": "code",
   "execution_count": 66,
   "id": "373f0fe3",
   "metadata": {
    "ExecuteTime": {
     "end_time": "2022-04-12T01:40:16.398486Z",
     "start_time": "2022-04-12T01:40:00.250683Z"
    }
   },
   "outputs": [],
   "source": [
    "final_df.to_csv('./final.csv')"
   ]
  },
  {
   "cell_type": "code",
   "execution_count": 67,
   "id": "5576a4bb",
   "metadata": {
    "ExecuteTime": {
     "end_time": "2022-04-12T01:40:16.414444Z",
     "start_time": "2022-04-12T01:40:16.399484Z"
    }
   },
   "outputs": [],
   "source": [
    "# final_df.to_csv('./data/final.csv', index=False)"
   ]
  },
  {
   "cell_type": "code",
   "execution_count": 68,
   "id": "b71be90d",
   "metadata": {
    "ExecuteTime": {
     "end_time": "2022-04-12T01:40:16.430401Z",
     "start_time": "2022-04-12T01:40:16.415442Z"
    }
   },
   "outputs": [],
   "source": [
    "# test = e_temp[:1000]\n",
    "# test = test.groupby('tconst').apply(lambda x: x.sum())\n",
    "# test.drop(columns=['tconst', 'ordering', 'category', 'job', 'characters'], inplace=True)\n",
    "# test['nconst'] = test['nconst'].apply(lambda x: x.split('nm')).apply(lambda x: x[1:])"
   ]
  }
 ],
 "metadata": {
  "kernelspec": {
   "display_name": "Python 3",
   "language": "python",
   "name": "python3"
  },
  "language_info": {
   "codemirror_mode": {
    "name": "ipython",
    "version": 3
   },
   "file_extension": ".py",
   "mimetype": "text/x-python",
   "name": "python",
   "nbconvert_exporter": "python",
   "pygments_lexer": "ipython3",
   "version": "3.8.8"
  }
 },
 "nbformat": 4,
 "nbformat_minor": 5
}
