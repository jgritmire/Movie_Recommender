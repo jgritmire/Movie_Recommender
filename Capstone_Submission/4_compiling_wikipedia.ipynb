{
 "cells": [
  {
   "cell_type": "code",
   "execution_count": 2,
   "id": "af78838b",
   "metadata": {
    "ExecuteTime": {
     "end_time": "2022-03-24T00:02:34.789639Z",
     "start_time": "2022-03-24T00:02:27.073077Z"
    }
   },
   "outputs": [],
   "source": [
    "import pandas as pd\n",
    "import numpy as np\n",
    "import ast\n",
    "import matplotlib.pyplot as plt\n",
    "\n",
    "import spacy\n",
    "from spacytextblob.spacytextblob import SpacyTextBlob\n",
    "\n",
    "import re"
   ]
  },
  {
   "cell_type": "code",
   "execution_count": 3,
   "id": "eed34814",
   "metadata": {
    "ExecuteTime": {
     "end_time": "2022-03-24T00:02:35.644454Z",
     "start_time": "2022-03-24T00:02:34.790637Z"
    }
   },
   "outputs": [],
   "source": [
    "movies = pd.read_csv('./data/with_wiki_scrape_complete.csv')\n",
    "movies.drop(columns=['Unnamed: 0'], inplace=True)"
   ]
  },
  {
   "cell_type": "code",
   "execution_count": 4,
   "id": "5d2833ff",
   "metadata": {
    "ExecuteTime": {
     "end_time": "2022-03-24T00:02:38.549302Z",
     "start_time": "2022-03-24T00:02:38.525366Z"
    }
   },
   "outputs": [
    {
     "data": {
      "text/html": [
       "<div>\n",
       "<style scoped>\n",
       "    .dataframe tbody tr th:only-of-type {\n",
       "        vertical-align: middle;\n",
       "    }\n",
       "\n",
       "    .dataframe tbody tr th {\n",
       "        vertical-align: top;\n",
       "    }\n",
       "\n",
       "    .dataframe thead th {\n",
       "        text-align: right;\n",
       "    }\n",
       "</style>\n",
       "<table border=\"1\" class=\"dataframe\">\n",
       "  <thead>\n",
       "    <tr style=\"text-align: right;\">\n",
       "      <th></th>\n",
       "      <th>tconst</th>\n",
       "      <th>title</th>\n",
       "      <th>primary_title</th>\n",
       "      <th>original_title</th>\n",
       "      <th>release_year</th>\n",
       "      <th>runtime</th>\n",
       "      <th>genres</th>\n",
       "      <th>directors</th>\n",
       "      <th>writers</th>\n",
       "      <th>rating</th>\n",
       "      <th>votes</th>\n",
       "      <th>cast_crew</th>\n",
       "      <th>wiki_title</th>\n",
       "      <th>scraped_data</th>\n",
       "      <th>tomato_score</th>\n",
       "      <th>metacritic_score</th>\n",
       "      <th>mpaa_rating</th>\n",
       "      <th>wiki_scrape</th>\n",
       "    </tr>\n",
       "  </thead>\n",
       "  <tbody>\n",
       "    <tr>\n",
       "      <th>0</th>\n",
       "      <td>tt0111161</td>\n",
       "      <td>The Shawshank Redemption</td>\n",
       "      <td>The Shawshank Redemption</td>\n",
       "      <td>The Shawshank Redemption</td>\n",
       "      <td>1994</td>\n",
       "      <td>142</td>\n",
       "      <td>['Drama']</td>\n",
       "      <td>nm0001104</td>\n",
       "      <td>nm0000175,nm0001104</td>\n",
       "      <td>9.3</td>\n",
       "      <td>2540263</td>\n",
       "      <td>['0290358', '0000209', '0000151', '0348409', '...</td>\n",
       "      <td>The Shawshank Redemption (1994 film)</td>\n",
       "      <td>{\"Title\":\"The Shawshank Redemption\",\"Year\":\"19...</td>\n",
       "      <td>91%</td>\n",
       "      <td>80/100</td>\n",
       "      <td>R</td>\n",
       "      <td>{'Plot': 'In 1947 Portland, Maine, banker Andy...</td>\n",
       "    </tr>\n",
       "    <tr>\n",
       "      <th>1</th>\n",
       "      <td>tt0468569</td>\n",
       "      <td>The Dark Knight</td>\n",
       "      <td>The Dark Knight</td>\n",
       "      <td>The Dark Knight</td>\n",
       "      <td>2008</td>\n",
       "      <td>152</td>\n",
       "      <td>['Action', 'Crime', 'Drama']</td>\n",
       "      <td>nm0634240</td>\n",
       "      <td>nm0634300,nm0634240,nm0275286,nm0004170</td>\n",
       "      <td>9.0</td>\n",
       "      <td>2490570</td>\n",
       "      <td>['0746273', '0000288', '0005132', '0001173', '...</td>\n",
       "      <td>The Dark Knight (2008 film)</td>\n",
       "      <td>{\"Title\":\"The Dark Knight\",\"Year\":\"2008\",\"Rate...</td>\n",
       "      <td>94%</td>\n",
       "      <td>84/100</td>\n",
       "      <td>PG-13</td>\n",
       "      <td>{'Plot': \"A gang of criminals rob a Gotham Cit...</td>\n",
       "    </tr>\n",
       "    <tr>\n",
       "      <th>2</th>\n",
       "      <td>tt1375666</td>\n",
       "      <td>Inception</td>\n",
       "      <td>Inception</td>\n",
       "      <td>Inception</td>\n",
       "      <td>2010</td>\n",
       "      <td>148</td>\n",
       "      <td>['Action', 'Adventure', 'Sci-Fi']</td>\n",
       "      <td>nm0634240</td>\n",
       "      <td>nm0634240</td>\n",
       "      <td>8.8</td>\n",
       "      <td>2231336</td>\n",
       "      <td>['0245596', '0000138', '0330687', '0680983', '...</td>\n",
       "      <td>Inception (2010 film)</td>\n",
       "      <td>{\"Title\":\"Inception\",\"Year\":\"2010\",\"Rated\":\"PG...</td>\n",
       "      <td>87%</td>\n",
       "      <td>74/100</td>\n",
       "      <td>PG-13</td>\n",
       "      <td>{'Plot': 'Dominick \"Dom\" Cobb and Arthur are \"...</td>\n",
       "    </tr>\n",
       "    <tr>\n",
       "      <th>3</th>\n",
       "      <td>tt0137523</td>\n",
       "      <td>Fight Club</td>\n",
       "      <td>Fight Club</td>\n",
       "      <td>Fight Club</td>\n",
       "      <td>1999</td>\n",
       "      <td>139</td>\n",
       "      <td>['Drama']</td>\n",
       "      <td>nm0000399</td>\n",
       "      <td>nm0657333,nm0880243</td>\n",
       "      <td>8.8</td>\n",
       "      <td>1999188</td>\n",
       "      <td>['0513165', '0000093', '0001570', '0001533', '...</td>\n",
       "      <td>Fight Club (1999 film)</td>\n",
       "      <td>{\"Title\":\"Fight Club\",\"Year\":\"1999\",\"Rated\":\"R...</td>\n",
       "      <td>79%</td>\n",
       "      <td>66/100</td>\n",
       "      <td>R</td>\n",
       "      <td>{'Plot': 'The Narrator, an automobile recall s...</td>\n",
       "    </tr>\n",
       "    <tr>\n",
       "      <th>4</th>\n",
       "      <td>tt0109830</td>\n",
       "      <td>Forrest Gump</td>\n",
       "      <td>Forrest Gump</td>\n",
       "      <td>Forrest Gump</td>\n",
       "      <td>1994</td>\n",
       "      <td>142</td>\n",
       "      <td>['Drama', 'Romance']</td>\n",
       "      <td>nm0000709</td>\n",
       "      <td>nm0343165,nm0744839</td>\n",
       "      <td>8.8</td>\n",
       "      <td>1960064</td>\n",
       "      <td>['0005494', '0000158', '0000705', '0000641', '...</td>\n",
       "      <td>Forrest Gump (1994 film)</td>\n",
       "      <td>{\"Title\":\"Forrest Gump\",\"Year\":\"1994\",\"Rated\":...</td>\n",
       "      <td>70%</td>\n",
       "      <td>82/100</td>\n",
       "      <td>PG-13</td>\n",
       "      <td>{'Plot': 'In 1981, at a bus stop in Savannah, ...</td>\n",
       "    </tr>\n",
       "  </tbody>\n",
       "</table>\n",
       "</div>"
      ],
      "text/plain": [
       "      tconst                     title             primary_title  \\\n",
       "0  tt0111161  The Shawshank Redemption  The Shawshank Redemption   \n",
       "1  tt0468569           The Dark Knight           The Dark Knight   \n",
       "2  tt1375666                 Inception                 Inception   \n",
       "3  tt0137523                Fight Club                Fight Club   \n",
       "4  tt0109830              Forrest Gump              Forrest Gump   \n",
       "\n",
       "             original_title  release_year  runtime  \\\n",
       "0  The Shawshank Redemption          1994      142   \n",
       "1           The Dark Knight          2008      152   \n",
       "2                 Inception          2010      148   \n",
       "3                Fight Club          1999      139   \n",
       "4              Forrest Gump          1994      142   \n",
       "\n",
       "                              genres  directors  \\\n",
       "0                          ['Drama']  nm0001104   \n",
       "1       ['Action', 'Crime', 'Drama']  nm0634240   \n",
       "2  ['Action', 'Adventure', 'Sci-Fi']  nm0634240   \n",
       "3                          ['Drama']  nm0000399   \n",
       "4               ['Drama', 'Romance']  nm0000709   \n",
       "\n",
       "                                   writers  rating    votes  \\\n",
       "0                      nm0000175,nm0001104     9.3  2540263   \n",
       "1  nm0634300,nm0634240,nm0275286,nm0004170     9.0  2490570   \n",
       "2                                nm0634240     8.8  2231336   \n",
       "3                      nm0657333,nm0880243     8.8  1999188   \n",
       "4                      nm0343165,nm0744839     8.8  1960064   \n",
       "\n",
       "                                           cast_crew  \\\n",
       "0  ['0290358', '0000209', '0000151', '0348409', '...   \n",
       "1  ['0746273', '0000288', '0005132', '0001173', '...   \n",
       "2  ['0245596', '0000138', '0330687', '0680983', '...   \n",
       "3  ['0513165', '0000093', '0001570', '0001533', '...   \n",
       "4  ['0005494', '0000158', '0000705', '0000641', '...   \n",
       "\n",
       "                             wiki_title  \\\n",
       "0  The Shawshank Redemption (1994 film)   \n",
       "1           The Dark Knight (2008 film)   \n",
       "2                 Inception (2010 film)   \n",
       "3                Fight Club (1999 film)   \n",
       "4              Forrest Gump (1994 film)   \n",
       "\n",
       "                                        scraped_data tomato_score  \\\n",
       "0  {\"Title\":\"The Shawshank Redemption\",\"Year\":\"19...          91%   \n",
       "1  {\"Title\":\"The Dark Knight\",\"Year\":\"2008\",\"Rate...          94%   \n",
       "2  {\"Title\":\"Inception\",\"Year\":\"2010\",\"Rated\":\"PG...          87%   \n",
       "3  {\"Title\":\"Fight Club\",\"Year\":\"1999\",\"Rated\":\"R...          79%   \n",
       "4  {\"Title\":\"Forrest Gump\",\"Year\":\"1994\",\"Rated\":...          70%   \n",
       "\n",
       "  metacritic_score mpaa_rating  \\\n",
       "0           80/100           R   \n",
       "1           84/100       PG-13   \n",
       "2           74/100       PG-13   \n",
       "3           66/100           R   \n",
       "4           82/100       PG-13   \n",
       "\n",
       "                                         wiki_scrape  \n",
       "0  {'Plot': 'In 1947 Portland, Maine, banker Andy...  \n",
       "1  {'Plot': \"A gang of criminals rob a Gotham Cit...  \n",
       "2  {'Plot': 'Dominick \"Dom\" Cobb and Arthur are \"...  \n",
       "3  {'Plot': 'The Narrator, an automobile recall s...  \n",
       "4  {'Plot': 'In 1981, at a bus stop in Savannah, ...  "
      ]
     },
     "execution_count": 4,
     "metadata": {},
     "output_type": "execute_result"
    }
   ],
   "source": [
    "movies.head()"
   ]
  },
  {
   "cell_type": "code",
   "execution_count": 3,
   "id": "916825e0",
   "metadata": {
    "ExecuteTime": {
     "end_time": "2022-02-24T21:07:56.293460Z",
     "start_time": "2022-02-24T21:07:55.120596Z"
    }
   },
   "outputs": [],
   "source": [
    "#creating a list of all of the wiki info converted to actual dictionaries\n",
    "dict_list = []\n",
    "\n",
    "for i in range(0, 10000):\n",
    "    \n",
    "    dict_list.append(ast.literal_eval(movies.iloc[i, 17]))\n",
    "    \n",
    "#creating a list of the plot info, filling in \"ERROR\" if plot not called plot\n",
    "plot_list = []\n",
    "\n",
    "for dictionary in dict_list:\n",
    "    try: \n",
    "        plot_list.append(dictionary['Plot'])\n",
    "    except:\n",
    "        try: plot_list.append(dictionary['Summary'])\n",
    "        except:\n",
    "            try:\n",
    "                plot_list.append(dictionary['Synopsis'])\n",
    "            except:\n",
    "                plot_list.append('ERROR')\n",
    "        \n",
    "movies['plot'] = plot_list"
   ]
  },
  {
   "cell_type": "code",
   "execution_count": 4,
   "id": "43136126",
   "metadata": {
    "ExecuteTime": {
     "end_time": "2022-02-24T21:07:56.324376Z",
     "start_time": "2022-02-24T21:07:56.294457Z"
    }
   },
   "outputs": [
    {
     "data": {
      "text/plain": [
       "(515, 19)"
      ]
     },
     "execution_count": 4,
     "metadata": {},
     "output_type": "execute_result"
    }
   ],
   "source": [
    "movies[movies['plot'] == \"ERROR\"].shape"
   ]
  },
  {
   "cell_type": "markdown",
   "id": "fbed58ea",
   "metadata": {},
   "source": [
    "we have 515 movies that we were unable to scrape a plot for. Luckily we have some back up short plot summaries that we can use. "
   ]
  },
  {
   "cell_type": "code",
   "execution_count": 5,
   "id": "f40a85d0",
   "metadata": {
    "ExecuteTime": {
     "end_time": "2022-02-24T21:07:56.371251Z",
     "start_time": "2022-02-24T21:07:56.325376Z"
    }
   },
   "outputs": [],
   "source": [
    "#selecting just the plot synopsis from our \"scraped_data\" column\n",
    "movies['backup_plot'] = movies['scraped_data'].apply(\n",
    "    lambda x: x.split(\"\\\"Plot\\\":\")[1].split('\\\"Language\\\":')[0][:-2])"
   ]
  },
  {
   "cell_type": "code",
   "execution_count": 6,
   "id": "1682af4c",
   "metadata": {
    "ExecuteTime": {
     "end_time": "2022-02-24T21:07:56.386212Z",
     "start_time": "2022-02-24T21:07:56.372249Z"
    }
   },
   "outputs": [
    {
     "data": {
      "text/plain": [
       "Index(['tconst', 'title', 'primary_title', 'original_title', 'release_year',\n",
       "       'runtime', 'genres', 'directors', 'writers', 'rating', 'votes',\n",
       "       'cast_crew', 'wiki_title', 'scraped_data', 'tomato_score',\n",
       "       'metacritic_score', 'mpaa_rating', 'wiki_scrape', 'plot',\n",
       "       'backup_plot'],\n",
       "      dtype='object')"
      ]
     },
     "execution_count": 6,
     "metadata": {},
     "output_type": "execute_result"
    }
   ],
   "source": [
    "movies.columns"
   ]
  },
  {
   "cell_type": "code",
   "execution_count": 7,
   "id": "86fe823d",
   "metadata": {
    "ExecuteTime": {
     "end_time": "2022-02-24T21:07:56.433086Z",
     "start_time": "2022-02-24T21:07:56.388206Z"
    }
   },
   "outputs": [
    {
     "name": "stderr",
     "output_type": "stream",
     "text": [
      "<ipython-input-7-1d7fd26ac0f4>:8: SettingWithCopyWarning: \n",
      "A value is trying to be set on a copy of a slice from a DataFrame.\n",
      "Try using .loc[row_indexer,col_indexer] = value instead\n",
      "\n",
      "See the caveats in the documentation: https://pandas.pydata.org/pandas-docs/stable/user_guide/indexing.html#returning-a-view-versus-a-copy\n",
      "  movies_plot_error['plot'] = movies_plot_error['backup_plot']\n",
      "<ipython-input-7-1d7fd26ac0f4>:11: SettingWithCopyWarning: \n",
      "A value is trying to be set on a copy of a slice from a DataFrame.\n",
      "Try using .loc[row_indexer,col_indexer] = value instead\n",
      "\n",
      "See the caveats in the documentation: https://pandas.pydata.org/pandas-docs/stable/user_guide/indexing.html#returning-a-view-versus-a-copy\n",
      "  movies_no_plot['plot'] = movies_no_plot['backup_plot']\n"
     ]
    }
   ],
   "source": [
    "#replacing the movies with missing plots with the backup plots\n",
    "#grouping the movies that don't have \"ERROR\" as their plot\n",
    "movies_long_plot = movies[movies['plot'] != 'ERROR']\n",
    "#excluding the blank plots\n",
    "movies_long_plot = movies_long_plot[movies_long_plot['plot'] != '']\n",
    "#selecting error plots\n",
    "movies_plot_error = movies[movies['plot'] == 'ERROR']\n",
    "movies_plot_error['plot'] = movies_plot_error['backup_plot']\n",
    "#selecting blank plots\n",
    "movies_no_plot = movies[movies['plot'] == '']\n",
    "movies_no_plot['plot'] = movies_no_plot['backup_plot']\n",
    "#putting it all back together\n",
    "movies = pd.concat([movies_long_plot, movies_plot_error, movies_no_plot])\n",
    "movies.sort_values('votes', ascending=False, inplace=True)"
   ]
  },
  {
   "cell_type": "code",
   "execution_count": 8,
   "id": "7316e1fb",
   "metadata": {
    "ExecuteTime": {
     "end_time": "2022-02-24T21:07:56.448046Z",
     "start_time": "2022-02-24T21:07:56.434083Z"
    }
   },
   "outputs": [
    {
     "data": {
      "text/plain": [
       "Index(['tconst', 'title', 'primary_title', 'original_title', 'release_year',\n",
       "       'runtime', 'genres', 'directors', 'writers', 'rating', 'votes',\n",
       "       'cast_crew', 'wiki_title', 'scraped_data', 'tomato_score',\n",
       "       'metacritic_score', 'mpaa_rating', 'wiki_scrape', 'plot',\n",
       "       'backup_plot'],\n",
       "      dtype='object')"
      ]
     },
     "execution_count": 8,
     "metadata": {},
     "output_type": "execute_result"
    }
   ],
   "source": [
    "movies.columns"
   ]
  },
  {
   "cell_type": "code",
   "execution_count": 9,
   "id": "bf86cd57",
   "metadata": {
    "ExecuteTime": {
     "end_time": "2022-02-24T21:07:56.464003Z",
     "start_time": "2022-02-24T21:07:56.449043Z"
    }
   },
   "outputs": [
    {
     "data": {
      "text/plain": [
       "(10000, 20)"
      ]
     },
     "execution_count": 9,
     "metadata": {},
     "output_type": "execute_result"
    }
   ],
   "source": [
    "movies.shape"
   ]
  },
  {
   "cell_type": "code",
   "execution_count": 10,
   "id": "fa780e30",
   "metadata": {
    "ExecuteTime": {
     "end_time": "2022-02-24T21:07:56.478964Z",
     "start_time": "2022-02-24T21:07:56.465001Z"
    }
   },
   "outputs": [],
   "source": [
    "#making the \"genres\" column back into a list\n",
    "movies['genres'] = movies['genres'].apply(lambda x: x.replace(' ', '')\\\n",
    "    .replace('\\'', '').replace('[', '').replace(']','').split(','))"
   ]
  },
  {
   "cell_type": "code",
   "execution_count": 11,
   "id": "82249674",
   "metadata": {
    "ExecuteTime": {
     "end_time": "2022-02-24T21:07:56.509880Z",
     "start_time": "2022-02-24T21:07:56.479961Z"
    }
   },
   "outputs": [],
   "source": [
    "#separating the genres into individual columns\n",
    "genre_1 = []\n",
    "genre_2 = []\n",
    "genre_3 = []\n",
    "\n",
    "for genre in movies['genres']:\n",
    "    genre_1.append(genre[0])\n",
    "\n",
    "for genre in movies['genres']:\n",
    "    try:\n",
    "        genre_2.append(genre[1])\n",
    "    except:\n",
    "        genre_2.append(np.nan)\n",
    "\n",
    "for genre in movies['genres']:\n",
    "    try:\n",
    "        genre_3.append(genre[2])\n",
    "    except:\n",
    "        genre_3.append(np.nan)\n",
    "#adding the lists as columns        \n",
    "movies['genre_1'] = genre_1\n",
    "movies['genre_2'] = genre_2\n",
    "movies['genre_3'] = genre_3\n"
   ]
  },
  {
   "cell_type": "code",
   "execution_count": 12,
   "id": "29e4c89a",
   "metadata": {
    "ExecuteTime": {
     "end_time": "2022-02-24T21:07:56.525837Z",
     "start_time": "2022-02-24T21:07:56.510878Z"
    }
   },
   "outputs": [],
   "source": [
    "#making the directors column into a list\n",
    "movies['directors'] = movies['directors'].apply(lambda x: x.split(','))"
   ]
  },
  {
   "cell_type": "code",
   "execution_count": 13,
   "id": "072c868f",
   "metadata": {
    "ExecuteTime": {
     "end_time": "2022-02-24T21:07:56.556756Z",
     "start_time": "2022-02-24T21:07:56.526836Z"
    }
   },
   "outputs": [],
   "source": [
    "# separating directors into distinct columns\n",
    "director_1 = []\n",
    "director_2 = []\n",
    "director_3 = []\n",
    "\n",
    "for director in movies['directors']:\n",
    "    director_1.append(director[0])\n",
    "\n",
    "for director in movies['directors']:\n",
    "    try:\n",
    "        director_2.append(director[1])\n",
    "    except:\n",
    "        director_2.append(np.nan)\n",
    "\n",
    "for director in movies['directors']:\n",
    "    try:\n",
    "        director_3.append(director[2])\n",
    "    except:\n",
    "        director_3.append(np.nan)\n",
    "#adding the lists as columns        \n",
    "movies['director_1'] = genre_1\n",
    "movies['director_2'] = genre_2\n",
    "movies['director_3'] = genre_3\n"
   ]
  },
  {
   "cell_type": "code",
   "execution_count": 14,
   "id": "3a5602e6",
   "metadata": {
    "ExecuteTime": {
     "end_time": "2022-02-24T21:07:56.571715Z",
     "start_time": "2022-02-24T21:07:56.557753Z"
    }
   },
   "outputs": [],
   "source": [
    "# making the writers column into a list\n",
    "movies['writers'] = movies['writers'].apply(lambda x: x.split(','))"
   ]
  },
  {
   "cell_type": "code",
   "execution_count": 15,
   "id": "18532d82",
   "metadata": {
    "ExecuteTime": {
     "end_time": "2022-02-24T21:07:56.602632Z",
     "start_time": "2022-02-24T21:07:56.572712Z"
    }
   },
   "outputs": [],
   "source": [
    "# separating writers into distinct columns\n",
    "writer_1 = []\n",
    "writer_2 = []\n",
    "writer_3 = []\n",
    "\n",
    "for writer in movies['writers']:\n",
    "    writer_1.append(writer[0])\n",
    "\n",
    "for writer in movies['writers']:\n",
    "    try:\n",
    "        writer_2.append(writer[1])\n",
    "    except:\n",
    "        writer_2.append(np.nan)\n",
    "\n",
    "for writer in movies['writers']:\n",
    "    try:\n",
    "        writer_3.append(writer[2])\n",
    "    except:\n",
    "        writer_3.append(np.nan)\n",
    "#adding the lists as columns        \n",
    "movies['writer_1'] = writer_1\n",
    "movies['writer_2'] = writer_2\n",
    "movies['writer_3'] = writer_3"
   ]
  },
  {
   "cell_type": "code",
   "execution_count": 16,
   "id": "fa649a91",
   "metadata": {
    "ExecuteTime": {
     "end_time": "2022-02-24T21:07:56.633551Z",
     "start_time": "2022-02-24T21:07:56.603631Z"
    }
   },
   "outputs": [],
   "source": [
    "# making the cast/crew into a list\n",
    "movies['cast_crew'] = movies['cast_crew'].apply(lambda x: x.replace(' ', '')\\\n",
    "    .replace('\\'', '').replace('[', '').replace(']','').split(','))"
   ]
  },
  {
   "cell_type": "code",
   "execution_count": 17,
   "id": "6aa15667",
   "metadata": {
    "ExecuteTime": {
     "end_time": "2022-02-24T21:07:56.649507Z",
     "start_time": "2022-02-24T21:07:56.634549Z"
    },
    "scrolled": true
   },
   "outputs": [
    {
     "data": {
      "text/plain": [
       "0    [0290358, 0000209, 0000151, 0348409, 0006669, ...\n",
       "1    [0746273, 0000288, 0005132, 0001173, 0000323, ...\n",
       "2    [0245596, 0000138, 0330687, 0680983, 0913822, ...\n",
       "3    [0513165, 0000093, 0001570, 0001533, 0340260, ...\n",
       "4    [0005494, 0000158, 0000705, 0000641, 0000398, ...\n",
       "Name: cast_crew, dtype: object"
      ]
     },
     "execution_count": 17,
     "metadata": {},
     "output_type": "execute_result"
    }
   ],
   "source": [
    "movies['cast_crew'].head()"
   ]
  },
  {
   "cell_type": "code",
   "execution_count": 18,
   "id": "51e25842",
   "metadata": {
    "ExecuteTime": {
     "end_time": "2022-02-24T21:07:56.711342Z",
     "start_time": "2022-02-24T21:07:56.650506Z"
    }
   },
   "outputs": [],
   "source": [
    "# separating cast_crew into distinct columns using a function\n",
    "\n",
    "def movie_people(position):\n",
    "    cast_list = []\n",
    "    for person_list in movies['cast_crew']:\n",
    "        try:\n",
    "            cast_list.append(person_list[position])\n",
    "        except:\n",
    "            cast_list.append(np.nan)\n",
    "    return cast_list\n",
    "        \n",
    "# calling the function to create the columns        \n",
    "movies['cast_1'] = movie_people(0)\n",
    "movies['cast_2'] = movie_people(1)\n",
    "movies['cast_3'] = movie_people(2)\n",
    "movies['cast_4'] = movie_people(3)\n",
    "movies['cast_5'] = movie_people(4)\n",
    "movies['cast_6'] = movie_people(5)\n",
    "movies['cast_7'] = movie_people(6)\n",
    "movies['cast_8'] = movie_people(7)\n",
    "movies['cast_9'] = movie_people(8)\n",
    "movies['cast_10'] = movie_people(9)"
   ]
  },
  {
   "cell_type": "code",
   "execution_count": 19,
   "id": "aab9bf12",
   "metadata": {
    "ExecuteTime": {
     "end_time": "2022-02-24T21:07:56.726303Z",
     "start_time": "2022-02-24T21:07:56.712342Z"
    }
   },
   "outputs": [],
   "source": [
    "#creating a decade tag \n",
    "movies['decade'] = movies['release_year'].apply(lambda x: round((x-4), -1))"
   ]
  },
  {
   "cell_type": "code",
   "execution_count": 20,
   "id": "572d6668",
   "metadata": {
    "ExecuteTime": {
     "end_time": "2022-02-24T21:07:56.772180Z",
     "start_time": "2022-02-24T21:07:56.727300Z"
    }
   },
   "outputs": [
    {
     "data": {
      "text/html": [
       "<div>\n",
       "<style scoped>\n",
       "    .dataframe tbody tr th:only-of-type {\n",
       "        vertical-align: middle;\n",
       "    }\n",
       "\n",
       "    .dataframe tbody tr th {\n",
       "        vertical-align: top;\n",
       "    }\n",
       "\n",
       "    .dataframe thead th {\n",
       "        text-align: right;\n",
       "    }\n",
       "</style>\n",
       "<table border=\"1\" class=\"dataframe\">\n",
       "  <thead>\n",
       "    <tr style=\"text-align: right;\">\n",
       "      <th></th>\n",
       "      <th>tconst</th>\n",
       "      <th>title</th>\n",
       "      <th>primary_title</th>\n",
       "      <th>original_title</th>\n",
       "      <th>release_year</th>\n",
       "      <th>runtime</th>\n",
       "      <th>genres</th>\n",
       "      <th>directors</th>\n",
       "      <th>writers</th>\n",
       "      <th>rating</th>\n",
       "      <th>...</th>\n",
       "      <th>cast_2</th>\n",
       "      <th>cast_3</th>\n",
       "      <th>cast_4</th>\n",
       "      <th>cast_5</th>\n",
       "      <th>cast_6</th>\n",
       "      <th>cast_7</th>\n",
       "      <th>cast_8</th>\n",
       "      <th>cast_9</th>\n",
       "      <th>cast_10</th>\n",
       "      <th>decade</th>\n",
       "    </tr>\n",
       "  </thead>\n",
       "  <tbody>\n",
       "    <tr>\n",
       "      <th>0</th>\n",
       "      <td>tt0111161</td>\n",
       "      <td>The Shawshank Redemption</td>\n",
       "      <td>The Shawshank Redemption</td>\n",
       "      <td>The Shawshank Redemption</td>\n",
       "      <td>1994</td>\n",
       "      <td>142</td>\n",
       "      <td>[Drama]</td>\n",
       "      <td>[nm0001104]</td>\n",
       "      <td>[nm0000175, nm0001104]</td>\n",
       "      <td>9.3</td>\n",
       "      <td>...</td>\n",
       "      <td>0000209</td>\n",
       "      <td>0000151</td>\n",
       "      <td>0348409</td>\n",
       "      <td>0006669</td>\n",
       "      <td>0001104</td>\n",
       "      <td>0000175</td>\n",
       "      <td>0555550</td>\n",
       "      <td>0002353</td>\n",
       "      <td>0005683</td>\n",
       "      <td>1990</td>\n",
       "    </tr>\n",
       "    <tr>\n",
       "      <th>1</th>\n",
       "      <td>tt0468569</td>\n",
       "      <td>The Dark Knight</td>\n",
       "      <td>The Dark Knight</td>\n",
       "      <td>The Dark Knight</td>\n",
       "      <td>2008</td>\n",
       "      <td>152</td>\n",
       "      <td>[Action, Crime, Drama]</td>\n",
       "      <td>[nm0634240]</td>\n",
       "      <td>[nm0634300, nm0634240, nm0275286, nm0004170]</td>\n",
       "      <td>9.0</td>\n",
       "      <td>...</td>\n",
       "      <td>0000288</td>\n",
       "      <td>0005132</td>\n",
       "      <td>0001173</td>\n",
       "      <td>0000323</td>\n",
       "      <td>0634240</td>\n",
       "      <td>0634300</td>\n",
       "      <td>0275286</td>\n",
       "      <td>0004170</td>\n",
       "      <td>0650038</td>\n",
       "      <td>2000</td>\n",
       "    </tr>\n",
       "    <tr>\n",
       "      <th>2</th>\n",
       "      <td>tt1375666</td>\n",
       "      <td>Inception</td>\n",
       "      <td>Inception</td>\n",
       "      <td>Inception</td>\n",
       "      <td>2010</td>\n",
       "      <td>148</td>\n",
       "      <td>[Action, Adventure, Sci-Fi]</td>\n",
       "      <td>[nm0634240]</td>\n",
       "      <td>[nm0634240]</td>\n",
       "      <td>8.8</td>\n",
       "      <td>...</td>\n",
       "      <td>0000138</td>\n",
       "      <td>0330687</td>\n",
       "      <td>0680983</td>\n",
       "      <td>0913822</td>\n",
       "      <td>0634240</td>\n",
       "      <td>0858799</td>\n",
       "      <td>0001877</td>\n",
       "      <td>0002892</td>\n",
       "      <td>0809059</td>\n",
       "      <td>2010</td>\n",
       "    </tr>\n",
       "    <tr>\n",
       "      <th>3</th>\n",
       "      <td>tt0137523</td>\n",
       "      <td>Fight Club</td>\n",
       "      <td>Fight Club</td>\n",
       "      <td>Fight Club</td>\n",
       "      <td>1999</td>\n",
       "      <td>139</td>\n",
       "      <td>[Drama]</td>\n",
       "      <td>[nm0000399]</td>\n",
       "      <td>[nm0657333, nm0880243]</td>\n",
       "      <td>8.8</td>\n",
       "      <td>...</td>\n",
       "      <td>0000093</td>\n",
       "      <td>0001570</td>\n",
       "      <td>0001533</td>\n",
       "      <td>0340260</td>\n",
       "      <td>0000399</td>\n",
       "      <td>0657333</td>\n",
       "      <td>0880243</td>\n",
       "      <td>0068501</td>\n",
       "      <td>0149556</td>\n",
       "      <td>2000</td>\n",
       "    </tr>\n",
       "    <tr>\n",
       "      <th>4</th>\n",
       "      <td>tt0109830</td>\n",
       "      <td>Forrest Gump</td>\n",
       "      <td>Forrest Gump</td>\n",
       "      <td>Forrest Gump</td>\n",
       "      <td>1994</td>\n",
       "      <td>142</td>\n",
       "      <td>[Drama, Romance]</td>\n",
       "      <td>[nm0000709]</td>\n",
       "      <td>[nm0343165, nm0744839]</td>\n",
       "      <td>8.8</td>\n",
       "      <td>...</td>\n",
       "      <td>0000158</td>\n",
       "      <td>0000705</td>\n",
       "      <td>0000641</td>\n",
       "      <td>0000398</td>\n",
       "      <td>0000709</td>\n",
       "      <td>0343165</td>\n",
       "      <td>0744839</td>\n",
       "      <td>0277704</td>\n",
       "      <td>0823330</td>\n",
       "      <td>1990</td>\n",
       "    </tr>\n",
       "  </tbody>\n",
       "</table>\n",
       "<p>5 rows × 40 columns</p>\n",
       "</div>"
      ],
      "text/plain": [
       "      tconst                     title             primary_title  \\\n",
       "0  tt0111161  The Shawshank Redemption  The Shawshank Redemption   \n",
       "1  tt0468569           The Dark Knight           The Dark Knight   \n",
       "2  tt1375666                 Inception                 Inception   \n",
       "3  tt0137523                Fight Club                Fight Club   \n",
       "4  tt0109830              Forrest Gump              Forrest Gump   \n",
       "\n",
       "             original_title  release_year  runtime  \\\n",
       "0  The Shawshank Redemption          1994      142   \n",
       "1           The Dark Knight          2008      152   \n",
       "2                 Inception          2010      148   \n",
       "3                Fight Club          1999      139   \n",
       "4              Forrest Gump          1994      142   \n",
       "\n",
       "                        genres    directors  \\\n",
       "0                      [Drama]  [nm0001104]   \n",
       "1       [Action, Crime, Drama]  [nm0634240]   \n",
       "2  [Action, Adventure, Sci-Fi]  [nm0634240]   \n",
       "3                      [Drama]  [nm0000399]   \n",
       "4             [Drama, Romance]  [nm0000709]   \n",
       "\n",
       "                                        writers  rating  ...   cast_2  \\\n",
       "0                        [nm0000175, nm0001104]     9.3  ...  0000209   \n",
       "1  [nm0634300, nm0634240, nm0275286, nm0004170]     9.0  ...  0000288   \n",
       "2                                   [nm0634240]     8.8  ...  0000138   \n",
       "3                        [nm0657333, nm0880243]     8.8  ...  0000093   \n",
       "4                        [nm0343165, nm0744839]     8.8  ...  0000158   \n",
       "\n",
       "    cast_3   cast_4   cast_5   cast_6   cast_7   cast_8   cast_9  cast_10  \\\n",
       "0  0000151  0348409  0006669  0001104  0000175  0555550  0002353  0005683   \n",
       "1  0005132  0001173  0000323  0634240  0634300  0275286  0004170  0650038   \n",
       "2  0330687  0680983  0913822  0634240  0858799  0001877  0002892  0809059   \n",
       "3  0001570  0001533  0340260  0000399  0657333  0880243  0068501  0149556   \n",
       "4  0000705  0000641  0000398  0000709  0343165  0744839  0277704  0823330   \n",
       "\n",
       "  decade  \n",
       "0   1990  \n",
       "1   2000  \n",
       "2   2010  \n",
       "3   2000  \n",
       "4   1990  \n",
       "\n",
       "[5 rows x 40 columns]"
      ]
     },
     "execution_count": 20,
     "metadata": {},
     "output_type": "execute_result"
    }
   ],
   "source": [
    "movies.head()"
   ]
  },
  {
   "cell_type": "code",
   "execution_count": 21,
   "id": "c6f152d7",
   "metadata": {
    "ExecuteTime": {
     "end_time": "2022-02-24T21:07:56.788137Z",
     "start_time": "2022-02-24T21:07:56.773177Z"
    }
   },
   "outputs": [
    {
     "data": {
      "text/plain": [
       "Index(['tconst', 'title', 'primary_title', 'original_title', 'release_year',\n",
       "       'runtime', 'genres', 'directors', 'writers', 'rating', 'votes',\n",
       "       'cast_crew', 'wiki_title', 'scraped_data', 'tomato_score',\n",
       "       'metacritic_score', 'mpaa_rating', 'wiki_scrape', 'plot', 'backup_plot',\n",
       "       'genre_1', 'genre_2', 'genre_3', 'director_1', 'director_2',\n",
       "       'director_3', 'writer_1', 'writer_2', 'writer_3', 'cast_1', 'cast_2',\n",
       "       'cast_3', 'cast_4', 'cast_5', 'cast_6', 'cast_7', 'cast_8', 'cast_9',\n",
       "       'cast_10', 'decade'],\n",
       "      dtype='object')"
      ]
     },
     "execution_count": 21,
     "metadata": {},
     "output_type": "execute_result"
    }
   ],
   "source": [
    "movies.columns"
   ]
  },
  {
   "cell_type": "code",
   "execution_count": 22,
   "id": "8bd3bb01",
   "metadata": {
    "ExecuteTime": {
     "end_time": "2022-02-24T21:07:56.835011Z",
     "start_time": "2022-02-24T21:07:56.791130Z"
    }
   },
   "outputs": [
    {
     "data": {
      "text/html": [
       "<div>\n",
       "<style scoped>\n",
       "    .dataframe tbody tr th:only-of-type {\n",
       "        vertical-align: middle;\n",
       "    }\n",
       "\n",
       "    .dataframe tbody tr th {\n",
       "        vertical-align: top;\n",
       "    }\n",
       "\n",
       "    .dataframe thead th {\n",
       "        text-align: right;\n",
       "    }\n",
       "</style>\n",
       "<table border=\"1\" class=\"dataframe\">\n",
       "  <thead>\n",
       "    <tr style=\"text-align: right;\">\n",
       "      <th></th>\n",
       "      <th>release_year</th>\n",
       "      <th>runtime</th>\n",
       "      <th>rating</th>\n",
       "      <th>votes</th>\n",
       "      <th>decade</th>\n",
       "    </tr>\n",
       "  </thead>\n",
       "  <tbody>\n",
       "    <tr>\n",
       "      <th>count</th>\n",
       "      <td>10000.000000</td>\n",
       "      <td>10000.000000</td>\n",
       "      <td>10000.000000</td>\n",
       "      <td>1.000000e+04</td>\n",
       "      <td>10000.00000</td>\n",
       "    </tr>\n",
       "    <tr>\n",
       "      <th>mean</th>\n",
       "      <td>2001.752100</td>\n",
       "      <td>109.671600</td>\n",
       "      <td>6.635040</td>\n",
       "      <td>8.338813e+04</td>\n",
       "      <td>1997.72500</td>\n",
       "    </tr>\n",
       "    <tr>\n",
       "      <th>std</th>\n",
       "      <td>16.558975</td>\n",
       "      <td>21.005134</td>\n",
       "      <td>1.021927</td>\n",
       "      <td>1.551992e+05</td>\n",
       "      <td>16.90275</td>\n",
       "    </tr>\n",
       "    <tr>\n",
       "      <th>min</th>\n",
       "      <td>1941.000000</td>\n",
       "      <td>62.000000</td>\n",
       "      <td>1.000000</td>\n",
       "      <td>8.749000e+03</td>\n",
       "      <td>1940.00000</td>\n",
       "    </tr>\n",
       "    <tr>\n",
       "      <th>25%</th>\n",
       "      <td>1994.000000</td>\n",
       "      <td>95.000000</td>\n",
       "      <td>6.100000</td>\n",
       "      <td>1.509175e+04</td>\n",
       "      <td>1990.00000</td>\n",
       "    </tr>\n",
       "    <tr>\n",
       "      <th>50%</th>\n",
       "      <td>2006.000000</td>\n",
       "      <td>106.000000</td>\n",
       "      <td>6.700000</td>\n",
       "      <td>3.056650e+04</td>\n",
       "      <td>2000.00000</td>\n",
       "    </tr>\n",
       "    <tr>\n",
       "      <th>75%</th>\n",
       "      <td>2014.000000</td>\n",
       "      <td>119.000000</td>\n",
       "      <td>7.400000</td>\n",
       "      <td>8.122450e+04</td>\n",
       "      <td>2010.00000</td>\n",
       "    </tr>\n",
       "    <tr>\n",
       "      <th>max</th>\n",
       "      <td>2022.000000</td>\n",
       "      <td>237.000000</td>\n",
       "      <td>9.300000</td>\n",
       "      <td>2.540263e+06</td>\n",
       "      <td>2020.00000</td>\n",
       "    </tr>\n",
       "  </tbody>\n",
       "</table>\n",
       "</div>"
      ],
      "text/plain": [
       "       release_year       runtime        rating         votes       decade\n",
       "count  10000.000000  10000.000000  10000.000000  1.000000e+04  10000.00000\n",
       "mean    2001.752100    109.671600      6.635040  8.338813e+04   1997.72500\n",
       "std       16.558975     21.005134      1.021927  1.551992e+05     16.90275\n",
       "min     1941.000000     62.000000      1.000000  8.749000e+03   1940.00000\n",
       "25%     1994.000000     95.000000      6.100000  1.509175e+04   1990.00000\n",
       "50%     2006.000000    106.000000      6.700000  3.056650e+04   2000.00000\n",
       "75%     2014.000000    119.000000      7.400000  8.122450e+04   2010.00000\n",
       "max     2022.000000    237.000000      9.300000  2.540263e+06   2020.00000"
      ]
     },
     "execution_count": 22,
     "metadata": {},
     "output_type": "execute_result"
    }
   ],
   "source": [
    "movies.describe()"
   ]
  },
  {
   "cell_type": "code",
   "execution_count": 35,
   "id": "866fdef6",
   "metadata": {
    "ExecuteTime": {
     "end_time": "2022-02-24T21:07:57.961998Z",
     "start_time": "2022-02-24T21:07:57.947038Z"
    }
   },
   "outputs": [],
   "source": [
    "#dropping columns that we will not be using further\n",
    "movies.drop(columns = [\n",
    "    'wiki_scrape',\n",
    "    'backup_plot',\n",
    "    'scraped_data',\n",
    "    'title',\n",
    "    'original_title',\n",
    "    'wiki_title',\n",
    "    'directors',\n",
    "    'writers',\n",
    "    'genres',\n",
    "    'cast_crew',\n",
    "    'decade'\n",
    "], inplace=True)"
   ]
  },
  {
   "cell_type": "code",
   "execution_count": 68,
   "id": "d1f400d2",
   "metadata": {
    "ExecuteTime": {
     "end_time": "2022-02-24T21:39:00.843825Z",
     "start_time": "2022-02-24T21:39:00.431915Z"
    }
   },
   "outputs": [],
   "source": [
    "#sentiment analysis\n",
    "\n",
    "#removing unnecessary characters\n",
    "movies['plot'] = movies['plot'].apply(\n",
    "    lambda x: str(x.replace('\\n', '').replace(\"\\\\\", '')))\n",
    "\n",
    "movies['plot'] = [re.sub('[\\(\\[].*?[\\)\\]]', '', t.replace('\\n', '')) for t in movies['plot']]\n",
    "\n",
    "movies['plot'] = [t.replace('/\\\\', ' ').replace(':-)', ' ').replace('tdb> ', ' ') \n",
    "              for t in movies['plot']]\n",
    "\n",
    "movies['plot'] = [t.replace('=', ' ').replace('--', ' ').replace('_', ' ')\\\n",
    "              .replace('}', ' ').replace('*', ' ').replace('^', ' ')\\\n",
    "              .replace('~', ' ')\n",
    "              for t in movies['plot']]\n",
    "\n",
    "movies['plot'] = [t.replace('- < > -', ' ').replace('|', ' ').replace('*-', ' ') \n",
    "              for t in movies['plot']]\n",
    "\n",
    "movies['plot'] = [t.replace('...', ' ').replace('\\t', ' ').lower().strip() \n",
    "              for t in movies['plot']]\n",
    "\n"
   ]
  },
  {
   "cell_type": "code",
   "execution_count": 69,
   "id": "dd87ab51",
   "metadata": {
    "ExecuteTime": {
     "end_time": "2022-02-24T21:39:13.028111Z",
     "start_time": "2022-02-24T21:39:13.004175Z"
    }
   },
   "outputs": [],
   "source": [
    "temp = movies[:50]"
   ]
  },
  {
   "cell_type": "code",
   "execution_count": 72,
   "id": "c37b7853",
   "metadata": {
    "ExecuteTime": {
     "end_time": "2022-02-24T21:55:03.455014Z",
     "start_time": "2022-02-24T21:41:02.828778Z"
    }
   },
   "outputs": [],
   "source": [
    "#creating a column that indicates the polarity of the synopsis, hopefully to\n",
    "#reveal if a movie is a feel good movie or not\n",
    "\n",
    "#setting up sentiment analysis and creating column\n",
    "\n",
    "nlp = spacy.load('en_core_web_sm')\n",
    "\n",
    "nlp.add_pipe('spacytextblob')\n",
    "\n",
    "movies['plot_polarity'] = movies['plot'].apply(lambda x: nlp(x)._.polarity)  "
   ]
  },
  {
   "cell_type": "code",
   "execution_count": 73,
   "id": "f5a255dc",
   "metadata": {
    "ExecuteTime": {
     "end_time": "2022-02-24T22:25:59.184667Z",
     "start_time": "2022-02-24T22:25:58.532378Z"
    }
   },
   "outputs": [],
   "source": [
    "movies.to_csv('./data/data_for_eda.csv')"
   ]
  },
  {
   "cell_type": "code",
   "execution_count": null,
   "id": "b5653760",
   "metadata": {},
   "outputs": [],
   "source": []
  }
 ],
 "metadata": {
  "kernelspec": {
   "display_name": "Python 3",
   "language": "python",
   "name": "python3"
  },
  "language_info": {
   "codemirror_mode": {
    "name": "ipython",
    "version": 3
   },
   "file_extension": ".py",
   "mimetype": "text/x-python",
   "name": "python",
   "nbconvert_exporter": "python",
   "pygments_lexer": "ipython3",
   "version": "3.8.8"
  }
 },
 "nbformat": 4,
 "nbformat_minor": 5
}
