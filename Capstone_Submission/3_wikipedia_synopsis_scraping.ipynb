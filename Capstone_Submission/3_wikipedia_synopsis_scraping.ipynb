{
 "cells": [
  {
   "cell_type": "markdown",
   "id": "6343fdfe",
   "metadata": {},
   "source": [
    "This notebook took slightly over 2 hours to run on my computer, so I do not recommend running it. "
   ]
  },
  {
   "cell_type": "code",
   "execution_count": 91,
   "id": "2056df46",
   "metadata": {
    "ExecuteTime": {
     "end_time": "2022-02-21T20:40:14.668573Z",
     "start_time": "2022-02-21T20:40:14.660595Z"
    }
   },
   "outputs": [],
   "source": [
    "import pandas as pd\n",
    "import numpy as np\n",
    "import matplotlib.pyplot as plt\n",
    "\n",
    "import requests\n",
    "\n",
    "import wikipediaapi"
   ]
  },
  {
   "cell_type": "code",
   "execution_count": 92,
   "id": "76936858",
   "metadata": {
    "ExecuteTime": {
     "end_time": "2022-02-21T20:40:15.503342Z",
     "start_time": "2022-02-21T20:40:15.296894Z"
    }
   },
   "outputs": [],
   "source": [
    "movies = pd.read_csv('./data/for_wiki_scraping.csv')\n",
    "movies.drop(columns=['Unnamed: 0', 'Unnamed: 0.1'], inplace=True)"
   ]
  },
  {
   "cell_type": "code",
   "execution_count": 93,
   "id": "66e014e2",
   "metadata": {
    "ExecuteTime": {
     "end_time": "2022-02-21T20:40:21.111347Z",
     "start_time": "2022-02-21T20:40:21.100376Z"
    }
   },
   "outputs": [],
   "source": [
    "#creating a function to grab the sections from a movie's wiki page\n",
    "def get_wiki_info(page):\n",
    "    temp_dict = {}\n",
    "    for header in page.sections:\n",
    "        temp_dict[header.title] = header.text\n",
    "    return temp_dict"
   ]
  },
  {
   "cell_type": "code",
   "execution_count": 94,
   "id": "4cc9a4f2",
   "metadata": {
    "ExecuteTime": {
     "end_time": "2022-02-21T22:44:35.570455Z",
     "start_time": "2022-02-21T20:40:22.392921Z"
    }
   },
   "outputs": [],
   "source": [
    "temp_list = []\n",
    "wiki_wiki = wikipediaapi.Wikipedia('en')\n",
    "\n",
    "for movie_title in movies['wiki_title']:\n",
    "    try:\n",
    "        #creating a blank dictionary\n",
    "        temp_dict = {}\n",
    "        #checking if page exists\n",
    "        page = wiki_wiki.page(movie_title.replace(' ', '_'))\n",
    "        page2 = wiki_wiki.page((movie_title[:-12] + ' (film)').replace(' ', '_'))\n",
    "        page3 = wiki_wiki.page((movie_title[:-12]).replace(' ', '_'))\n",
    "\n",
    "        if page.exists() == True:\n",
    "            temp_list.append(get_wiki_info(page))\n",
    "        elif page2.exists() == True:\n",
    "                temp_list.append(get_wiki_info(page2))\n",
    "        elif page3.exists() == True:\n",
    "                temp_list.append(get_wiki_info(page3))\n",
    "        else:\n",
    "            temp_list.append({'plot':'ERROR'})\n",
    "    except:\n",
    "        temp_list.append({'plot':'ERROR'})\n",
    "        \n",
    "movies['wiki_scrape'] = temp_list\n",
    "movies.to_csv('./data/with_wiki_scrape_complete.csv')"
   ]
  }
 ],
 "metadata": {
  "kernelspec": {
   "display_name": "Python 3",
   "language": "python",
   "name": "python3"
  },
  "language_info": {
   "codemirror_mode": {
    "name": "ipython",
    "version": 3
   },
   "file_extension": ".py",
   "mimetype": "text/x-python",
   "name": "python",
   "nbconvert_exporter": "python",
   "pygments_lexer": "ipython3",
   "version": "3.8.8"
  }
 },
 "nbformat": 4,
 "nbformat_minor": 5
}
