{
 "cells": [
  {
   "cell_type": "code",
   "execution_count": 5,
   "id": "45001d18",
   "metadata": {
    "ExecuteTime": {
     "end_time": "2022-04-12T02:19:21.834164Z",
     "start_time": "2022-04-12T02:19:21.816211Z"
    }
   },
   "outputs": [],
   "source": [
    "import pandas as pd\n",
    "import numpy as np\n",
    "import matplotlib.pyplot as plt\n",
    "\n",
    "import requests\n",
    "\n",
    "import wikipedia"
   ]
  },
  {
   "cell_type": "code",
   "execution_count": 6,
   "id": "391ed96a",
   "metadata": {
    "ExecuteTime": {
     "end_time": "2022-04-12T02:19:28.411568Z",
     "start_time": "2022-04-12T02:19:21.835161Z"
    }
   },
   "outputs": [],
   "source": [
    "movies = pd.read_csv('./data/final.csv')\n",
    "\n",
    "movies.drop(columns=[\n",
    "                   'region',\n",
    "                   'isOriginalTitle',\n",
    "#                    'originalTitle',\n",
    "                   'endYear' \n",
    "                   ], inplace=True)\n",
    "\n",
    "movies.rename(columns={'startYear':'release_year',\n",
    "                     'runtimeMinutes':'runtime',\n",
    "                     'averageRating':'rating', \n",
    "                     'numVotes':'votes',\n",
    "                     'nconst':'cast_crew',\n",
    "                     'primaryTitle':'primary_title',\n",
    "                     'originalTitle':'original_title'\n",
    "                     }, inplace=True)"
   ]
  },
  {
   "cell_type": "code",
   "execution_count": 7,
   "id": "09f2f933",
   "metadata": {
    "ExecuteTime": {
     "end_time": "2022-04-12T02:19:28.426528Z",
     "start_time": "2022-04-12T02:19:28.412566Z"
    }
   },
   "outputs": [
    {
     "data": {
      "text/plain": [
       "(1634416, 19)"
      ]
     },
     "execution_count": 7,
     "metadata": {},
     "output_type": "execute_result"
    }
   ],
   "source": [
    "movies.shape"
   ]
  },
  {
   "cell_type": "code",
   "execution_count": 8,
   "id": "dea7cad8",
   "metadata": {
    "ExecuteTime": {
     "end_time": "2022-04-12T02:19:30.677507Z",
     "start_time": "2022-04-12T02:19:28.427527Z"
    }
   },
   "outputs": [],
   "source": [
    "#removing the rows that lack critical information\n",
    "movies = movies[movies['release_year'] != '\\\\N']\n",
    "movies = movies[movies['rating'] != '\\\\N']\n",
    "movies = movies[movies['runtime'] != '\\\\N']\n",
    "movies = movies[movies['genres'] != '\\\\N']\n",
    "movies = movies[movies['directors'] != '\\\\N']\n",
    "movies = movies[movies['votes'] != '\\\\N']\n",
    "\n",
    "#dropping nulls to try and reduce the size of movie pool\n",
    "movies.dropna(inplace=True)"
   ]
  },
  {
   "cell_type": "code",
   "execution_count": 9,
   "id": "9fffae43",
   "metadata": {
    "ExecuteTime": {
     "end_time": "2022-04-12T02:19:30.693465Z",
     "start_time": "2022-04-12T02:19:30.678504Z"
    }
   },
   "outputs": [
    {
     "data": {
      "text/plain": [
       "(1113625, 19)"
      ]
     },
     "execution_count": 9,
     "metadata": {},
     "output_type": "execute_result"
    }
   ],
   "source": [
    "movies.shape"
   ]
  },
  {
   "cell_type": "code",
   "execution_count": 10,
   "id": "eba98a35",
   "metadata": {
    "ExecuteTime": {
     "end_time": "2022-04-12T02:19:32.216390Z",
     "start_time": "2022-04-12T02:19:30.695460Z"
    }
   },
   "outputs": [],
   "source": [
    "#release year should be an int\n",
    "movies['release_year'] = movies['release_year'].apply(lambda x: int(x))\n",
    "\n",
    "#runtime should be an int\n",
    "movies['runtime'] = movies['runtime'].apply(lambda x: int(x))\n",
    "\n",
    "#votes should be an int, not float\n",
    "movies['votes'] = movies['votes'].apply(lambda x: int(x))\n",
    "\n",
    "#make year a string for combining\n",
    "movies['release_year'] = movies['release_year'].apply(lambda x: str(x))"
   ]
  },
  {
   "cell_type": "code",
   "execution_count": 11,
   "id": "4718af0b",
   "metadata": {
    "ExecuteTime": {
     "end_time": "2022-04-12T02:19:32.498635Z",
     "start_time": "2022-04-12T02:19:32.217388Z"
    }
   },
   "outputs": [],
   "source": [
    "#creating a title for wikipedia scraping purposes\n",
    "movies['wiki_title'] = movies['primary_title'] + \" (\" + movies['release_year'] + ' film)'"
   ]
  },
  {
   "cell_type": "code",
   "execution_count": 12,
   "id": "0795dfc8",
   "metadata": {
    "ExecuteTime": {
     "end_time": "2022-04-12T02:19:33.956735Z",
     "start_time": "2022-04-12T02:19:32.500631Z"
    }
   },
   "outputs": [],
   "source": [
    "#need to break up genres into a list of the categories it falls into\n",
    "movies['genres'] = movies['genres'].apply(lambda x: x.split(','))\n",
    "\n",
    "#make year an int again\n",
    "movies['release_year'] = movies['release_year'].apply(lambda x: int(x))"
   ]
  },
  {
   "cell_type": "code",
   "execution_count": 13,
   "id": "d5663661",
   "metadata": {
    "ExecuteTime": {
     "end_time": "2022-04-12T02:19:33.972692Z",
     "start_time": "2022-04-12T02:19:33.957733Z"
    },
    "scrolled": true
   },
   "outputs": [
    {
     "data": {
      "text/plain": [
       "Unnamed: 0          int64\n",
       "tconst             object\n",
       "ordering_x          int64\n",
       "title              object\n",
       "primary_title      object\n",
       "original_title     object\n",
       "release_year        int64\n",
       "runtime             int64\n",
       "genres             object\n",
       "directors          object\n",
       "writers            object\n",
       "rating            float64\n",
       "votes               int64\n",
       "ordering_y        float64\n",
       "nconst_x           object\n",
       "category           object\n",
       "job                object\n",
       "characters         object\n",
       "nconst_y           object\n",
       "wiki_title         object\n",
       "dtype: object"
      ]
     },
     "execution_count": 13,
     "metadata": {},
     "output_type": "execute_result"
    }
   ],
   "source": [
    "movies.dtypes"
   ]
  },
  {
   "cell_type": "code",
   "execution_count": 14,
   "id": "65008750",
   "metadata": {
    "ExecuteTime": {
     "end_time": "2022-04-12T02:19:34.495294Z",
     "start_time": "2022-04-12T02:19:33.973690Z"
    }
   },
   "outputs": [],
   "source": [
    "movies = movies[movies['release_year']> 1940]"
   ]
  },
  {
   "cell_type": "code",
   "execution_count": 15,
   "id": "d6a813d2",
   "metadata": {
    "ExecuteTime": {
     "end_time": "2022-04-12T02:19:34.905197Z",
     "start_time": "2022-04-12T02:19:34.496291Z"
    }
   },
   "outputs": [],
   "source": [
    "#restricting the dataframe to more well known movies\n",
    "movies = movies[movies['runtime']>60]\n",
    "movies = movies[movies['runtime']<240]"
   ]
  },
  {
   "cell_type": "code",
   "execution_count": 16,
   "id": "c2b1a1e4",
   "metadata": {
    "ExecuteTime": {
     "end_time": "2022-04-12T02:19:35.334050Z",
     "start_time": "2022-04-12T02:19:34.906195Z"
    }
   },
   "outputs": [],
   "source": [
    "movies = movies.sort_values('votes', ascending=False).head(10000)"
   ]
  },
  {
   "cell_type": "code",
   "execution_count": 17,
   "id": "385712e1",
   "metadata": {
    "ExecuteTime": {
     "end_time": "2022-04-12T02:19:35.350008Z",
     "start_time": "2022-04-12T02:19:35.335048Z"
    }
   },
   "outputs": [
    {
     "data": {
      "text/plain": [
       "(10000, 20)"
      ]
     },
     "execution_count": 17,
     "metadata": {},
     "output_type": "execute_result"
    }
   ],
   "source": [
    "movies.shape"
   ]
  },
  {
   "cell_type": "code",
   "execution_count": 18,
   "id": "41d106f1",
   "metadata": {
    "ExecuteTime": {
     "end_time": "2022-04-12T02:19:35.365965Z",
     "start_time": "2022-04-12T02:19:35.351006Z"
    },
    "scrolled": true
   },
   "outputs": [
    {
     "ename": "NameError",
     "evalue": "name 'scrape_test_data' is not defined",
     "output_type": "error",
     "traceback": [
      "\u001b[1;31m---------------------------------------------------------------------------\u001b[0m",
      "\u001b[1;31mNameError\u001b[0m                                 Traceback (most recent call last)",
      "\u001b[1;32m<ipython-input-18-3032545d1e9d>\u001b[0m in \u001b[0;36m<module>\u001b[1;34m\u001b[0m\n\u001b[1;32m----> 1\u001b[1;33m \u001b[0mtest_list\u001b[0m \u001b[1;33m=\u001b[0m \u001b[0mlist\u001b[0m\u001b[1;33m(\u001b[0m\u001b[0mscrape_test_data\u001b[0m\u001b[1;33m[\u001b[0m\u001b[1;34m'wiki_title'\u001b[0m\u001b[1;33m]\u001b[0m\u001b[1;33m)\u001b[0m\u001b[1;33m\u001b[0m\u001b[1;33m\u001b[0m\u001b[0m\n\u001b[0m",
      "\u001b[1;31mNameError\u001b[0m: name 'scrape_test_data' is not defined"
     ]
    }
   ],
   "source": [
    "# test_list = list(scrape_test_data['wiki_title'])"
   ]
  },
  {
   "cell_type": "code",
   "execution_count": null,
   "id": "ce1ce59d",
   "metadata": {
    "ExecuteTime": {
     "end_time": "2022-04-12T02:19:35.366963Z",
     "start_time": "2022-04-12T02:19:21.828Z"
    }
   },
   "outputs": [],
   "source": [
    "# #just title\n",
    "# test_list[0][:-12]\n",
    "# #title + (film)\n",
    "# test_list[0][:-10] + test_list[0][-5:]\n",
    "# #title +(year film)\n",
    "# test_list[0]"
   ]
  },
  {
   "cell_type": "code",
   "execution_count": null,
   "id": "bb91d976",
   "metadata": {
    "ExecuteTime": {
     "end_time": "2022-04-12T02:19:35.367961Z",
     "start_time": "2022-04-12T02:19:21.829Z"
    },
    "scrolled": true
   },
   "outputs": [],
   "source": [
    "# plot_list = []\n",
    "# for title in test_list:\n",
    "#     try:\n",
    "#         #just the title\n",
    "#         plot_list.append((wikipedia.WikipediaPage(title[:-12]).section('Plot')))\n",
    "#     except wikipedia.DisambiguationError:\n",
    "#         try:\n",
    "#             #title + (film)\n",
    "#             plot_list.append((wikipedia.WikipediaPage(title[:-10] + title[-5:]).section('Plot')))\n",
    "#         except wikipedia.DisambiguationError:\n",
    "#             try:\n",
    "#                 #title + (year film)\n",
    "#                 plot_list.append((wikipedia.WikipediaPage(title).section('Plot')))\n",
    "#             except:\n",
    "#                 plot_list.append('ERROR')\n",
    "            "
   ]
  },
  {
   "cell_type": "code",
   "execution_count": null,
   "id": "1568d9cc",
   "metadata": {
    "ExecuteTime": {
     "end_time": "2022-04-12T02:19:35.368958Z",
     "start_time": "2022-04-12T02:19:21.830Z"
    }
   },
   "outputs": [],
   "source": [
    "from time import sleep"
   ]
  },
  {
   "cell_type": "code",
   "execution_count": null,
   "id": "4be17839",
   "metadata": {
    "ExecuteTime": {
     "end_time": "2022-04-12T02:19:35.369955Z",
     "start_time": "2022-04-12T02:19:21.831Z"
    }
   },
   "outputs": [],
   "source": [
    "# #Using IMDB api to get plot synopses\n",
    "# movies_partial = movies[:1000]\n",
    "\n",
    "# plot_list = []\n",
    "\n",
    "# for movie_id in movies_partial['tconst']:\n",
    "#     sleep(.05)\n",
    "#     url = \"https://imdb8.p.rapidapi.com/title/get-synopses\"\n",
    "#     querystring = {\"tconst\":movie_id}\n",
    "#     headers = {\n",
    "#         'x-rapidapi-host': \"imdb8.p.rapidapi.com\",\n",
    "#         'x-rapidapi-key': \"d297a6e256msh4465e184912b816p1075cdjsndfa831fd16bb\"\n",
    "#         }\n",
    "#     response = requests.request(\"GET\", url, headers=headers, params=querystring)\n",
    "\n",
    "#     plot_list.append(response.text)\n",
    "\n",
    "# movies_partial['synopsis'] = plot_list\n",
    "# movies_partial.to_csv('./data/movies_partial_1.csv')"
   ]
  },
  {
   "cell_type": "markdown",
   "id": "d60fe3c0",
   "metadata": {},
   "source": [
    "using an IMDB alternative API for pulling data. This cell will not run since I have redacted the paid API key"
   ]
  },
  {
   "cell_type": "code",
   "execution_count": null,
   "id": "db24fd71",
   "metadata": {
    "ExecuteTime": {
     "start_time": "2022-04-12T02:22:00.881Z"
    }
   },
   "outputs": [],
   "source": [
    "import requests\n",
    "\n",
    "output_list = []\n",
    "\n",
    "for movie_id in movies['tconst']:\n",
    "\n",
    "    url = \"https://movie-database-imdb-alternative.p.rapidapi.com/\"\n",
    "\n",
    "    querystring = {\"plot\":\"full\",\"r\":\"json\",\"i\":movie_id}\n",
    "\n",
    "    headers = {\n",
    "        'x-rapidapi-host': \"movie-database-imdb-alternative.p.rapidapi.com\",\n",
    "        'x-rapidapi-key': \"-----------------------------------------------\"\n",
    "        }\n",
    "\n",
    "    response = requests.request(\"GET\", url, headers=headers, params=querystring)\n",
    "\n",
    "    output_list.append(response.text)"
   ]
  },
  {
   "cell_type": "code",
   "execution_count": null,
   "id": "bc020ee6",
   "metadata": {
    "ExecuteTime": {
     "end_time": "2022-04-12T02:19:35.371950Z",
     "start_time": "2022-04-12T02:19:21.833Z"
    }
   },
   "outputs": [],
   "source": [
    "saving the data from the api to a variable.\n",
    "movies['scraped_data'] = output_list"
   ]
  },
  {
   "cell_type": "code",
   "execution_count": null,
   "id": "714536ac",
   "metadata": {
    "ExecuteTime": {
     "end_time": "2022-04-12T02:19:35.372948Z",
     "start_time": "2022-04-12T02:19:21.834Z"
    }
   },
   "outputs": [],
   "source": [
    "movies.to_csv('./data/movies_with_rapid_api_data.csv')"
   ]
  },
  {
   "cell_type": "code",
   "execution_count": null,
   "id": "67794d4d",
   "metadata": {
    "ExecuteTime": {
     "end_time": "2022-04-12T02:19:35.374942Z",
     "start_time": "2022-04-12T02:19:21.835Z"
    }
   },
   "outputs": [],
   "source": [
    "#getting the imdb id\n",
    "a.split('\\\"imdbID\\\":\\\"')[1].split('\\\"')[0]"
   ]
  },
  {
   "cell_type": "code",
   "execution_count": null,
   "id": "7355b9bb",
   "metadata": {
    "ExecuteTime": {
     "end_time": "2022-04-12T02:19:35.375939Z",
     "start_time": "2022-04-12T02:19:21.836Z"
    }
   },
   "outputs": [],
   "source": [
    "#creating empty lists to store relevant info from api calls as columns\n",
    "id_list = []\n",
    "tomato_score_list = []\n",
    "metacritic_score_list = []\n",
    "mpaa_rating_list = []\n",
    "test = movies2\n",
    "\n",
    "#parsing through the text blocks to pull out the relevant information for each variable\n",
    "#needs try and except functions since some movies do not have all of the info. \n",
    "for movie_description in test['scraped_data']:\n",
    "    #getting imdb ratings\n",
    "    id_list.append(movie_description.split('\\\"imdbID\\\":\\\"')[1].split('\\\"')[0])\n",
    "    #getting rotten tomatoes scores\n",
    "    try:\n",
    "        tomato_score_list.append(movie_description.split('\\\"Rotten Tomatoes\\\"')[1].split(',\\\"Value\":')[1].split('}')[0].replace('\\\"', ''))    \n",
    "    except: tomato_score_list.append(np.nan)\n",
    "    #getting metacritic scores\n",
    "    try:\n",
    "        metacritic_score_list.append(movie_description.split('\\\"Metacritic\"')[1].split(',\\\"Value\":')[1].split('}')[0].replace('\\\"', ''))\n",
    "    except: metacritic_score_list.append(np.nan)\n",
    "    #getting the MPAA rating for the film\n",
    "    mpaa_rating_list.append(movie_description.split('\\\"Rated\\\":')[1].split(',\\\"Released\\\"')[0].replace('\\\"', ''))\n",
    "\n",
    "#adding the variables to the dataframe\n",
    "movies2['tconst'] = id_list\n",
    "movies2['tomato_score'] = tomato_score_list\n",
    "movies2['metacritic_score'] = metacritic_score_list\n",
    "movies2['mpaa_rating'] = mpaa_rating_list"
   ]
  },
  {
   "cell_type": "code",
   "execution_count": null,
   "id": "1c9f9f4f",
   "metadata": {
    "ExecuteTime": {
     "end_time": "2022-04-12T02:19:35.376936Z",
     "start_time": "2022-04-12T02:19:21.837Z"
    }
   },
   "outputs": [],
   "source": [
    "movies2.to_csv('./data/for_wiki_scraping.csv')"
   ]
  }
 ],
 "metadata": {
  "kernelspec": {
   "display_name": "Python 3",
   "language": "python",
   "name": "python3"
  },
  "language_info": {
   "codemirror_mode": {
    "name": "ipython",
    "version": 3
   },
   "file_extension": ".py",
   "mimetype": "text/x-python",
   "name": "python",
   "nbconvert_exporter": "python",
   "pygments_lexer": "ipython3",
   "version": "3.8.8"
  }
 },
 "nbformat": 4,
 "nbformat_minor": 5
}
